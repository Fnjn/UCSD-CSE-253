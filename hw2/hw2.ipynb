{
 "cells": [
  {
   "cell_type": "code",
   "execution_count": null,
   "metadata": {},
   "outputs": [],
   "source": [
    "import numpy as np\n",
    "%matplotlib inline\n",
    "import matplotlib.pyplot as plt\n",
    "\n",
    "%load_ext autoreload\n",
    "%autoreload 2\n",
    "from utility import load_mnist_images, load_mnist_labels, one_hot_encoding, split_holdout, plot_cost_acc\n",
    "from backpro import NN_model"
   ]
  },
  {
   "cell_type": "code",
   "execution_count": 29,
   "metadata": {},
   "outputs": [],
   "source": [
    "train_images = load_mnist_images('train-images.idx3-ubyte',2000)\n",
    "train_labels = load_mnist_labels('train-labels.idx1-ubyte',2000)\n",
    "test_images = load_mnist_images('t10k-images.idx3-ubyte',200)\n",
    "test_labels = load_mnist_labels('t10k-labels.idx1-ubyte',200)\n",
    "\n",
    "#test_images = test_images[-2000:]\n",
    "#test_labels = test_labels[-2000:]\n",
    "\n",
    "'''\n",
    "# Show A Image\n",
    "plt.gray()\n",
    "plt.imshow(train_images_ori[50])\n",
    "plt.show()\n",
    "'''\n",
    "\n",
    "m_train = train_images.shape[0] # number of training data\n",
    "m_test = test_images.shape[0] # number of test data\n",
    "\n",
    "\n",
    "\n",
    "train_images = train_images.reshape(m_train, -1).T / 127.5 - 1\n",
    "test_images = test_images.reshape(m_test, -1).T / 127.5 - 1\n",
    "\n",
    "\n",
    "train_X = train_images\n",
    "test_X = test_images\n",
    "\n",
    "train_Y = one_hot_encoding(train_labels, 10)\n",
    "test_Y = one_hot_encoding(test_labels, 10)\n",
    "\n",
    "holdout_ratio = 0.1;\n",
    "train_X, train_Y, holdout_X, holdout_Y = split_holdout(train_images, train_Y, holdout_ratio)"
   ]
  },
  {
   "cell_type": "code",
   "execution_count": 3,
   "metadata": {},
   "outputs": [
    {
     "name": "stdout",
     "output_type": "stream",
     "text": [
      "19 epoches cost: 0.081044\n",
      "39 epoches cost: 0.042821\n",
      "59 epoches cost: 0.030619\n",
      "79 epoches cost: 0.040156\n",
      "99 epoches cost: 0.012097\n",
      "119 epoches cost: 0.008392\n",
      "139 epoches cost: 0.007576\n",
      "159 epoches cost: 0.003609\n",
      "179 epoches cost: 0.004070\n",
      "199 epoches cost: 0.002709\n",
      "0.93\n",
      "[7 2 1 0 4 1 4 9 6 9 0 6 9 0 1 5 9 7 3 4]\n",
      "[7 2 1 0 4 1 4 9 5 9 0 6 9 0 1 5 9 7 3 4]\n"
     ]
    }
   ],
   "source": [
    "layers = [784, 64, 10]\n",
    "\n",
    "model = NN_model(layers, 200)\n",
    "model.fit(train_X, train_Y)\n",
    "model.predict(test_X, test_Y)\n",
    "    \n",
    "print(model.accuracy)\n",
    "print(model.Y_p[:20])\n",
    "print(np.argmax(test_Y, axis=0)[:20])"
   ]
  },
  {
   "cell_type": "code",
   "execution_count": null,
   "metadata": {},
   "outputs": [],
   "source": [
    "model.gradient_check(train_X, train_Y)"
   ]
  },
  {
   "cell_type": "code",
   "execution_count": 5,
   "metadata": {},
   "outputs": [
    {
     "name": "stdout",
     "output_type": "stream",
     "text": [
      "19 epoches cost: 0.325830\n",
      "39 epoches cost: 0.138207\n",
      "59 epoches cost: 0.073568\n",
      "79 epoches cost: 0.031884\n",
      "99 epoches cost: 0.022301\n",
      "0.925\n",
      "[7 2 1 0 4 1 4 9 6 9 0 6 9 0 1 5 9 7 3 4]\n",
      "[7 2 1 0 4 1 4 9 5 9 0 6 9 0 1 5 9 7 3 4]\n"
     ]
    }
   ],
   "source": [
    "layers = [784, 32, 32, 10]\n",
    "\n",
    "model = NN_model(layers, 100)\n",
    "model.fit(train_X, train_Y)\n",
    "model.predict(test_X, test_Y)\n",
    "    \n",
    "print(model.accuracy)\n",
    "print(model.Y_p[:20])\n",
    "print(np.argmax(test_Y, axis=0)[:20])"
   ]
  },
  {
   "cell_type": "code",
   "execution_count": 9,
   "metadata": {},
   "outputs": [
    {
     "name": "stdout",
     "output_type": "stream",
     "text": [
      "19 epoches cost: 0.411289\n",
      "39 epoches cost: 0.248137\n",
      "59 epoches cost: 0.102516\n",
      "79 epoches cost: 0.178045\n",
      "99 epoches cost: 0.097466\n",
      "0.88\n",
      "[7 2 1 0 4 1 4 9 6 9 0 6 9 0 1 5 9 7 3 4]\n",
      "[7 2 1 0 4 1 4 9 5 9 0 6 9 0 1 5 9 7 3 4]\n"
     ]
    }
   ],
   "source": [
    "layers = [784, 48, 16, 10]\n",
    "\n",
    "model = NN_model(layers, 100)\n",
    "model.fit(train_X, train_Y)\n",
    "model.predict(test_X, test_Y)\n",
    "    \n",
    "print(model.accuracy)\n",
    "print(model.Y_p[:20])\n",
    "print(np.argmax(test_Y, axis=0)[:20])"
   ]
  },
  {
   "cell_type": "code",
   "execution_count": null,
   "metadata": {},
   "outputs": [
    {
     "name": "stdout",
     "output_type": "stream",
     "text": [
      "20 epoches cost: 0.101659\n",
      "40 epoches cost: 0.013159\n",
      "60 epoches cost: 0.005325\n",
      "80 epoches cost: 0.003373\n"
     ]
    }
   ],
   "source": [
    "layers = [784, 300, 100, 10]\n",
    "\n",
    "model = NN_model(layers, 100)\n",
    "model.fit(train_X, train_Y)\n",
    "model.predict(test_X, test_Y)\n",
    "    \n",
    "print(model.accuracy)\n",
    "print(model.Y_p[:20])\n",
    "print(np.argmax(test_Y, axis=0)[:20])"
   ]
  },
  {
   "cell_type": "code",
   "execution_count": 42,
   "metadata": {},
   "outputs": [
    {
     "ename": "AttributeError",
     "evalue": "'NN_model' object has no attribute 'record'",
     "output_type": "error",
     "traceback": [
      "\u001b[0;31m---------------------------------------------------------------------------\u001b[0m",
      "\u001b[0;31mAttributeError\u001b[0m                            Traceback (most recent call last)",
      "\u001b[0;32m<ipython-input-42-44532cb81ed0>\u001b[0m in \u001b[0;36m<module>\u001b[0;34m()\u001b[0m\n\u001b[1;32m      2\u001b[0m \u001b[0;32mfrom\u001b[0m \u001b[0mbackpro\u001b[0m \u001b[0;32mimport\u001b[0m \u001b[0mNN_model\u001b[0m\u001b[0;34m\u001b[0m\u001b[0m\n\u001b[1;32m      3\u001b[0m \u001b[0mlayers\u001b[0m \u001b[0;34m=\u001b[0m \u001b[0;34m[\u001b[0m\u001b[0;36m784\u001b[0m\u001b[0;34m,\u001b[0m \u001b[0;36m32\u001b[0m\u001b[0;34m,\u001b[0m \u001b[0;36m32\u001b[0m\u001b[0;34m,\u001b[0m \u001b[0;36m10\u001b[0m\u001b[0;34m]\u001b[0m\u001b[0;34m\u001b[0m\u001b[0m\n\u001b[0;32m----> 4\u001b[0;31m \u001b[0mtrain\u001b[0m\u001b[0;34m,\u001b[0m \u001b[0mval\u001b[0m\u001b[0;34m,\u001b[0m \u001b[0mtest\u001b[0m \u001b[0;34m=\u001b[0m \u001b[0mmodel\u001b[0m\u001b[0;34m.\u001b[0m\u001b[0mfit\u001b[0m\u001b[0;34m(\u001b[0m\u001b[0mtrain_X\u001b[0m\u001b[0;34m,\u001b[0m \u001b[0mtrain_Y\u001b[0m\u001b[0;34m,\u001b[0m \u001b[0mholdout_X\u001b[0m\u001b[0;34m,\u001b[0m \u001b[0mholdout_Y\u001b[0m\u001b[0;34m,\u001b[0m \u001b[0mtest_X\u001b[0m\u001b[0;34m,\u001b[0m \u001b[0mtest_Y\u001b[0m\u001b[0;34m)\u001b[0m\u001b[0;34m\u001b[0m\u001b[0m\n\u001b[0m\u001b[1;32m      5\u001b[0m \u001b[0mplot_cost_acc\u001b[0m\u001b[0;34m(\u001b[0m\u001b[0mtrain\u001b[0m\u001b[0;34m,\u001b[0m \u001b[0mval\u001b[0m\u001b[0;34m,\u001b[0m \u001b[0mtest\u001b[0m\u001b[0;34m)\u001b[0m\u001b[0;34m\u001b[0m\u001b[0m\n",
      "\u001b[0;32m~/CSE-253/hw2/backpro.py\u001b[0m in \u001b[0;36mfit\u001b[0;34m(self, X, Y, holdout_X, holdout_Y, test_X, test_Y)\u001b[0m\n\u001b[1;32m    169\u001b[0m                 self.parameters, self.cost = adam_optimize(X_batches[j], Y_batches[j], self.parameters, \\\n\u001b[1;32m    170\u001b[0m                 self.layers, self.learning_rate, self.lambd, self.beta1, self.beta2, self.epsilon)\n\u001b[0;32m--> 171\u001b[0;31m             \u001b[0mprint\u001b[0m\u001b[0;34m(\u001b[0m\u001b[0mself\u001b[0m\u001b[0;34m.\u001b[0m\u001b[0mrecord\u001b[0m\u001b[0;34m)\u001b[0m\u001b[0;34m\u001b[0m\u001b[0m\n\u001b[0m\u001b[1;32m    172\u001b[0m             \u001b[0;31m# record plot data, toggle by set record to True and set record period\u001b[0m\u001b[0;34m\u001b[0m\u001b[0;34m\u001b[0m\u001b[0m\n\u001b[1;32m    173\u001b[0m             \u001b[0;32mif\u001b[0m \u001b[0mself\u001b[0m\u001b[0;34m.\u001b[0m\u001b[0mrecord\u001b[0m \u001b[0;32mand\u001b[0m \u001b[0;34m(\u001b[0m\u001b[0mi\u001b[0m\u001b[0;34m+\u001b[0m\u001b[0;36m1\u001b[0m\u001b[0;34m)\u001b[0m \u001b[0;34m%\u001b[0m \u001b[0mself\u001b[0m\u001b[0;34m.\u001b[0m\u001b[0mrecord_period\u001b[0m \u001b[0;34m==\u001b[0m \u001b[0;36m0\u001b[0m\u001b[0;34m:\u001b[0m\u001b[0;34m\u001b[0m\u001b[0m\n",
      "\u001b[0;31mAttributeError\u001b[0m: 'NN_model' object has no attribute 'record'"
     ]
    }
   ],
   "source": [
    "# holdout set + test set\n",
    "\n",
    "layers = [784, 32, 32, 10]\n",
    "model = NN_model(layers, 100, record=True)\n",
    "train, val, test = model.fit(train_X, train_Y, holdout_X, holdout_Y, test_X, test_Y)\n",
    "plot_cost_acc(train, val, test)"
   ]
  }
 ],
 "metadata": {
  "kernelspec": {
   "display_name": "Python 3",
   "language": "python",
   "name": "python3"
  },
  "language_info": {
   "codemirror_mode": {
    "name": "ipython",
    "version": 3
   },
   "file_extension": ".py",
   "mimetype": "text/x-python",
   "name": "python",
   "nbconvert_exporter": "python",
   "pygments_lexer": "ipython3",
   "version": "3.5.2"
  }
 },
 "nbformat": 4,
 "nbformat_minor": 2
}
