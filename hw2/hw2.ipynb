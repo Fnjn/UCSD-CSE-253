{
 "cells": [
  {
   "cell_type": "code",
   "execution_count": 1,
   "metadata": {
    "collapsed": true
   },
   "outputs": [],
   "source": [
    "import numpy as np\n",
    "%matplotlib inline\n",
    "import matplotlib.pyplot as plt\n",
    "\n",
    "from utility import load_mnist_images, load_mnist_labels, one_hot_encoding\n",
    "from backpro import NN_model"
   ]
  },
  {
   "cell_type": "code",
   "execution_count": 2,
   "metadata": {},
   "outputs": [],
   "source": [
    "train_images = load_mnist_images('train-images.idx3-ubyte')\n",
    "train_labels = load_mnist_labels('train-labels.idx1-ubyte')\n",
    "test_images = load_mnist_images('t10k-images.idx3-ubyte')\n",
    "test_labels = load_mnist_labels('t10k-labels.idx1-ubyte')\n",
    "\n",
    "#test_images = test_images[-2000:]\n",
    "#test_labels = test_labels[-2000:]\n",
    "\n",
    "'''\n",
    "# Show A Image\n",
    "plt.gray()\n",
    "plt.imshow(train_images_ori[50])\n",
    "plt.show()\n",
    "'''\n",
    "\n",
    "m_train = train_images.shape[0] # number of training data\n",
    "m_test = test_images.shape[0] # number of test data\n",
    "\n",
    "train_images = train_images.reshape(m_train, -1).T / 127.5 - 1\n",
    "test_images = test_images.reshape(m_test, -1).T / 127.5 - 1\n",
    "\n",
    "train_X = train_images\n",
    "test_X = test_images\n",
    "train_Y = one_hot_encoding(train_labels, 10)\n",
    "test_Y = one_hot_encoding(test_labels, 10)"
   ]
  },
  {
   "cell_type": "code",
   "execution_count": 3,
   "metadata": {},
   "outputs": [
    {
     "name": "stdout",
     "output_type": "stream",
     "text": [
      "0 epoches cost: 0.201542\n",
      "20 epoches cost: 0.102667\n",
      "40 epoches cost: 0.007489\n",
      "60 epoches cost: 0.004709\n",
      "80 epoches cost: 0.006875\n",
      "0.9689\n",
      "[7 2 1 0 4 1 4 9 6 9 0 6 9 0 1 5 9 7 8 4]\n",
      "[7 2 1 ..., 4 5 6]\n"
     ]
    }
   ],
   "source": [
    "layers = [784, 64, 10]\n",
    "\n",
    "model = NN_model(layers, 100)\n",
    "model.fit(train_X, train_Y)\n",
    "model.predict(test_X, test_Y)\n",
    "    \n",
    "print(model.accuracy)\n",
    "print(model.Y_p[:20])\n",
    "print(np.argmax(test_Y, axis=0))"
   ]
  },
  {
   "cell_type": "code",
   "execution_count": 4,
   "metadata": {},
   "outputs": [
    {
     "name": "stdout",
     "output_type": "stream",
     "text": [
      "0 epoches cost: 0.442638\n",
      "20 epoches cost: 0.059116\n",
      "40 epoches cost: 0.054377\n",
      "60 epoches cost: 0.082907\n",
      "80 epoches cost: 0.034121\n",
      "0.9566\n",
      "[7 2 1 0 4 1 4 9 5 9 0 6 9 0 1 5 9 7 8 4]\n",
      "[7 2 1 ..., 4 5 6]\n"
     ]
    }
   ],
   "source": [
    "layers = [784, 32, 32, 10]\n",
    "\n",
    "model = NN_model(layers, 100)\n",
    "model.fit(train_X, train_Y)\n",
    "model.predict(test_X, test_Y)\n",
    "    \n",
    "print(model.accuracy)\n",
    "print(model.Y_p[:20])\n",
    "print(np.argmax(test_Y, axis=0))"
   ]
  },
  {
   "cell_type": "code",
   "execution_count": 5,
   "metadata": {},
   "outputs": [
    {
     "name": "stdout",
     "output_type": "stream",
     "text": [
      "0 epoches cost: 0.154603\n",
      "20 epoches cost: 0.007028\n",
      "40 epoches cost: 0.002690\n",
      "60 epoches cost: 0.000060\n",
      "80 epoches cost: 0.001013\n",
      "0.9803\n",
      "[7 2 1 0 4 1 4 9 5 9 0 6 9 0 1 5 9 7 3 4]\n",
      "[7 2 1 ..., 4 5 6]\n"
     ]
    }
   ],
   "source": [
    "layers = [784, 300, 100, 10]\n",
    "\n",
    "model = NN_model(layers, 100)\n",
    "model.fit(train_X, train_Y)\n",
    "model.predict(test_X, test_Y)\n",
    "    \n",
    "print(model.accuracy)\n",
    "print(model.Y_p[:20])\n",
    "print(np.argmax(test_Y, axis=0))"
   ]
  },
  {
   "cell_type": "code",
   "execution_count": null,
   "metadata": {
    "collapsed": true
   },
   "outputs": [],
   "source": []
  }
 ],
 "metadata": {
  "kernelspec": {
   "display_name": "Python 3",
   "language": "python",
   "name": "python3"
  },
  "language_info": {
   "codemirror_mode": {
    "name": "ipython",
    "version": 3
   },
   "file_extension": ".py",
   "mimetype": "text/x-python",
   "name": "python",
   "nbconvert_exporter": "python",
   "pygments_lexer": "ipython3",
   "version": "3.5.2"
  }
 },
 "nbformat": 4,
 "nbformat_minor": 2
}
