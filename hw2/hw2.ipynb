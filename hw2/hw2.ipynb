{
 "cells": [
  {
   "cell_type": "code",
   "execution_count": 1,
   "metadata": {},
   "outputs": [],
   "source": [
    "import numpy as np\n",
    "%matplotlib inline\n",
    "import matplotlib.pyplot as plt\n",
    "\n",
    "from utility import load_mnist_images, load_mnist_labels, one_hot_encoding\n",
    "from backpro import NN_model"
   ]
  },
  {
   "cell_type": "code",
   "execution_count": 2,
   "metadata": {},
   "outputs": [],
   "source": [
    "train_images = load_mnist_images('train-images.idx3-ubyte', 20000)\n",
    "train_labels = load_mnist_labels('train-labels.idx1-ubyte', 20000)\n",
    "test_images = load_mnist_images('t10k-images.idx3-ubyte')\n",
    "test_labels = load_mnist_labels('t10k-labels.idx1-ubyte')\n",
    "\n",
    "test_images = test_images[-2000:]\n",
    "test_labels = test_labels[-2000:]\n",
    "\n",
    "'''\n",
    "# Show A Image\n",
    "plt.gray()\n",
    "plt.imshow(train_images_ori[50])\n",
    "plt.show()\n",
    "'''\n",
    "\n",
    "m_train = train_images.shape[0] # number of training data\n",
    "m_test = test_images.shape[0] # number of test data\n",
    "\n",
    "train_images = train_images.reshape(m_train, -1).T / 127.5 - 1\n",
    "test_images = test_images.reshape(m_test, -1).T / 127.5 - 1\n",
    "\n",
    "train_X = train_images\n",
    "test_X = test_images\n",
    "train_Y = one_hot_encoding(train_labels, 10)\n",
    "test_Y = one_hot_encoding(test_labels, 10)"
   ]
  },
  {
   "cell_type": "code",
   "execution_count": 3,
   "metadata": {},
   "outputs": [
    {
     "name": "stdout",
     "output_type": "stream",
     "text": [
      "0 epoches cost: 0.452338\n",
      "20 epoches cost: 0.081733\n",
      "40 epoches cost: 0.007421\n",
      "60 epoches cost: 0.241497\n",
      "80 epoches cost: 0.004481\n",
      "0.9755\n",
      "[4 9 9 7 1 1 9 0 7 8 3 4 8 6 3 8 0 9 6 2]\n",
      "[4 9 9 ..., 4 5 6]\n"
     ]
    }
   ],
   "source": [
    "layers = [784, 300, 100, 10]\n",
    "#layers = [784, 64, 10]\n",
    "\n",
    "model = NN_model(layers, 100)\n",
    "model.fit(train_X, train_Y)\n",
    "model.predict(test_X, test_Y)\n",
    "    \n",
    "print(model.accuracy)\n",
    "print(model.Y_p[:20])\n",
    "print(np.argmax(test_Y, axis=0))"
   ]
  },
  {
   "cell_type": "code",
   "execution_count": null,
   "metadata": {
    "collapsed": true
   },
   "outputs": [],
   "source": []
  }
 ],
 "metadata": {
  "kernelspec": {
   "display_name": "Python 3",
   "language": "python",
   "name": "python3"
  },
  "language_info": {
   "codemirror_mode": {
    "name": "ipython",
    "version": 3
   },
   "file_extension": ".py",
   "mimetype": "text/x-python",
   "name": "python",
   "nbconvert_exporter": "python",
   "pygments_lexer": "ipython3",
   "version": "3.5.2"
  }
 },
 "nbformat": 4,
 "nbformat_minor": 2
}
