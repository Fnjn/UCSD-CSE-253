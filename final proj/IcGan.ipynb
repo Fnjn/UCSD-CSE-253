{
 "cells": [
  {
   "cell_type": "code",
   "execution_count": 1,
   "metadata": {},
   "outputs": [],
   "source": [
    "import tensorflow as tf\n",
    "import numpy as np\n",
    "import time\n",
    "\n",
    "%matplotlib inline\n",
    "import matplotlib\n",
    "import matplotlib.pyplot as plt\n",
    "\n",
    "%load_ext autoreload\n",
    "%autoreload 2\n",
    "from IcGanLayer import gan_loss, classify_loss, generator"
   ]
  },
  {
   "cell_type": "code",
   "execution_count": 2,
   "metadata": {},
   "outputs": [],
   "source": [
    "n_classes = 20\n",
    "batch_size = 64\n",
    "n_epochs\n",
    "\n",
    "config = tf.ConfigProto()\n",
    "config.gpu_options.allow_growth = True\n",
    "config.log_device_placement=True"
   ]
  },
  {
   "cell_type": "code",
   "execution_count": 3,
   "metadata": {},
   "outputs": [],
   "source": [
    "with tf.device('/device:GPU:0'):\n",
    "    x = tf.placeholder(tf.float32, shape=[None, 64, 64,  3], name='x')\n",
    "    y = tf.placeholder(tf.float32, shape=[None, n_classes], name='y')\n",
    "    \n",
    "    loss_pred, loss_gen, gen = gan_loss(x, y, n_classes)\n",
    "    loss_cls, Ey = classify_loss(x, y, n_classes)\n",
    "    \n",
    "    saver = tf.saver()\n",
    "    evaluate = tf.equal(tf.round(Ey), y)\n",
    "    accuracy = tf.reduce_mean(tf.cast(evaluate),dtype=tf.float32)\n",
    "    \n",
    "    with tf.control_dependencies(tf.get_collection(tf.GraphKeys.UPDATE_OPS)):\n",
    "        pred_optimizer = tf.train.AdamOptimizer(0.0002, beta1=0.5).minimize(loss_pred)\n",
    "        gen_optimizer = tf.train.AdamOptimizer(0.0002, beta1=0.5).minimize(loss_gen)\n",
    "        cls_optimizer = tf.train.AdamOptimizer(0.0002, beta1=0.5).minimize(loss_cls)\n",
    "    \n",
    "    "
   ]
  },
  {
   "cell_type": "code",
   "execution_count": null,
   "metadata": {
    "collapsed": true
   },
   "outputs": [],
   "source": [
    "with tf.Session(config=config) as sess:\n",
    "    for epoch in range(n_epochs):\n",
    "        pred_cost, gen_cost = sess.run([pred_optimizer, gen_optimizer], feed_dict={x:dataset.nextbatch(), y:label.nextbatch()})\n",
    "        print('discriminator loss: %f, generator loss: %f' % (pred_cost, gen_cost))\n",
    "        \n",
    "    test_image = sess.run([gen], feed_dict={x:test_dataset.nextbatch(), y:test_label.nextbatch()})\n",
    "    show_image(test_image)\n",
    "    saver.save(sess, 'save/to/path')"
   ]
  },
  {
   "cell_type": "code",
   "execution_count": null,
   "metadata": {},
   "outputs": [],
   "source": [
    "with tf.Session(config=config) as sess:\n",
    "    for epoch in range(n_epochs):\n",
    "        cls_cost = sess,run([cls_optimizer], feed_dict={x:dataset.nextbatch(), y:label.nextbatch()})\n",
    "        print('classifer loss: %f, accuracy: %f' % (cls_cost, accuracy.eval()))\n",
    "    saver.save(sess, 'save/to/path')\n",
    "        "
   ]
  }
 ],
 "metadata": {
  "kernelspec": {
   "display_name": "Python 3",
   "language": "python",
   "name": "python3"
  },
  "language_info": {
   "codemirror_mode": {
    "name": "ipython",
    "version": 3
   },
   "file_extension": ".py",
   "mimetype": "text/x-python",
   "name": "python",
   "nbconvert_exporter": "python",
   "pygments_lexer": "ipython3",
   "version": "3.5.4"
  }
 },
 "nbformat": 4,
 "nbformat_minor": 2
}
