{
 "cells": [
  {
   "cell_type": "code",
   "execution_count": 11,
   "metadata": {},
   "outputs": [],
   "source": [
    "import torch\n",
    "import numpy as np\n",
    "%matplotlib inline\n",
    "import matplotlib.pyplot as plt\n",
    "\n",
    "from torch.autograd import Variable\n",
    "import torch.nn as nn\n",
    "import torch.nn.functional as F\n",
    "import torchvision\n",
    "import torchvision.transforms as transforms\n",
    "from torch.utils.data import Dataset, DataLoader\n",
    "\n",
    "from model1 import model3\n"
   ]
  },
  {
   "cell_type": "code",
   "execution_count": 12,
   "metadata": {},
   "outputs": [
    {
     "name": "stdout",
     "output_type": "stream",
     "text": [
      "Files already downloaded and verified\n",
      "Files already downloaded and verified\n"
     ]
    }
   ],
   "source": [
    "batch_size = 16\n",
    "transform = transforms.Compose([transforms.ToTensor(), \n",
    "                                transforms.Normalize((0.5,0.5,0.5),(0.5,0.5,0.5))])\n",
    "\n",
    "trainset = torchvision.datasets.CIFAR10(root='./data', train=True, download=True, \n",
    "                                       transform=transform)\n",
    "trainloader = torch.utils.data.DataLoader(trainset, batch_size=batch_size, shuffle=True, \n",
    "                                          num_workers=2)\n",
    "\n",
    "testset = torchvision.datasets.CIFAR10(root='./data', train=False, download=True,\n",
    "                                      transform=transform)\n",
    "testloader = DataLoader(testset, batch_size=batch_size, shuffle=False,\n",
    "                                         num_workers=2)\n",
    "classes = ('plane', 'car', 'bird', 'cat',\n",
    "           'deer', 'dog', 'frog', 'horse', 'ship', 'truck')"
   ]
  },
  {
   "cell_type": "code",
   "execution_count": 44,
   "metadata": {},
   "outputs": [],
   "source": [
    "def conv_no_pooling(in_channels, out_channels, kernel_size):\n",
    "    return  nn.Sequential(nn.Conv2d(in_channels, out_channels, kernel_size), nn.BatchNorm2d(out_channels), nn.ReLU())\n",
    "\n",
    "def conv_pooling(in_channels, out_channels, kernel_size):\n",
    "    return  nn.Sequential(nn.Conv2d(in_channels, out_channels, kernel_size), nn.BatchNorm2d(out_channels), nn.MaxPool2d(2), nn.ReLU())\n",
    "\n",
    "\n",
    "\n",
    "\n",
    "class model2(nn.Module):\n",
    "\n",
    "    def __init__(self):\n",
    "        super().__init__()\n",
    "\n",
    "        self.conv1 = conv_no_pooling(3, 64, 3)\n",
    "\n",
    "        self.conv2 = conv_no_pooling(64, 128, 3)\n",
    "        self.conv3 = conv_no_pooling(128, 128, 3)\n",
    "        self.conv4 = conv_no_pooling(128, 128, 3)\n",
    "        self.conv5 = conv_no_pooling(128, 128, 3)\n",
    "        self.conv6 = conv_no_pooling(128, 128, 3)\n",
    "        self.conv7 = conv_no_pooling(128, 128, 3)\n",
    "        self.conv8 = conv_no_pooling(128, 128, 3)\n",
    "        self.conv9 = conv_no_pooling(128, 128, 3)\n",
    "        self.conv10 = conv_no_pooling(128, 128, 3)\n",
    "        self.conv11 = conv_no_pooling(128, 128, 1)\n",
    "        self.conv12 = conv_no_pooling(128, 128, 1)\n",
    "        self.conv13 = conv_pooling(128, 128, 3)\n",
    "        self.model =  nn.Sequential(self.conv1, self.conv2, self.conv3, self.conv4, self.conv5, self.conv6, self.conv7, \\\n",
    "             self.conv8, self.conv9, self.conv10, self.conv11, self.conv12, self.conv13)\n",
    "        self.fc = nn.Linear(5*5*128, 10)\n",
    "    def forward(self, x):\n",
    "        x = self.model(x)\n",
    "        x = x.view(-1, 5*5*128)\n",
    "        x = self.fc(x)\n",
    "        return x"
   ]
  },
  {
   "cell_type": "code",
   "execution_count": 45,
   "metadata": {},
   "outputs": [],
   "source": [
    "# net = nn.Sequential(nn.Conv2d(3, 64, 3), nn.BatchNorm2d(64), nn.ReLU())\n",
    "net = model2()\n",
    "criterion = nn.CrossEntropyLoss()\n",
    "optimizer = torch.optim.Adam(net.parameters())"
   ]
  },
  {
   "cell_type": "code",
   "execution_count": null,
   "metadata": {},
   "outputs": [
    {
     "name": "stdout",
     "output_type": "stream",
     "text": [
      "[1,   500] loss: 2.040\n",
      "[1,  1000] loss: 1.871\n"
     ]
    }
   ],
   "source": [
    "for epoch in range(2):\n",
    "    running_loss = 0.\n",
    "    for i, data in enumerate(trainloader, 0):\n",
    "        inputs, labels = data\n",
    "        inputs, labels = Variable(inputs), Variable(labels)\n",
    "        optimizer.zero_grad()\n",
    "   \n",
    "        outputs = net(inputs)\n",
    "\n",
    "        loss = criterion(outputs, labels)\n",
    "        \n",
    "        loss.backward()\n",
    "        optimizer.step()\n",
    "        \n",
    "        running_loss += loss.data[0]\n",
    "        \n",
    "        if (i+1) % 500 == 0:\n",
    "            print('[%d, %5d] loss: %.3f' % (epoch+1, i+1, running_loss/500))\n",
    "            running_loss = 0.\n",
    "\n",
    "print('Finished Training')"
   ]
  },
  {
   "cell_type": "code",
   "execution_count": null,
   "metadata": {},
   "outputs": [],
   "source": []
  },
  {
   "cell_type": "code",
   "execution_count": null,
   "metadata": {},
   "outputs": [],
   "source": []
  }
 ],
 "metadata": {
  "kernelspec": {
   "display_name": "Python 3",
   "language": "python",
   "name": "python3"
  },
  "language_info": {
   "codemirror_mode": {
    "name": "ipython",
    "version": 3
   },
   "file_extension": ".py",
   "mimetype": "text/x-python",
   "name": "python",
   "nbconvert_exporter": "python",
   "pygments_lexer": "ipython3",
   "version": "3.5.2"
  }
 },
 "nbformat": 4,
 "nbformat_minor": 2
}
