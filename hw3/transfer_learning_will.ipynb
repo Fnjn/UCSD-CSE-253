{
 "cells": [
  {
   "cell_type": "code",
   "execution_count": 1,
   "metadata": {},
   "outputs": [
    {
     "name": "stdout",
     "output_type": "stream",
     "text": [
      "True\n"
     ]
    }
   ],
   "source": [
    "import torch\n",
    "import torch.nn as nn\n",
    "import torch.nn.functional as F\n",
    "import torch.optim as optim\n",
    "from torch.optim import lr_scheduler\n",
    "import torchvision\n",
    "from torchvision import datasets, models, transforms\n",
    "from torch.utils.data import DataLoader\n",
    "from torch.autograd import Variable\n",
    "\n",
    "%matplotlib inline\n",
    "import matplotlib.pyplot as plt\n",
    "import numpy as np\n",
    "import time\n",
    "\n",
    "%load_ext autoreload\n",
    "%autoreload 2\n",
    "\n",
    "from caltech256_will import Caltech256\n",
    "print(torch.cuda.is_available())"
   ]
  },
  {
   "cell_type": "code",
   "execution_count": 2,
   "metadata": {},
   "outputs": [],
   "source": [
    "data_transforms = {\n",
    "    'train': transforms.Compose([\n",
    "        transforms.RandomSizedCrop(224),\n",
    "        transforms.RandomHorizontalFlip(),\n",
    "        transforms.ToTensor(),\n",
    "        transforms.Normalize(mean=[0.485, 0.456, 0.406], std=[0.229, 0.224, 0.225]),\n",
    "    ]),\n",
    "    'test': transforms.Compose([\n",
    "        transforms.Scale(256),\n",
    "        transforms.CenterCrop(224),\n",
    "        transforms.ToTensor(),\n",
    "       transforms.Normalize(mean=[0.485, 0.456, 0.406], std=[0.229, 0.224, 0.225]),\n",
    "    ]),\n",
    "}"
   ]
  },
  {
   "cell_type": "code",
   "execution_count": 3,
   "metadata": {},
   "outputs": [],
   "source": [
    "# data_dir = 'data/256_ObjectCategories'\n",
    "data_dir = '/datasets/Caltech256/256_ObjectCategories'\n",
    "caltech256_train = Caltech256(data_dir, data_transforms['train'], train=True)\n",
    "caltech256_test = Caltech256(data_dir, data_transforms['test'], train=False)"
   ]
  },
  {
   "cell_type": "code",
   "execution_count": 16,
   "metadata": {},
   "outputs": [
    {
     "name": "stdout",
     "output_type": "stream",
     "text": [
      "torch.Size([4, 3, 224, 224])\n",
      "torch.Size([4])\n",
      "226\n"
     ]
    }
   ],
   "source": [
    "# test data loader\n",
    "dataloader = DataLoader(caltech256_train, batch_size=4)\n",
    "dataiter = iter(dataloader)\n",
    "image, label = dataiter.next()\n",
    "print(image.size())\n",
    "print(label.size())\n",
    "print(label[0])"
   ]
  },
  {
   "cell_type": "code",
   "execution_count": 22,
   "metadata": {},
   "outputs": [],
   "source": [
    "def train_model(model, dataset, criterion, optimizer, scheduler, num_epochs, batch_size):\n",
    "    start_time = time.time()\n",
    "    model.train(True)\n",
    "    dataset_size = dataset.__len__()\n",
    "    \n",
    "    dataloader = DataLoader(dataset, batch_size=batch_size, shuffle=True)\n",
    "    \n",
    "    for epoch in range(num_epochs):\n",
    "        scheduler.step()\n",
    "        running_loss = 0.\n",
    "        running_corrects = 0.\n",
    "        batch_cnt = 0\n",
    "        \n",
    "        for data in dataloader:\n",
    "            inputs, labels = data\n",
    "            \n",
    "            \"\"\"TODO: DELETE THIS\"\"\"\n",
    "            for lb in labels:\n",
    "                if lb == 256:\n",
    "                    print(\"WARNING:\",labels)\n",
    "            \n",
    "            inputs, labels = Variable(inputs.cuda()), Variable(labels.cuda())\n",
    "            \n",
    "            optimizer.zero_grad()\n",
    "            outputs = model(inputs)\n",
    "            \n",
    "            _, preds = torch.max(outputs.data, 1)\n",
    "            loss = criterion(outputs, labels)\n",
    "            \n",
    "            loss.backward()\n",
    "            optimizer.step()\n",
    "            running_loss += loss\n",
    "            running_corrects += torch.sum(preds == labels.data)\n",
    "            \n",
    "            batch_cnt += 1\n",
    "            if batch_cnt % 150 == 0:\n",
    "                print('Training completed [{}, {}]'.format(epoch, batch_cnt))\n",
    "            \n",
    "            \n",
    "        epoch_loss = running_loss / float(dataset_size)\n",
    "        epoch_acc = running_corrects / float(dataset_size)\n",
    "        print('{} epoch loss: {} accuracy {}'.format(epoch, epoch_loss, epoch_acc))\n",
    "        \n",
    "    model.train(False)\n",
    "    time_elapsed = time.time() - start_time\n",
    "    print('Training comple in %dm, %ds' % (time_elapsed//60, time_elapsed%60))\n",
    "    return model"
   ]
  },
  {
   "cell_type": "code",
   "execution_count": 6,
   "metadata": {},
   "outputs": [],
   "source": [
    "vgg16 = models.vgg16_bn(pretrained=True)\n",
    "# print(vgg16)"
   ]
  },
  {
   "cell_type": "code",
   "execution_count": 9,
   "metadata": {},
   "outputs": [],
   "source": [
    "# freeze all layers\n",
    "for param in vgg16.parameters():\n",
    "    param.requires_grad = False\n",
    "\n",
    "# modify last softmax layer output number\n",
    "vgg16.classifier[6].out_features = 256\n",
    "\n",
    "# set last layer's weights trainable\n",
    "for param in vgg16.classifier[6].parameters():\n",
    "    param.requires_grad = True\n",
    "\n",
    "# check weights' training status\n",
    "# for i in range(44):\n",
    "#     print(\"vgg16 -> features [{}]\".format(i))\n",
    "#     for param in vgg16.features[i].parameters():\n",
    "#         print(param.requires_grad)\n",
    "# for i in range(7):\n",
    "#     print(\"vgg16 -> classifier [{}]\".format(i))\n",
    "#     for param in vgg16.classifier[i].parameters():\n",
    "#         print(param.requires_grad)"
   ]
  },
  {
   "cell_type": "code",
   "execution_count": 10,
   "metadata": {},
   "outputs": [
    {
     "name": "stdout",
     "output_type": "stream",
     "text": [
      "VGG (\n",
      "  (features): Sequential (\n",
      "    (0): Conv2d(3, 64, kernel_size=(3, 3), stride=(1, 1), padding=(1, 1))\n",
      "    (1): BatchNorm2d(64, eps=1e-05, momentum=0.1, affine=True)\n",
      "    (2): ReLU (inplace)\n",
      "    (3): Conv2d(64, 64, kernel_size=(3, 3), stride=(1, 1), padding=(1, 1))\n",
      "    (4): BatchNorm2d(64, eps=1e-05, momentum=0.1, affine=True)\n",
      "    (5): ReLU (inplace)\n",
      "    (6): MaxPool2d (size=(2, 2), stride=(2, 2), dilation=(1, 1))\n",
      "    (7): Conv2d(64, 128, kernel_size=(3, 3), stride=(1, 1), padding=(1, 1))\n",
      "    (8): BatchNorm2d(128, eps=1e-05, momentum=0.1, affine=True)\n",
      "    (9): ReLU (inplace)\n",
      "    (10): Conv2d(128, 128, kernel_size=(3, 3), stride=(1, 1), padding=(1, 1))\n",
      "    (11): BatchNorm2d(128, eps=1e-05, momentum=0.1, affine=True)\n",
      "    (12): ReLU (inplace)\n",
      "    (13): MaxPool2d (size=(2, 2), stride=(2, 2), dilation=(1, 1))\n",
      "    (14): Conv2d(128, 256, kernel_size=(3, 3), stride=(1, 1), padding=(1, 1))\n",
      "    (15): BatchNorm2d(256, eps=1e-05, momentum=0.1, affine=True)\n",
      "    (16): ReLU (inplace)\n",
      "    (17): Conv2d(256, 256, kernel_size=(3, 3), stride=(1, 1), padding=(1, 1))\n",
      "    (18): BatchNorm2d(256, eps=1e-05, momentum=0.1, affine=True)\n",
      "    (19): ReLU (inplace)\n",
      "    (20): Conv2d(256, 256, kernel_size=(3, 3), stride=(1, 1), padding=(1, 1))\n",
      "    (21): BatchNorm2d(256, eps=1e-05, momentum=0.1, affine=True)\n",
      "    (22): ReLU (inplace)\n",
      "    (23): MaxPool2d (size=(2, 2), stride=(2, 2), dilation=(1, 1))\n",
      "    (24): Conv2d(256, 512, kernel_size=(3, 3), stride=(1, 1), padding=(1, 1))\n",
      "    (25): BatchNorm2d(512, eps=1e-05, momentum=0.1, affine=True)\n",
      "    (26): ReLU (inplace)\n",
      "    (27): Conv2d(512, 512, kernel_size=(3, 3), stride=(1, 1), padding=(1, 1))\n",
      "    (28): BatchNorm2d(512, eps=1e-05, momentum=0.1, affine=True)\n",
      "    (29): ReLU (inplace)\n",
      "    (30): Conv2d(512, 512, kernel_size=(3, 3), stride=(1, 1), padding=(1, 1))\n",
      "    (31): BatchNorm2d(512, eps=1e-05, momentum=0.1, affine=True)\n",
      "    (32): ReLU (inplace)\n",
      "    (33): MaxPool2d (size=(2, 2), stride=(2, 2), dilation=(1, 1))\n",
      "    (34): Conv2d(512, 512, kernel_size=(3, 3), stride=(1, 1), padding=(1, 1))\n",
      "    (35): BatchNorm2d(512, eps=1e-05, momentum=0.1, affine=True)\n",
      "    (36): ReLU (inplace)\n",
      "    (37): Conv2d(512, 512, kernel_size=(3, 3), stride=(1, 1), padding=(1, 1))\n",
      "    (38): BatchNorm2d(512, eps=1e-05, momentum=0.1, affine=True)\n",
      "    (39): ReLU (inplace)\n",
      "    (40): Conv2d(512, 512, kernel_size=(3, 3), stride=(1, 1), padding=(1, 1))\n",
      "    (41): BatchNorm2d(512, eps=1e-05, momentum=0.1, affine=True)\n",
      "    (42): ReLU (inplace)\n",
      "    (43): MaxPool2d (size=(2, 2), stride=(2, 2), dilation=(1, 1))\n",
      "  )\n",
      "  (classifier): Sequential (\n",
      "    (0): Linear (25088 -> 4096)\n",
      "    (1): ReLU (inplace)\n",
      "    (2): Dropout (p = 0.5)\n",
      "    (3): Linear (4096 -> 4096)\n",
      "    (4): ReLU (inplace)\n",
      "    (5): Dropout (p = 0.5)\n",
      "    (6): Linear (4096 -> 256)\n",
      "  )\n",
      ")\n"
     ]
    }
   ],
   "source": [
    "print(vgg16)"
   ]
  },
  {
   "cell_type": "code",
   "execution_count": 20,
   "metadata": {},
   "outputs": [],
   "source": [
    "criterion = nn.CrossEntropyLoss()\n",
    "optimizer = optim.Adam(vgg16.classifier[6].parameters())\n",
    "# scheduler = optim.lr_scheduler.StepLR(optimizer, step_size=30)\n",
    "scheduler = lr_scheduler.StepLR(optimizer, step_size=30)\n",
    "\n",
    "# vgg16 = nn.DataParallel(vgg16)\n",
    "vgg16 = vgg16.cuda()"
   ]
  },
  {
   "cell_type": "code",
   "execution_count": null,
   "metadata": {},
   "outputs": [
    {
     "name": "stdout",
     "output_type": "stream",
     "text": [
      "Training completed [0, 150]\n",
      "Training completed [0, 300]\n",
      "Training completed [0, 450]\n",
      "0 epoch loss: Variable containing:\n",
      " 0.1622\n",
      "[torch.cuda.FloatTensor of size 1 (GPU 0)]\n",
      " accuracy 0.51220703125\n",
      "Training completed [1, 150]\n",
      "Training completed [1, 300]\n",
      "Training completed [1, 450]\n",
      "1 epoch loss: Variable containing:\n",
      " 0.1228\n",
      "[torch.cuda.FloatTensor of size 1 (GPU 0)]\n",
      " accuracy 0.597412109375\n"
     ]
    }
   ],
   "source": [
    "\"\"\"TODO: CHANGE THIS!\"\"\"\n",
    "train_data = caltech256_train\n",
    "\n",
    "model_tf = train_model(vgg16, train_data, criterion, optimizer, scheduler, num_epochs=5, batch_size=16)"
   ]
  },
  {
   "cell_type": "code",
   "execution_count": null,
   "metadata": {},
   "outputs": [],
   "source": [
    "test_dataloader = DataLoader(caltech256_test, batch_size=16)\n",
    "correct_cnt = 0\n",
    "cnt = 0\n",
    "for data in test_dataloader:\n",
    "    inputs, labels = data\n",
    "    inputs, labels = Variable(inputs.cuda()), Variable(labels.cuda())\n",
    "    outputs = vgg16(inputs)\n",
    "    _, preds = torch.max(outputs, 1)\n",
    "    correct_cnt += torch.sum(preds.data == labels.data)\n",
    "    \n",
    "acc = correct_cnt / caltech256_test.__len__()\n",
    "print('Test Set Accuracy: %f' % (acc*100))"
   ]
  },
  {
   "cell_type": "code",
   "execution_count": null,
   "metadata": {},
   "outputs": [],
   "source": []
  }
 ],
 "metadata": {
  "kernelspec": {
   "display_name": "Python 3",
   "language": "python",
   "name": "python3"
  },
  "language_info": {
   "codemirror_mode": {
    "name": "ipython",
    "version": 3
   },
   "file_extension": ".py",
   "mimetype": "text/x-python",
   "name": "python",
   "nbconvert_exporter": "python",
   "pygments_lexer": "ipython3",
   "version": "3.5.4"
  }
 },
 "nbformat": 4,
 "nbformat_minor": 2
}
