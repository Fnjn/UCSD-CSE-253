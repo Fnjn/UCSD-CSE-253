{
 "cells": [
  {
   "cell_type": "code",
   "execution_count": 1,
   "metadata": {},
   "outputs": [],
   "source": [
    "import numpy as np\n",
    "import matplotlib.pyplot as plt\n",
    "%matplotlib inline\n",
    "\n",
    "import torch\n",
    "from torch.autograd import Variable\n",
    "import torch.nn as nn\n",
    "import torch.nn.functional as F\n",
    "import torchvision\n",
    "import torchvision.transforms as transforms\n",
    "from torch.utils.data import Dataset, DataLoader\n",
    "import torch.optim as optim\n",
    "# from torchviz import make_dot\n",
    "\n",
    "from cifar10_models_qinacme import model1, model3, model2, model_torch_official\n",
    "%load_ext autoreload\n",
    "%autoreload 2"
   ]
  },
  {
   "cell_type": "code",
   "execution_count": 2,
   "metadata": {},
   "outputs": [],
   "source": [
    "batch_size = 128\n",
    "transform = transforms.Compose(\n",
    "    [transforms.ToTensor(), \n",
    "     transforms.Normalize((0.5, 0.5, 0.5), (0.5, 0.5, 0.5))])\n",
    "trainset = torchvision.datasets.CIFAR10(root='/datasets/CIFAR-10', train=True,\n",
    "                                        download=False, transform=transform)\n",
    "# originally: batchsize = 4, shuffle=False\n",
    "# TODO: increase number of workers/batchsize = 128\n",
    "trainloader = torch.utils.data.DataLoader(trainset, batch_size=batch_size,\n",
    "                                          shuffle=True, num_workers=2)\n",
    "testset = torchvision.datasets.CIFAR10('/datasets/CIFAR-10', train=False,\n",
    "                                        download=False, transform=transform)\n",
    "testloader = torch.utils.data.DataLoader(testset, batch_size=batch_size,\n",
    "                                            shuffle=False, num_workers=2)\n",
    "classes = ('plane', 'car', 'bird', 'cat',\n",
    "           'deer', 'dog', 'frog', 'horse', 'ship', 'truck')"
   ]
  },
  {
   "cell_type": "code",
   "execution_count": 21,
   "metadata": {},
   "outputs": [],
   "source": [
    "NUM_INCREASE = 3\n",
    "def train(model, epoch_num = 30):\n",
    "    results = []\n",
    "    model.cuda()\n",
    "    criterion = nn.CrossEntropyLoss()\n",
    "    optimizer = torch.optim.Adam(model.parameters())\n",
    "#     optimizer = optim.SGD(model.parameters(), lr=0.001, momentum=0.9)\n",
    "    print_freq = 60\n",
    "    for epoch in range(epoch_num):\n",
    "        for i, data in enumerate(trainloader):\n",
    "            inputs, labels = data\n",
    "            inputs, labels = Variable(inputs.cuda()), Variable(labels.cuda())\n",
    "            optimizer.zero_grad()\n",
    "\n",
    "            outputs = model(inputs)\n",
    "            \n",
    "            loss = criterion(outputs, labels)\n",
    "\n",
    "            loss.backward()\n",
    "            optimizer.step()\n",
    "        r = collect_data(model, criterion)\n",
    "        print('[Epoch {:<2}]: \\ntrain_acc  {} \\ntrain_loss {} \\ntest_acc    {} \\ntest_loss  {}'\n",
    "              .format(epoch, *r))\n",
    "        results.append(r)\n",
    "        test_loss = np.array(results)[:,3]\n",
    "        if epoch > NUM_INCREASE and np.all(np.diff(test_loss[epoch - NUM_INCREASE + 1 : epoch + 1]) > 0):\n",
    "            print('Early stop at Epoch {}'.format(epoch+1))\n",
    "            break\n",
    "    print('Finished Training')\n",
    "    return results"
   ]
  },
  {
   "cell_type": "code",
   "execution_count": 4,
   "metadata": {},
   "outputs": [],
   "source": [
    "def collect_data(model, criterion):\n",
    "    result = []\n",
    "    for loader in [trainloader,testloader]:\n",
    "        correct = 0\n",
    "        total = 0\n",
    "        loss = 0.\n",
    "        for data in loader:\n",
    "            images, labels = data\n",
    "            outputs = model(Variable(images.cuda()))\n",
    "            _, predicted = torch.max(outputs.data, 1)\n",
    "            total += labels.size(0)\n",
    "            correct += (predicted == labels.cuda()).sum()\n",
    "            loss += criterion(outputs, Variable(labels.cuda())).data[0]\n",
    "        result.append(correct / total) # accuracy\n",
    "        result.append(loss / total) # loss\n",
    "    return result"
   ]
  },
  {
   "cell_type": "code",
   "execution_count": 5,
   "metadata": {},
   "outputs": [],
   "source": [
    "def test(model):\n",
    "    correct = 0\n",
    "    total = 0\n",
    "    for data in testloader:\n",
    "        images, labels = data\n",
    "        outputs = model(Variable(images.cuda()))\n",
    "        _, predicted = torch.max(outputs.data, 1)\n",
    "        total += labels.size(0)\n",
    "        correct += (predicted == labels.cuda()).sum()\n",
    "        \n",
    "    print('Accuracy of the network on the 10000 test images: {:0.2f}%'\n",
    "          .format(100 * correct / total))\n",
    "    \n",
    "    class_correct = list(0. for i in range(10))\n",
    "    class_total = list(0. for i in range(10))\n",
    "\n",
    "    for data in testloader:\n",
    "        images, labels = data\n",
    "        outputs = model(Variable(images.cuda()))\n",
    "        _, predicted = torch.max(outputs.data, 1)\n",
    "        c = (predicted == labels.cuda())\n",
    "        for i in range(labels.size(0)):\n",
    "            label = labels[i]\n",
    "            class_correct[label] += c[i]\n",
    "            class_total[label] += 1\n",
    "\n",
    "    for i in range(10):\n",
    "        print('Accuracy of {:<5} : {:0.2f}%'\n",
    "              .format(classes[i], 100*class_correct[i]/class_total[i]))\n",
    "    "
   ]
  },
  {
   "cell_type": "code",
   "execution_count": 6,
   "metadata": {},
   "outputs": [],
   "source": [
    "def visualize(model, results):\n",
    "    results = np.array(results)\n",
    "    for i in [0,2]:\n",
    "        plt.plot(np.arange(results.shape[0]), results[:,i])\n",
    "    plt.legend(['train acc', 'test acc'], loc='upper left')\n",
    "    plt.xlabel('Epoch')\n",
    "    plt.ylabel('Accuracy')\n",
    "    plt.title('Accuracy - Epoch')\n",
    "    plt.show()\n",
    "    for i in [1,3]:\n",
    "        plt.plot(np.arange(results.shape[0]), results[:,i])\n",
    "    plt.legend(['train loss', 'test loss'], loc='upper left')\n",
    "    plt.xlabel('Epoch')\n",
    "    plt.ylabel('Loss')\n",
    "    plt.title('Loss - Epoch')\n",
    "    plt.show()"
   ]
  },
  {
   "cell_type": "code",
   "execution_count": null,
   "metadata": {},
   "outputs": [],
   "source": []
  },
  {
   "cell_type": "code",
   "execution_count": null,
   "metadata": {},
   "outputs": [],
   "source": []
  },
  {
   "cell_type": "markdown",
   "metadata": {},
   "source": [
    "# Original PyTorch tutorial model"
   ]
  },
  {
   "cell_type": "code",
   "execution_count": 7,
   "metadata": {},
   "outputs": [],
   "source": [
    "net = model_torch_official()"
   ]
  },
  {
   "cell_type": "code",
   "execution_count": 8,
   "metadata": {},
   "outputs": [
    {
     "name": "stdout",
     "output_type": "stream",
     "text": [
      "[Epoch 0 ]: \n",
      "train_acc  0.45724 \n",
      "train_loss 0.011677191307544708 \n",
      "test_acc    0.4445 \n",
      "test_loss  0.011869243824481963\n",
      "[Epoch 1 ]: \n",
      "train_acc  0.51476 \n",
      "train_loss 0.010472458262443543 \n",
      "test_acc    0.5077 \n",
      "test_loss  0.010714679384231568\n",
      "[Epoch 2 ]: \n",
      "train_acc  0.55344 \n",
      "train_loss 0.009767817497253419 \n",
      "test_acc    0.5354 \n",
      "test_loss  0.010123423582315445\n",
      "[Epoch 3 ]: \n",
      "train_acc  0.57656 \n",
      "train_loss 0.009279434888362885 \n",
      "test_acc    0.5546 \n",
      "test_loss  0.009746464264392853\n",
      "[Epoch 4 ]: \n",
      "train_acc  0.60924 \n",
      "train_loss 0.008644008347988128 \n",
      "test_acc    0.5842 \n",
      "test_loss  0.009282259345054627\n",
      "[Epoch 5 ]: \n",
      "train_acc  0.6039 \n",
      "train_loss 0.008700189346075058 \n",
      "test_acc    0.5679 \n",
      "test_loss  0.009459574413299561\n",
      "[Epoch 6 ]: \n",
      "train_acc  0.63156 \n",
      "train_loss 0.008042213574647903 \n",
      "test_acc    0.6041 \n",
      "test_loss  0.00890773897767067\n",
      "[Epoch 7 ]: \n",
      "train_acc  0.63878 \n",
      "train_loss 0.007956619207859039 \n",
      "test_acc    0.5947 \n",
      "test_loss  0.009040053963661194\n",
      "[Epoch 8 ]: \n",
      "train_acc  0.66138 \n",
      "train_loss 0.007488801885843277 \n",
      "test_acc    0.614 \n",
      "test_loss  0.00863785709142685\n",
      "[Epoch 9 ]: \n",
      "train_acc  0.6683 \n",
      "train_loss 0.007346745059490204 \n",
      "test_acc    0.6118 \n",
      "test_loss  0.008742150729894638\n",
      "[Epoch 10]: \n",
      "train_acc  0.68114 \n",
      "train_loss 0.00709274840593338 \n",
      "test_acc    0.618 \n",
      "test_loss  0.008577308243513108\n",
      "[Epoch 11]: \n",
      "train_acc  0.69474 \n",
      "train_loss 0.006847325900793075 \n",
      "test_acc    0.6189 \n",
      "test_loss  0.008567604494094848\n",
      "[Epoch 12]: \n",
      "train_acc  0.70384 \n",
      "train_loss 0.006642073528766632 \n",
      "test_acc    0.6256 \n",
      "test_loss  0.00848443118929863\n",
      "[Epoch 13]: \n",
      "train_acc  0.71172 \n",
      "train_loss 0.006457733548879623 \n",
      "test_acc    0.6249 \n",
      "test_loss  0.008500247633457183\n",
      "[Epoch 14]: \n",
      "train_acc  0.72278 \n",
      "train_loss 0.0061677117133140565 \n",
      "test_acc    0.6331 \n",
      "test_loss  0.008342852109670638\n",
      "[Epoch 15]: \n",
      "train_acc  0.71354 \n",
      "train_loss 0.00630871699333191 \n",
      "test_acc    0.6259 \n",
      "test_loss  0.00861580918431282\n",
      "[Epoch 16]: \n",
      "train_acc  0.73642 \n",
      "train_loss 0.00586621385216713 \n",
      "test_acc    0.6399 \n",
      "test_loss  0.008520149201154709\n",
      "[Epoch 17]: \n",
      "train_acc  0.74708 \n",
      "train_loss 0.005625169664621353 \n",
      "test_acc    0.641 \n",
      "test_loss  0.008565295660495758\n",
      "[Epoch 18]: \n",
      "train_acc  0.7473 \n",
      "train_loss 0.005657563472390175 \n",
      "test_acc    0.6326 \n",
      "test_loss  0.008637094968557357\n",
      "[Epoch 19]: \n",
      "train_acc  0.76666 \n",
      "train_loss 0.005287793764472008 \n",
      "test_acc    0.6327 \n",
      "test_loss  0.008571708571910858\n",
      "Finished Training\n"
     ]
    }
   ],
   "source": [
    "results = train(net)"
   ]
  },
  {
   "cell_type": "code",
   "execution_count": 9,
   "metadata": {},
   "outputs": [
    {
     "data": {
      "image/png": "[encoded data removed]",
      "text/plain": [
       "<matplotlib.figure.Figure at 0x7f20a1580ef0>"
      ]
     },
     "metadata": {},
     "output_type": "display_data"
    },
    {
     "data": {
      "image/png": "[encoded data removed]",
      "text/plain": [
       "<matplotlib.figure.Figure at 0x7f20a14ec2e8>"
      ]
     },
     "metadata": {},
     "output_type": "display_data"
    }
   ],
   "source": [
    "visualize(net, results)"
   ]
  },
  {
   "cell_type": "code",
   "execution_count": 10,
   "metadata": {},
   "outputs": [
    {
     "name": "stdout",
     "output_type": "stream",
     "text": [
      "Accuracy of the network on the 10000 test images: 63.27%\n",
      "Accuracy of plane : 65.30%\n",
      "Accuracy of car   : 70.50%\n",
      "Accuracy of bird  : 56.20%\n",
      "Accuracy of cat   : 50.40%\n",
      "Accuracy of deer  : 53.80%\n",
      "Accuracy of dog   : 49.70%\n",
      "Accuracy of frog  : 70.30%\n",
      "Accuracy of horse : 65.20%\n",
      "Accuracy of ship  : 81.00%\n",
      "Accuracy of truck : 70.30%\n"
     ]
    }
   ],
   "source": [
    "test(net)"
   ]
  },
  {
   "cell_type": "code",
   "execution_count": null,
   "metadata": {},
   "outputs": [],
   "source": []
  },
  {
   "cell_type": "markdown",
   "metadata": {},
   "source": [
    "# Model1"
   ]
  },
  {
   "cell_type": "code",
   "execution_count": 15,
   "metadata": {},
   "outputs": [],
   "source": [
    "net = model1()"
   ]
  },
  {
   "cell_type": "code",
   "execution_count": 16,
   "metadata": {},
   "outputs": [
    {
     "name": "stdout",
     "output_type": "stream",
     "text": [
      "[Epoch 0 ]: \n",
      "train_acc  0.538 \n",
      "train_loss 0.01503510864019394 \n",
      "test_acc    0.5366 \n",
      "test_loss  0.015237543034553528\n",
      "[Epoch 1 ]: \n",
      "train_acc  0.65954 \n",
      "train_loss 0.014086181373596192 \n",
      "test_acc    0.6472 \n",
      "test_loss  0.014341167426109315\n",
      "[Epoch 2 ]: \n",
      "train_acc  0.7082 \n",
      "train_loss 0.013708619086742401 \n",
      "test_acc    0.6866 \n",
      "test_loss  0.014006969571113586\n",
      "[Epoch 3 ]: \n",
      "train_acc  0.72048 \n",
      "train_loss 0.013607131268978119 \n",
      "test_acc    0.6997 \n",
      "test_loss  0.013908497512340546\n",
      "[Epoch 4 ]: \n",
      "train_acc  0.75894 \n",
      "train_loss 0.01330917763710022 \n",
      "test_acc    0.7367 \n",
      "test_loss  0.013624366521835327\n",
      "[Epoch 5 ]: \n",
      "train_acc  0.7889 \n",
      "train_loss 0.013078424534797668 \n",
      "test_acc    0.756 \n",
      "test_loss  0.013466798985004426\n",
      "[Epoch 6 ]: \n",
      "train_acc  0.8061 \n",
      "train_loss 0.012946880185604095 \n",
      "test_acc    0.7693 \n",
      "test_loss  0.013370933306217194\n",
      "[Epoch 7 ]: \n",
      "train_acc  0.80508 \n",
      "train_loss 0.012945129735469818 \n",
      "test_acc    0.7686 \n",
      "test_loss  0.013357244515419007\n",
      "[Epoch 8 ]: \n",
      "train_acc  0.83224 \n",
      "train_loss 0.012737533140182495 \n",
      "test_acc    0.7867 \n",
      "test_loss  0.013212065243721009\n",
      "[Epoch 9 ]: \n",
      "train_acc  0.83926 \n",
      "train_loss 0.012686185495853423 \n",
      "test_acc    0.7905 \n",
      "test_loss  0.013197709774971008\n",
      "[Epoch 10]: \n",
      "train_acc  0.84008 \n",
      "train_loss 0.012671985287666322 \n",
      "test_acc    0.7943 \n",
      "test_loss  0.013167651128768922\n",
      "[Epoch 11]: \n",
      "train_acc  0.85534 \n",
      "train_loss 0.012556642847061157 \n",
      "test_acc    0.8013 \n",
      "test_loss  0.013107722985744476\n",
      "[Epoch 12]: \n",
      "train_acc  0.86198 \n",
      "train_loss 0.012502351050376892 \n",
      "test_acc    0.81 \n",
      "test_loss  0.013047048449516296\n",
      "[Epoch 13]: \n",
      "train_acc  0.84708 \n",
      "train_loss 0.012624808127880097 \n",
      "test_acc    0.7929 \n",
      "test_loss  0.013170039415359497\n",
      "[Epoch 14]: \n",
      "train_acc  0.8695 \n",
      "train_loss 0.012446143944263459 \n",
      "test_acc    0.8104 \n",
      "test_loss  0.013036052465438843\n",
      "[Epoch 15]: \n",
      "train_acc  0.87394 \n",
      "train_loss 0.012410564076900481 \n",
      "test_acc    0.8067 \n",
      "test_loss  0.013060522890090942\n",
      "[Epoch 16]: \n",
      "train_acc  0.87922 \n",
      "train_loss 0.012368616890907288 \n",
      "test_acc    0.8124 \n",
      "test_loss  0.01301479048728943\n",
      "[Epoch 17]: \n",
      "train_acc  0.89092 \n",
      "train_loss 0.012278725962638855 \n",
      "test_acc    0.8237 \n",
      "test_loss  0.012933933925628662\n",
      "[Epoch 18]: \n",
      "train_acc  0.89066 \n",
      "train_loss 0.012280937283039093 \n",
      "test_acc    0.8247 \n",
      "test_loss  0.012929393684864045\n",
      "[Epoch 19]: \n",
      "train_acc  0.89018 \n",
      "train_loss 0.012282059240341186 \n",
      "test_acc    0.8188 \n",
      "test_loss  0.012972646260261535\n",
      "[Epoch 20]: \n",
      "train_acc  0.8966 \n",
      "train_loss 0.012235983095169068 \n",
      "test_acc    0.8244 \n",
      "test_loss  0.012936005306243897\n",
      "[Epoch 21]: \n",
      "train_acc  0.90656 \n",
      "train_loss 0.012158401634693146 \n",
      "test_acc    0.8241 \n",
      "test_loss  0.012936039507389068\n",
      "[Epoch 22]: \n",
      "train_acc  0.90374 \n",
      "train_loss 0.01217984522819519 \n",
      "test_acc    0.8232 \n",
      "test_loss  0.012936052715778351\n",
      "Early stop at Epoch 23\n",
      "Finished Training\n"
     ]
    }
   ],
   "source": [
    "results = train(net)"
   ]
  },
  {
   "cell_type": "code",
   "execution_count": 17,
   "metadata": {},
   "outputs": [
    {
     "data": {
      "image/png": "[encoded data removed]",
      "text/plain": [
       "<matplotlib.figure.Figure at 0x7f20fd32c4a8>"
      ]
     },
     "metadata": {},
     "output_type": "display_data"
    },
    {
     "data": {
      "image/png": "[encoded data removed]",
      "text/plain": [
       "<matplotlib.figure.Figure at 0x7f20fd2e8ba8>"
      ]
     },
     "metadata": {},
     "output_type": "display_data"
    }
   ],
   "source": [
    "visualize(net, results)"
   ]
  },
  {
   "cell_type": "code",
   "execution_count": 18,
   "metadata": {},
   "outputs": [
    {
     "name": "stdout",
     "output_type": "stream",
     "text": [
      "Accuracy of the network on the 10000 test images: 82.32%\n",
      "Accuracy of plane : 81.00%\n",
      "Accuracy of car   : 90.00%\n",
      "Accuracy of bird  : 70.80%\n",
      "Accuracy of cat   : 65.20%\n",
      "Accuracy of deer  : 81.00%\n",
      "Accuracy of dog   : 79.90%\n",
      "Accuracy of frog  : 89.90%\n",
      "Accuracy of horse : 84.20%\n",
      "Accuracy of ship  : 89.70%\n",
      "Accuracy of truck : 91.50%\n"
     ]
    }
   ],
   "source": [
    "test(net)"
   ]
  },
  {
   "cell_type": "code",
   "execution_count": null,
   "metadata": {},
   "outputs": [],
   "source": []
  },
  {
   "cell_type": "markdown",
   "metadata": {},
   "source": [
    "# Model2"
   ]
  },
  {
   "cell_type": "code",
   "execution_count": 23,
   "metadata": {},
   "outputs": [],
   "source": [
    "net = model2()"
   ]
  },
  {
   "cell_type": "code",
   "execution_count": 24,
   "metadata": {},
   "outputs": [
    {
     "name": "stdout",
     "output_type": "stream",
     "text": [
      "[Epoch 0 ]: \n",
      "train_acc  0.6217 \n",
      "train_loss 0.014485504822731018 \n",
      "test_acc    0.6119 \n",
      "test_loss  0.014712608468532562\n",
      "[Epoch 1 ]: \n",
      "train_acc  0.68274 \n",
      "train_loss 0.013964880983829498 \n",
      "test_acc    0.6541 \n",
      "test_loss  0.01431124918460846\n",
      "[Epoch 2 ]: \n",
      "train_acc  0.7302 \n",
      "train_loss 0.01357881856918335 \n",
      "test_acc    0.6931 \n",
      "test_loss  0.013996562933921814\n",
      "[Epoch 3 ]: \n",
      "train_acc  0.76062 \n",
      "train_loss 0.01333178454399109 \n",
      "test_acc    0.7166 \n",
      "test_loss  0.013810485768318176\n",
      "[Epoch 4 ]: \n",
      "train_acc  0.7893 \n",
      "train_loss 0.013095243802070618 \n",
      "test_acc    0.7328 \n",
      "test_loss  0.013665910840034485\n",
      "[Epoch 5 ]: \n",
      "train_acc  0.806 \n",
      "train_loss 0.012971571502685547 \n",
      "test_acc    0.7335 \n",
      "test_loss  0.013640155863761902\n",
      "[Epoch 6 ]: \n",
      "train_acc  0.82724 \n",
      "train_loss 0.012806750574111939 \n",
      "test_acc    0.7521 \n",
      "test_loss  0.013524633038043975\n",
      "[Epoch 7 ]: \n",
      "train_acc  0.83968 \n",
      "train_loss 0.01270074493408203 \n",
      "test_acc    0.757 \n",
      "test_loss  0.013465887534618378\n",
      "[Epoch 8 ]: \n",
      "train_acc  0.85632 \n",
      "train_loss 0.012569663729667663 \n",
      "test_acc    0.7599 \n",
      "test_loss  0.013437184250354766\n",
      "[Epoch 9 ]: \n",
      "train_acc  0.87082 \n",
      "train_loss 0.012454989626407623 \n",
      "test_acc    0.7662 \n",
      "test_loss  0.013392189168930054\n",
      "[Epoch 10]: \n",
      "train_acc  0.88108 \n",
      "train_loss 0.01237575157403946 \n",
      "test_acc    0.7708 \n",
      "test_loss  0.013352500772476196\n",
      "[Epoch 11]: \n",
      "train_acc  0.89488 \n",
      "train_loss 0.012267517342567444 \n",
      "test_acc    0.7807 \n",
      "test_loss  0.013287099575996398\n",
      "[Epoch 12]: \n",
      "train_acc  0.89338 \n",
      "train_loss 0.012279475529193878 \n",
      "test_acc    0.7652 \n",
      "test_loss  0.013401795780658723\n",
      "[Epoch 13]: \n",
      "train_acc  0.90982 \n",
      "train_loss 0.012148436226844788 \n",
      "test_acc    0.7838 \n",
      "test_loss  0.01325584638118744\n",
      "[Epoch 14]: \n",
      "train_acc  0.91986 \n",
      "train_loss 0.012071068999767303 \n",
      "test_acc    0.7812 \n",
      "test_loss  0.013278100907802582\n",
      "[Epoch 15]: \n",
      "train_acc  0.92066 \n",
      "train_loss 0.012061024549007416 \n",
      "test_acc    0.7855 \n",
      "test_loss  0.013249796104431152\n",
      "[Epoch 16]: \n",
      "train_acc  0.92556 \n",
      "train_loss 0.01201862680196762 \n",
      "test_acc    0.7821 \n",
      "test_loss  0.013255418193340302\n",
      "[Epoch 17]: \n",
      "train_acc  0.9336 \n",
      "train_loss 0.011960862717628478 \n",
      "test_acc    0.7865 \n",
      "test_loss  0.013228135538101196\n",
      "[Epoch 18]: \n",
      "train_acc  0.93306 \n",
      "train_loss 0.011961489953994752 \n",
      "test_acc    0.7817 \n",
      "test_loss  0.013259176683425904\n",
      "[Epoch 19]: \n",
      "train_acc  0.9412 \n",
      "train_loss 0.011897236895561217 \n",
      "test_acc    0.7892 \n",
      "test_loss  0.013206427121162415\n",
      "[Epoch 20]: \n",
      "train_acc  0.94478 \n",
      "train_loss 0.011866243362426757 \n",
      "test_acc    0.7957 \n",
      "test_loss  0.013173446083068847\n",
      "[Epoch 21]: \n",
      "train_acc  0.9419 \n",
      "train_loss 0.011891431331634521 \n",
      "test_acc    0.7829 \n",
      "test_loss  0.013256851971149444\n",
      "[Epoch 22]: \n",
      "train_acc  0.94996 \n",
      "train_loss 0.011829054956436158 \n",
      "test_acc    0.7854 \n",
      "test_loss  0.013234959983825683\n",
      "[Epoch 23]: \n",
      "train_acc  0.9496 \n",
      "train_loss 0.011829380164146423 \n",
      "test_acc    0.7814 \n",
      "test_loss  0.01327116323709488\n",
      "[Epoch 24]: \n",
      "train_acc  0.94746 \n",
      "train_loss 0.011844485771656036 \n",
      "test_acc    0.7861 \n",
      "test_loss  0.013230986833572388\n",
      "[Epoch 25]: \n",
      "train_acc  0.95156 \n",
      "train_loss 0.011812988567352295 \n",
      "test_acc    0.7804 \n",
      "test_loss  0.013260200810432434\n",
      "[Epoch 26]: \n",
      "train_acc  0.95304 \n",
      "train_loss 0.011799818353652954 \n",
      "test_acc    0.7833 \n",
      "test_loss  0.013241673564910888\n",
      "[Epoch 27]: \n",
      "train_acc  0.95836 \n",
      "train_loss 0.011759606997966767 \n",
      "test_acc    0.7904 \n",
      "test_loss  0.013191105020046234\n",
      "[Epoch 28]: \n",
      "train_acc  0.95536 \n",
      "train_loss 0.011782606711387634 \n",
      "test_acc    0.7893 \n",
      "test_loss  0.0132178582072258\n",
      "[Epoch 29]: \n",
      "train_acc  0.9614 \n",
      "train_loss 0.011732662272453308 \n",
      "test_acc    0.7904 \n",
      "test_loss  0.013184597098827362\n",
      "Finished Training\n"
     ]
    }
   ],
   "source": [
    "results = train(net)\n",
    "np.save('report_data/model2_result.npy', results)"
   ]
  },
  {
   "cell_type": "code",
   "execution_count": null,
   "metadata": {},
   "outputs": [],
   "source": [
    "visualize(net, results)"
   ]
  },
  {
   "cell_type": "code",
   "execution_count": null,
   "metadata": {},
   "outputs": [],
   "source": [
    "test(net)"
   ]
  },
  {
   "cell_type": "code",
   "execution_count": null,
   "metadata": {},
   "outputs": [],
   "source": []
  },
  {
   "cell_type": "markdown",
   "metadata": {},
   "source": [
    "# Model3"
   ]
  },
  {
   "cell_type": "code",
   "execution_count": null,
   "metadata": {},
   "outputs": [],
   "source": [
    "net = model3()"
   ]
  },
  {
   "cell_type": "code",
   "execution_count": null,
   "metadata": {},
   "outputs": [],
   "source": [
    "results = train(net)\n",
    "np.save('report_data/model3_result.npy', results)"
   ]
  },
  {
   "cell_type": "code",
   "execution_count": null,
   "metadata": {},
   "outputs": [],
   "source": [
    "visualize(net, results)"
   ]
  },
  {
   "cell_type": "code",
   "execution_count": null,
   "metadata": {},
   "outputs": [],
   "source": [
    "test(net)"
   ]
  },
  {
   "cell_type": "code",
   "execution_count": null,
   "metadata": {},
   "outputs": [],
   "source": []
  },
  {
   "cell_type": "code",
   "execution_count": null,
   "metadata": {},
   "outputs": [],
   "source": []
  },
  {
   "cell_type": "code",
   "execution_count": null,
   "metadata": {},
   "outputs": [],
   "source": [
    "# enclosed as an function\n",
    "\n",
    "import matplotlib.pyplot as plt\n",
    "import numpy as np\n",
    "\n",
    "def imshow(img):\n",
    "    img = img/2+0.5\n",
    "    npimg = img.numpy()\n",
    "    plt.imshow(np.transpose(npimg, (1,2,0)))\n",
    "    plt.show()\n",
    "\n",
    "dataiter = iter(trainloader)\n",
    "images, labels = dataiter.next()\n",
    "\n",
    "imshow(torchvision.utils.make_grid(images))\n",
    "print(' '.join(classes[labels[j]] for j in range(4)))"
   ]
  },
  {
   "cell_type": "code",
   "execution_count": null,
   "metadata": {},
   "outputs": [],
   "source": []
  },
  {
   "cell_type": "code",
   "execution_count": null,
   "metadata": {},
   "outputs": [],
   "source": []
  }
 ],
 "metadata": {
  "kernelspec": {
   "display_name": "Python 3",
   "language": "python",
   "name": "python3"
  },
  "language_info": {
   "codemirror_mode": {
    "name": "ipython",
    "version": 3
   },
   "file_extension": ".py",
   "mimetype": "text/x-python",
   "name": "python",
   "nbconvert_exporter": "python",
   "pygments_lexer": "ipython3",
   "version": "3.5.4"
  }
 },
 "nbformat": 4,
 "nbformat_minor": 2
}
