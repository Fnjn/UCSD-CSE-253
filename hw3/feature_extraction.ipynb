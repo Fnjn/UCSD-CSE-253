{
 "cells": [
  {
   "cell_type": "code",
   "execution_count": 21,
   "metadata": {},
   "outputs": [
    {
     "name": "stdout",
     "output_type": "stream",
     "text": [
      "The autoreload extension is already loaded. To reload it, use:\n",
      "  %reload_ext autoreload\n"
     ]
    }
   ],
   "source": [
    "import torch\n",
    "import torch.nn as nn\n",
    "import torch.nn.functional as F\n",
    "import torch.optim as optim\n",
    "import torchvision\n",
    "from torchvision import datasets, models, transforms\n",
    "from torch.utils.data import DataLoader\n",
    "from torch.autograd import Variable\n",
    "\n",
    "%matplotlib inline\n",
    "import matplotlib.pyplot as plt\n",
    "import numpy as np\n",
    "import time\n",
    "\n",
    "%load_ext autoreload\n",
    "%autoreload 2\n",
    "\n",
    "from caltech256 import Caltech256\n",
    "from deep_cnn_structures import VGG_fe, train_model, test_model, each_class_accuracy, plot_loss, plot_acc"
   ]
  },
  {
   "cell_type": "code",
   "execution_count": 2,
   "metadata": {
    "collapsed": true
   },
   "outputs": [],
   "source": [
    "data_transforms = {\n",
    "    'train': transforms.Compose([\n",
    "        transforms.Resize(224),\n",
    "        transforms.CenterCrop(224),\n",
    "        transforms.ToTensor(),\n",
    "        transforms.Normalize(mean=[0.485, 0.456, 0.406], std=[0.229, 0.224, 0.225]),\n",
    "    ]),\n",
    "    'test': transforms.Compose([\n",
    "        transforms.Resize(224),\n",
    "        transforms.CenterCrop(224),\n",
    "        transforms.ToTensor(),\n",
    "       transforms.Normalize(mean=[0.485, 0.456, 0.406], std=[0.229, 0.224, 0.225]),\n",
    "    ]),\n",
    "    'visual': transforms.Compose([\n",
    "        transforms.Resize(224),\n",
    "        transforms.CenterCrop(224),\n",
    "        transforms.ToTensor(),\n",
    "    ]),\n",
    "}\n",
    "'''\n",
    "# Replace Resize() with below in pytorch 0.2\n",
    "transforms.Scale(256),\n",
    "'''\n",
    "\n",
    "data_dir = 'data/256_ObjectCategories'\n",
    "#data_dir = '/datasets/Caltech256/256_ObjectCategories'"
   ]
  },
  {
   "cell_type": "code",
   "execution_count": 3,
   "metadata": {
    "collapsed": true
   },
   "outputs": [],
   "source": [
    "caltech256_train = Caltech256(data_dir, data_transforms['train'], train=True)\n",
    "caltech256_test = Caltech256(data_dir, data_transforms['test'], train=False)"
   ]
  },
  {
   "cell_type": "code",
   "execution_count": 4,
   "metadata": {},
   "outputs": [],
   "source": [
    "vgg_fe3 = VGG_fe(24, 28*28*256)\n",
    "criterion = nn.CrossEntropyLoss()\n",
    "optimizer = optim.Adam(vgg_fe3.fc.parameters(), lr=0.00001)\n",
    "\n",
    "vgg_fe3 = nn.DataParallel(vgg_fe3)\n",
    "vgg_fe3 = vgg_fe3.cuda()"
   ]
  },
  {
   "cell_type": "code",
   "execution_count": 5,
   "metadata": {},
   "outputs": [
    {
     "name": "stdout",
     "output_type": "stream",
     "text": [
      "0 epoch loss: 5.535209    accuracy: 0.769043%\n",
      "1 epoch loss: 5.306221    accuracy: 4.858398%\n",
      "2 epoch loss: 4.776764    accuracy: 20.617676%\n",
      "3 epoch loss: 4.035853    accuracy: 50.976562%\n",
      "4 epoch loss: 3.207435    accuracy: 75.146484%\n",
      "Training comple in 19m, 31s\n"
     ]
    }
   ],
   "source": [
    "vgg_fe3, record3 = train_model(vgg_fe3, caltech256_train, criterion, optimizer, num_epochs=5, batch_size=8)"
   ]
  },
  {
   "cell_type": "code",
   "execution_count": 6,
   "metadata": {},
   "outputs": [
    {
     "name": "stdout",
     "output_type": "stream",
     "text": [
      "Test Set Accuracy: 19.189453%\n"
     ]
    },
    {
     "data": {
      "text/plain": [
       "0.19189453125"
      ]
     },
     "execution_count": 6,
     "metadata": {},
     "output_type": "execute_result"
    }
   ],
   "source": [
    "test_model(vgg_fe3, caltech256_test)"
   ]
  },
  {
   "cell_type": "code",
   "execution_count": 7,
   "metadata": {},
   "outputs": [
    {
     "name": "stdout",
     "output_type": "stream",
     "text": [
      "Accuracy of class 0 : 12 %\n",
      "Accuracy of class 1 : 12 %\n",
      "Accuracy of class 2 :  0 %\n",
      "Accuracy of class 3 : 25 %\n",
      "Accuracy of class 4 :  0 %\n",
      "Accuracy of class 5 :  0 %\n",
      "Accuracy of class 6 :  0 %\n",
      "Accuracy of class 7 : 25 %\n",
      "Accuracy of class 8 :  0 %\n",
      "Accuracy of class 9 :  0 %\n",
      "Accuracy of class 10 :  0 %\n",
      "Accuracy of class 11 : 62 %\n",
      "Accuracy of class 12 : 62 %\n",
      "Accuracy of class 13 :  0 %\n",
      "Accuracy of class 14 :  0 %\n",
      "Accuracy of class 15 : 62 %\n",
      "Accuracy of class 16 : 25 %\n",
      "Accuracy of class 17 :  0 %\n",
      "Accuracy of class 18 :  0 %\n",
      "Accuracy of class 19 : 50 %\n",
      "Accuracy of class 20 : 87 %\n",
      "Accuracy of class 21 : 12 %\n",
      "Accuracy of class 22 : 12 %\n",
      "Accuracy of class 23 :  0 %\n",
      "Accuracy of class 24 : 12 %\n",
      "Accuracy of class 25 :  0 %\n",
      "Accuracy of class 26 :  0 %\n",
      "Accuracy of class 27 :  0 %\n",
      "Accuracy of class 28 :  0 %\n",
      "Accuracy of class 29 :  0 %\n",
      "Accuracy of class 30 : 12 %\n",
      "Accuracy of class 31 : 25 %\n",
      "Accuracy of class 32 : 25 %\n",
      "Accuracy of class 33 :  0 %\n",
      "Accuracy of class 34 : 62 %\n",
      "Accuracy of class 35 : 37 %\n",
      "Accuracy of class 36 : 12 %\n",
      "Accuracy of class 37 :  0 %\n",
      "Accuracy of class 38 : 12 %\n",
      "Accuracy of class 39 :  0 %\n",
      "Accuracy of class 40 : 25 %\n",
      "Accuracy of class 41 :  0 %\n",
      "Accuracy of class 42 :  0 %\n",
      "Accuracy of class 43 : 87 %\n",
      "Accuracy of class 44 :  0 %\n",
      "Accuracy of class 45 : 62 %\n",
      "Accuracy of class 46 : 12 %\n",
      "Accuracy of class 47 :  0 %\n",
      "Accuracy of class 48 : 12 %\n",
      "Accuracy of class 49 :  0 %\n",
      "Accuracy of class 50 :  0 %\n",
      "Accuracy of class 51 :  0 %\n",
      "Accuracy of class 52 : 62 %\n",
      "Accuracy of class 53 :  0 %\n",
      "Accuracy of class 54 :  0 %\n",
      "Accuracy of class 55 :  0 %\n",
      "Accuracy of class 56 :  0 %\n",
      "Accuracy of class 57 :  0 %\n",
      "Accuracy of class 58 : 12 %\n",
      "Accuracy of class 59 :  0 %\n",
      "Accuracy of class 60 :  0 %\n",
      "Accuracy of class 61 : 37 %\n",
      "Accuracy of class 62 : 12 %\n",
      "Accuracy of class 63 : 12 %\n",
      "Accuracy of class 64 :  0 %\n",
      "Accuracy of class 65 : 12 %\n",
      "Accuracy of class 66 : 25 %\n",
      "Accuracy of class 67 : 12 %\n",
      "Accuracy of class 68 : 37 %\n",
      "Accuracy of class 69 : 12 %\n",
      "Accuracy of class 70 :  0 %\n",
      "Accuracy of class 71 :  0 %\n",
      "Accuracy of class 72 : 50 %\n",
      "Accuracy of class 73 :  0 %\n",
      "Accuracy of class 74 : 25 %\n",
      "Accuracy of class 75 : 25 %\n",
      "Accuracy of class 76 : 62 %\n",
      "Accuracy of class 77 :  0 %\n",
      "Accuracy of class 78 : 62 %\n",
      "Accuracy of class 79 :  0 %\n",
      "Accuracy of class 80 :  0 %\n",
      "Accuracy of class 81 : 62 %\n",
      "Accuracy of class 82 :  0 %\n",
      "Accuracy of class 83 :  0 %\n",
      "Accuracy of class 84 :  0 %\n",
      "Accuracy of class 85 : 25 %\n",
      "Accuracy of class 86 :  0 %\n",
      "Accuracy of class 87 :  0 %\n",
      "Accuracy of class 88 :  0 %\n",
      "Accuracy of class 89 : 12 %\n",
      "Accuracy of class 90 :  0 %\n",
      "Accuracy of class 91 : 62 %\n",
      "Accuracy of class 92 : 12 %\n",
      "Accuracy of class 93 : 37 %\n",
      "Accuracy of class 94 : 25 %\n",
      "Accuracy of class 95 : 25 %\n",
      "Accuracy of class 96 :  0 %\n",
      "Accuracy of class 97 : 50 %\n",
      "Accuracy of class 98 : 25 %\n",
      "Accuracy of class 99 : 62 %\n",
      "Accuracy of class 100 :  0 %\n",
      "Accuracy of class 101 :  0 %\n",
      "Accuracy of class 102 : 75 %\n",
      "Accuracy of class 103 :  0 %\n",
      "Accuracy of class 104 : 12 %\n",
      "Accuracy of class 105 :  0 %\n",
      "Accuracy of class 106 : 12 %\n",
      "Accuracy of class 107 :  0 %\n",
      "Accuracy of class 108 :  0 %\n",
      "Accuracy of class 109 : 25 %\n",
      "Accuracy of class 110 : 12 %\n",
      "Accuracy of class 111 :  0 %\n",
      "Accuracy of class 112 : 12 %\n",
      "Accuracy of class 113 : 12 %\n",
      "Accuracy of class 114 :  0 %\n",
      "Accuracy of class 115 : 12 %\n",
      "Accuracy of class 116 :  0 %\n",
      "Accuracy of class 117 : 75 %\n",
      "Accuracy of class 118 :  0 %\n",
      "Accuracy of class 119 : 25 %\n",
      "Accuracy of class 120 :  0 %\n",
      "Accuracy of class 121 :  0 %\n",
      "Accuracy of class 122 : 87 %\n",
      "Accuracy of class 123 : 37 %\n",
      "Accuracy of class 124 :  0 %\n",
      "Accuracy of class 125 :  0 %\n",
      "Accuracy of class 126 : 37 %\n",
      "Accuracy of class 127 : 25 %\n",
      "Accuracy of class 128 : 87 %\n",
      "Accuracy of class 129 : 50 %\n",
      "Accuracy of class 130 :  0 %\n",
      "Accuracy of class 131 :  0 %\n",
      "Accuracy of class 132 :  0 %\n",
      "Accuracy of class 133 : 12 %\n",
      "Accuracy of class 134 :  0 %\n",
      "Accuracy of class 135 :  0 %\n",
      "Accuracy of class 136 : 50 %\n",
      "Accuracy of class 137 :  0 %\n",
      "Accuracy of class 138 : 25 %\n",
      "Accuracy of class 139 : 37 %\n",
      "Accuracy of class 140 :  0 %\n",
      "Accuracy of class 141 : 12 %\n",
      "Accuracy of class 142 :  0 %\n",
      "Accuracy of class 143 :  0 %\n",
      "Accuracy of class 144 : 100 %\n",
      "Accuracy of class 145 : 25 %\n",
      "Accuracy of class 146 :  0 %\n",
      "Accuracy of class 147 :  0 %\n",
      "Accuracy of class 148 :  0 %\n",
      "Accuracy of class 149 :  0 %\n",
      "Accuracy of class 150 : 12 %\n",
      "Accuracy of class 151 :  0 %\n",
      "Accuracy of class 152 :  0 %\n",
      "Accuracy of class 153 : 25 %\n",
      "Accuracy of class 154 :  0 %\n",
      "Accuracy of class 155 : 37 %\n",
      "Accuracy of class 156 : 62 %\n",
      "Accuracy of class 157 :  0 %\n",
      "Accuracy of class 158 :  0 %\n",
      "Accuracy of class 159 : 37 %\n",
      "Accuracy of class 160 :  0 %\n",
      "Accuracy of class 161 : 25 %\n",
      "Accuracy of class 162 :  0 %\n",
      "Accuracy of class 163 :  0 %\n",
      "Accuracy of class 164 :  0 %\n",
      "Accuracy of class 165 : 25 %\n",
      "Accuracy of class 166 :  0 %\n",
      "Accuracy of class 167 :  0 %\n",
      "Accuracy of class 168 : 25 %\n",
      "Accuracy of class 169 : 87 %\n",
      "Accuracy of class 170 : 37 %\n",
      "Accuracy of class 171 : 12 %\n",
      "Accuracy of class 172 :  0 %\n",
      "Accuracy of class 173 : 25 %\n",
      "Accuracy of class 174 : 12 %\n",
      "Accuracy of class 175 : 50 %\n",
      "Accuracy of class 176 : 100 %\n",
      "Accuracy of class 177 : 50 %\n",
      "Accuracy of class 178 :  0 %\n",
      "Accuracy of class 179 :  0 %\n",
      "Accuracy of class 180 :  0 %\n",
      "Accuracy of class 181 : 50 %\n",
      "Accuracy of class 182 : 37 %\n",
      "Accuracy of class 183 : 100 %\n",
      "Accuracy of class 184 :  0 %\n",
      "Accuracy of class 185 : 25 %\n",
      "Accuracy of class 186 : 62 %\n",
      "Accuracy of class 187 :  0 %\n",
      "Accuracy of class 188 :  0 %\n",
      "Accuracy of class 189 :  0 %\n",
      "Accuracy of class 190 :  0 %\n",
      "Accuracy of class 191 : 25 %\n",
      "Accuracy of class 192 :  0 %\n",
      "Accuracy of class 193 :  0 %\n",
      "Accuracy of class 194 :  0 %\n",
      "Accuracy of class 195 : 50 %\n",
      "Accuracy of class 196 : 12 %\n",
      "Accuracy of class 197 : 12 %\n",
      "Accuracy of class 198 :  0 %\n",
      "Accuracy of class 199 :  0 %\n",
      "Accuracy of class 200 : 12 %\n",
      "Accuracy of class 201 : 62 %\n",
      "Accuracy of class 202 : 50 %\n",
      "Accuracy of class 203 : 50 %\n",
      "Accuracy of class 204 :  0 %\n",
      "Accuracy of class 205 :  0 %\n",
      "Accuracy of class 206 :  0 %\n",
      "Accuracy of class 207 : 12 %\n",
      "Accuracy of class 208 :  0 %\n",
      "Accuracy of class 209 : 12 %\n",
      "Accuracy of class 210 :  0 %\n",
      "Accuracy of class 211 :  0 %\n",
      "Accuracy of class 212 : 50 %\n",
      "Accuracy of class 213 : 37 %\n",
      "Accuracy of class 214 : 12 %\n",
      "Accuracy of class 215 :  0 %\n",
      "Accuracy of class 216 : 62 %\n",
      "Accuracy of class 217 :  0 %\n",
      "Accuracy of class 218 : 12 %\n",
      "Accuracy of class 219 : 25 %\n",
      "Accuracy of class 220 :  0 %\n",
      "Accuracy of class 221 : 25 %\n",
      "Accuracy of class 222 :  0 %\n",
      "Accuracy of class 223 :  0 %\n",
      "Accuracy of class 224 : 25 %\n",
      "Accuracy of class 225 :  0 %\n",
      "Accuracy of class 226 : 25 %\n",
      "Accuracy of class 227 :  0 %\n",
      "Accuracy of class 228 :  0 %\n",
      "Accuracy of class 229 : 87 %\n",
      "Accuracy of class 230 : 25 %\n",
      "Accuracy of class 231 :  0 %\n",
      "Accuracy of class 232 :  0 %\n",
      "Accuracy of class 233 : 62 %\n",
      "Accuracy of class 234 :  0 %\n",
      "Accuracy of class 235 :  0 %\n",
      "Accuracy of class 236 : 62 %\n",
      "Accuracy of class 237 : 37 %\n",
      "Accuracy of class 238 : 37 %\n",
      "Accuracy of class 239 : 62 %\n",
      "Accuracy of class 240 :  0 %\n",
      "Accuracy of class 241 :  0 %\n",
      "Accuracy of class 242 :  0 %\n",
      "Accuracy of class 243 :  0 %\n",
      "Accuracy of class 244 :  0 %\n",
      "Accuracy of class 245 : 12 %\n",
      "Accuracy of class 246 : 12 %\n",
      "Accuracy of class 247 : 12 %\n",
      "Accuracy of class 248 :  0 %\n",
      "Accuracy of class 249 : 87 %\n",
      "Accuracy of class 250 : 87 %\n",
      "Accuracy of class 251 : 100 %\n",
      "Accuracy of class 252 : 100 %\n",
      "Accuracy of class 253 :  0 %\n",
      "Accuracy of class 254 : 25 %\n",
      "Accuracy of class 255 : 50 %\n"
     ]
    }
   ],
   "source": [
    "each_class_accuracy(vgg_fe3, caltech256_test)"
   ]
  },
  {
   "cell_type": "code",
   "execution_count": 8,
   "metadata": {
    "collapsed": true
   },
   "outputs": [],
   "source": [
    "vgg_fe4 = VGG_fe(34, 14*14*512)\n",
    "criterion = nn.CrossEntropyLoss()\n",
    "optimizer = optim.Adam(vgg_fe4.fc.parameters(), lr=0.0001)\n",
    "\n",
    "vgg_fe4 = nn.DataParallel(vgg_fe4)\n",
    "vgg_fe4 = vgg_fe4.cuda()"
   ]
  },
  {
   "cell_type": "code",
   "execution_count": 9,
   "metadata": {},
   "outputs": [
    {
     "name": "stdout",
     "output_type": "stream",
     "text": [
      "0 epoch loss: 5.231334    accuracy: 5.053711%\n",
      "1 epoch loss: 3.402459    accuracy: 36.877441%\n",
      "2 epoch loss: 1.649565    accuracy: 77.148438%\n",
      "3 epoch loss: 0.516300    accuracy: 95.935059%\n",
      "4 epoch loss: 0.098959    accuracy: 99.658203%\n",
      "Training comple in 15m, 21s\n"
     ]
    }
   ],
   "source": [
    "vgg_fe4, record4 = train_model(vgg_fe4, caltech256_train, criterion, optimizer, num_epochs=5, batch_size=8)"
   ]
  },
  {
   "cell_type": "code",
   "execution_count": 10,
   "metadata": {},
   "outputs": [
    {
     "name": "stdout",
     "output_type": "stream",
     "text": [
      "Test Set Accuracy: 44.726562%\n"
     ]
    },
    {
     "data": {
      "text/plain": [
       "0.447265625"
      ]
     },
     "execution_count": 10,
     "metadata": {},
     "output_type": "execute_result"
    }
   ],
   "source": [
    "test_model(vgg_fe4, caltech256_test)"
   ]
  },
  {
   "cell_type": "code",
   "execution_count": 11,
   "metadata": {},
   "outputs": [
    {
     "name": "stdout",
     "output_type": "stream",
     "text": [
      "Accuracy of class 0 : 12 %\n",
      "Accuracy of class 1 : 37 %\n",
      "Accuracy of class 2 : 75 %\n",
      "Accuracy of class 3 : 50 %\n",
      "Accuracy of class 4 : 12 %\n",
      "Accuracy of class 5 :  0 %\n",
      "Accuracy of class 6 : 25 %\n",
      "Accuracy of class 7 : 50 %\n",
      "Accuracy of class 8 : 25 %\n",
      "Accuracy of class 9 : 50 %\n",
      "Accuracy of class 10 : 50 %\n",
      "Accuracy of class 11 : 62 %\n",
      "Accuracy of class 12 : 37 %\n",
      "Accuracy of class 13 : 37 %\n",
      "Accuracy of class 14 : 87 %\n",
      "Accuracy of class 15 : 50 %\n",
      "Accuracy of class 16 : 37 %\n",
      "Accuracy of class 17 : 25 %\n",
      "Accuracy of class 18 : 12 %\n",
      "Accuracy of class 19 : 100 %\n",
      "Accuracy of class 20 : 100 %\n",
      "Accuracy of class 21 : 100 %\n",
      "Accuracy of class 22 : 37 %\n",
      "Accuracy of class 23 : 50 %\n",
      "Accuracy of class 24 : 37 %\n",
      "Accuracy of class 25 : 37 %\n",
      "Accuracy of class 26 : 62 %\n",
      "Accuracy of class 27 : 25 %\n",
      "Accuracy of class 28 : 12 %\n",
      "Accuracy of class 29 : 12 %\n",
      "Accuracy of class 30 : 50 %\n",
      "Accuracy of class 31 : 62 %\n",
      "Accuracy of class 32 : 37 %\n",
      "Accuracy of class 33 : 75 %\n",
      "Accuracy of class 34 : 62 %\n",
      "Accuracy of class 35 : 62 %\n",
      "Accuracy of class 36 : 50 %\n",
      "Accuracy of class 37 : 37 %\n",
      "Accuracy of class 38 : 25 %\n",
      "Accuracy of class 39 : 37 %\n",
      "Accuracy of class 40 : 75 %\n",
      "Accuracy of class 41 :  0 %\n",
      "Accuracy of class 42 : 87 %\n",
      "Accuracy of class 43 : 100 %\n",
      "Accuracy of class 44 : 37 %\n",
      "Accuracy of class 45 : 50 %\n",
      "Accuracy of class 46 : 37 %\n",
      "Accuracy of class 47 : 62 %\n",
      "Accuracy of class 48 : 75 %\n",
      "Accuracy of class 49 : 87 %\n",
      "Accuracy of class 50 : 50 %\n",
      "Accuracy of class 51 : 37 %\n",
      "Accuracy of class 52 : 75 %\n",
      "Accuracy of class 53 : 37 %\n",
      "Accuracy of class 54 : 25 %\n",
      "Accuracy of class 55 : 12 %\n",
      "Accuracy of class 56 : 12 %\n",
      "Accuracy of class 57 : 75 %\n",
      "Accuracy of class 58 :  0 %\n",
      "Accuracy of class 59 : 12 %\n",
      "Accuracy of class 60 : 50 %\n",
      "Accuracy of class 61 : 50 %\n",
      "Accuracy of class 62 : 25 %\n",
      "Accuracy of class 63 : 37 %\n",
      "Accuracy of class 64 : 50 %\n",
      "Accuracy of class 65 : 75 %\n",
      "Accuracy of class 66 : 25 %\n",
      "Accuracy of class 67 : 50 %\n",
      "Accuracy of class 68 : 50 %\n",
      "Accuracy of class 69 : 50 %\n",
      "Accuracy of class 70 : 25 %\n",
      "Accuracy of class 71 : 75 %\n",
      "Accuracy of class 72 : 50 %\n",
      "Accuracy of class 73 :  0 %\n",
      "Accuracy of class 74 : 25 %\n",
      "Accuracy of class 75 : 37 %\n",
      "Accuracy of class 76 : 100 %\n",
      "Accuracy of class 77 : 37 %\n",
      "Accuracy of class 78 : 37 %\n",
      "Accuracy of class 79 :  0 %\n",
      "Accuracy of class 80 : 25 %\n",
      "Accuracy of class 81 : 12 %\n",
      "Accuracy of class 82 :  0 %\n",
      "Accuracy of class 83 : 37 %\n",
      "Accuracy of class 84 : 12 %\n",
      "Accuracy of class 85 : 25 %\n",
      "Accuracy of class 86 :  0 %\n",
      "Accuracy of class 87 : 12 %\n",
      "Accuracy of class 88 : 37 %\n",
      "Accuracy of class 89 : 50 %\n",
      "Accuracy of class 90 : 50 %\n",
      "Accuracy of class 91 : 75 %\n",
      "Accuracy of class 92 : 12 %\n",
      "Accuracy of class 93 : 50 %\n",
      "Accuracy of class 94 : 62 %\n",
      "Accuracy of class 95 : 37 %\n",
      "Accuracy of class 96 : 37 %\n",
      "Accuracy of class 97 : 50 %\n",
      "Accuracy of class 98 : 50 %\n",
      "Accuracy of class 99 : 75 %\n",
      "Accuracy of class 100 : 25 %\n",
      "Accuracy of class 101 : 50 %\n",
      "Accuracy of class 102 : 75 %\n",
      "Accuracy of class 103 : 100 %\n",
      "Accuracy of class 104 :  0 %\n",
      "Accuracy of class 105 : 25 %\n",
      "Accuracy of class 106 : 62 %\n",
      "Accuracy of class 107 : 12 %\n",
      "Accuracy of class 108 : 25 %\n",
      "Accuracy of class 109 : 50 %\n",
      "Accuracy of class 110 : 62 %\n",
      "Accuracy of class 111 : 50 %\n",
      "Accuracy of class 112 : 62 %\n",
      "Accuracy of class 113 : 37 %\n",
      "Accuracy of class 114 : 75 %\n",
      "Accuracy of class 115 : 12 %\n",
      "Accuracy of class 116 : 50 %\n",
      "Accuracy of class 117 : 75 %\n",
      "Accuracy of class 118 : 50 %\n",
      "Accuracy of class 119 : 12 %\n",
      "Accuracy of class 120 : 75 %\n",
      "Accuracy of class 121 :  0 %\n",
      "Accuracy of class 122 : 75 %\n",
      "Accuracy of class 123 : 75 %\n",
      "Accuracy of class 124 :  0 %\n",
      "Accuracy of class 125 : 62 %\n",
      "Accuracy of class 126 : 87 %\n",
      "Accuracy of class 127 : 12 %\n",
      "Accuracy of class 128 : 87 %\n",
      "Accuracy of class 129 : 50 %\n",
      "Accuracy of class 130 : 37 %\n",
      "Accuracy of class 131 : 25 %\n",
      "Accuracy of class 132 : 62 %\n",
      "Accuracy of class 133 : 62 %\n",
      "Accuracy of class 134 : 12 %\n",
      "Accuracy of class 135 : 25 %\n",
      "Accuracy of class 136 : 50 %\n",
      "Accuracy of class 137 : 25 %\n",
      "Accuracy of class 138 : 37 %\n",
      "Accuracy of class 139 : 87 %\n",
      "Accuracy of class 140 : 12 %\n",
      "Accuracy of class 141 : 50 %\n",
      "Accuracy of class 142 :  0 %\n",
      "Accuracy of class 143 : 25 %\n",
      "Accuracy of class 144 : 100 %\n",
      "Accuracy of class 145 : 50 %\n",
      "Accuracy of class 146 : 12 %\n",
      "Accuracy of class 147 : 12 %\n",
      "Accuracy of class 148 : 25 %\n",
      "Accuracy of class 149 :  0 %\n",
      "Accuracy of class 150 : 37 %\n",
      "Accuracy of class 151 : 50 %\n",
      "Accuracy of class 152 : 50 %\n",
      "Accuracy of class 153 : 87 %\n",
      "Accuracy of class 154 : 12 %\n",
      "Accuracy of class 155 : 75 %\n",
      "Accuracy of class 156 : 62 %\n",
      "Accuracy of class 157 : 37 %\n",
      "Accuracy of class 158 : 37 %\n",
      "Accuracy of class 159 : 37 %\n",
      "Accuracy of class 160 : 75 %\n",
      "Accuracy of class 161 : 50 %\n",
      "Accuracy of class 162 : 37 %\n",
      "Accuracy of class 163 : 62 %\n",
      "Accuracy of class 164 : 25 %\n",
      "Accuracy of class 165 : 50 %\n",
      "Accuracy of class 166 : 25 %\n",
      "Accuracy of class 167 : 75 %\n",
      "Accuracy of class 168 : 37 %\n",
      "Accuracy of class 169 : 87 %\n",
      "Accuracy of class 170 : 37 %\n",
      "Accuracy of class 171 : 50 %\n",
      "Accuracy of class 172 : 25 %\n",
      "Accuracy of class 173 : 62 %\n",
      "Accuracy of class 174 : 37 %\n",
      "Accuracy of class 175 : 50 %\n",
      "Accuracy of class 176 : 87 %\n",
      "Accuracy of class 177 : 62 %\n",
      "Accuracy of class 178 : 87 %\n",
      "Accuracy of class 179 :  0 %\n",
      "Accuracy of class 180 : 12 %\n",
      "Accuracy of class 181 : 75 %\n",
      "Accuracy of class 182 : 75 %\n",
      "Accuracy of class 183 : 87 %\n",
      "Accuracy of class 184 :  0 %\n",
      "Accuracy of class 185 : 50 %\n",
      "Accuracy of class 186 : 87 %\n",
      "Accuracy of class 187 :  0 %\n",
      "Accuracy of class 188 :  0 %\n",
      "Accuracy of class 189 : 25 %\n",
      "Accuracy of class 190 : 25 %\n",
      "Accuracy of class 191 : 50 %\n",
      "Accuracy of class 192 : 12 %\n",
      "Accuracy of class 193 : 87 %\n",
      "Accuracy of class 194 :  0 %\n",
      "Accuracy of class 195 : 62 %\n",
      "Accuracy of class 196 : 37 %\n",
      "Accuracy of class 197 : 25 %\n",
      "Accuracy of class 198 :  0 %\n",
      "Accuracy of class 199 : 50 %\n",
      "Accuracy of class 200 : 87 %\n",
      "Accuracy of class 201 : 62 %\n",
      "Accuracy of class 202 : 25 %\n",
      "Accuracy of class 203 : 75 %\n",
      "Accuracy of class 204 : 37 %\n",
      "Accuracy of class 205 : 37 %\n",
      "Accuracy of class 206 : 50 %\n",
      "Accuracy of class 207 : 50 %\n",
      "Accuracy of class 208 : 25 %\n",
      "Accuracy of class 209 : 25 %\n",
      "Accuracy of class 210 : 62 %\n",
      "Accuracy of class 211 : 25 %\n",
      "Accuracy of class 212 : 62 %\n",
      "Accuracy of class 213 : 50 %\n",
      "Accuracy of class 214 : 50 %\n",
      "Accuracy of class 215 : 62 %\n",
      "Accuracy of class 216 : 87 %\n",
      "Accuracy of class 217 : 12 %\n",
      "Accuracy of class 218 : 62 %\n",
      "Accuracy of class 219 : 12 %\n",
      "Accuracy of class 220 : 75 %\n",
      "Accuracy of class 221 : 50 %\n",
      "Accuracy of class 222 : 37 %\n",
      "Accuracy of class 223 : 25 %\n",
      "Accuracy of class 224 : 87 %\n",
      "Accuracy of class 225 :  0 %\n",
      "Accuracy of class 226 : 50 %\n",
      "Accuracy of class 227 : 62 %\n",
      "Accuracy of class 228 : 25 %\n",
      "Accuracy of class 229 : 87 %\n",
      "Accuracy of class 230 : 37 %\n",
      "Accuracy of class 231 : 50 %\n",
      "Accuracy of class 232 : 12 %\n",
      "Accuracy of class 233 : 12 %\n",
      "Accuracy of class 234 : 50 %\n",
      "Accuracy of class 235 : 50 %\n",
      "Accuracy of class 236 : 50 %\n",
      "Accuracy of class 237 : 75 %\n",
      "Accuracy of class 238 : 37 %\n",
      "Accuracy of class 239 : 87 %\n",
      "Accuracy of class 240 : 50 %\n",
      "Accuracy of class 241 : 37 %\n",
      "Accuracy of class 242 : 25 %\n",
      "Accuracy of class 243 :  0 %\n",
      "Accuracy of class 244 : 50 %\n",
      "Accuracy of class 245 : 25 %\n",
      "Accuracy of class 246 : 25 %\n",
      "Accuracy of class 247 : 87 %\n",
      "Accuracy of class 248 :  0 %\n",
      "Accuracy of class 249 : 62 %\n",
      "Accuracy of class 250 : 87 %\n",
      "Accuracy of class 251 : 100 %\n",
      "Accuracy of class 252 : 100 %\n",
      "Accuracy of class 253 : 25 %\n",
      "Accuracy of class 254 : 12 %\n",
      "Accuracy of class 255 : 87 %\n"
     ]
    }
   ],
   "source": [
    "each_class_accuracy(vgg_fe4, caltech256_test)"
   ]
  },
  {
   "cell_type": "code",
   "execution_count": 22,
   "metadata": {},
   "outputs": [
    {
     "data": {
      "image/png": "[encoded data removed]",
      "text/plain": [
       "<matplotlib.figure.Figure at 0x7f500d1c0d68>"
      ]
     },
     "metadata": {},
     "output_type": "display_data"
    }
   ],
   "source": [
    "plot_loss(record3['loss'])"
   ]
  },
  {
   "cell_type": "code",
   "execution_count": 19,
   "metadata": {},
   "outputs": [
    {
     "name": "stdout",
     "output_type": "stream",
     "text": [
      "[  0.76904297   4.85839844  20.61767578  50.9765625   75.14648438]\n"
     ]
    },
    {
     "data": {
      "image/png": "[encoded data removed]",
      "text/plain": [
       "<matplotlib.figure.Figure at 0x7f500d219668>"
      ]
     },
     "metadata": {},
     "output_type": "display_data"
    }
   ],
   "source": [
    "plot_acc(record3['acc'])"
   ]
  },
  {
   "cell_type": "code",
   "execution_count": 23,
   "metadata": {},
   "outputs": [
    {
     "data": {
      "image/png": "[encoded data removed]",
      "text/plain": [
       "<matplotlib.figure.Figure at 0x7f500d160b70>"
      ]
     },
     "metadata": {},
     "output_type": "display_data"
    }
   ],
   "source": [
    "plot_loss(record4['loss'])"
   ]
  },
  {
   "cell_type": "code",
   "execution_count": 24,
   "metadata": {},
   "outputs": [
    {
     "name": "stdout",
     "output_type": "stream",
     "text": [
      "[  5.05371094  36.87744141  77.1484375   95.93505859  99.65820312]\n"
     ]
    },
    {
     "data": {
      "image/png": "[encoded data removed]",
      "text/plain": [
       "<matplotlib.figure.Figure at 0x7f4ff5582978>"
      ]
     },
     "metadata": {},
     "output_type": "display_data"
    }
   ],
   "source": [
    "plot_acc(record4['acc'])"
   ]
  },
  {
   "cell_type": "code",
   "execution_count": null,
   "metadata": {
    "collapsed": true
   },
   "outputs": [],
   "source": []
  }
 ],
 "metadata": {
  "kernelspec": {
   "display_name": "Python 3",
   "language": "python",
   "name": "python3"
  },
  "language_info": {
   "codemirror_mode": {
    "name": "ipython",
    "version": 3
   },
   "file_extension": ".py",
   "mimetype": "text/x-python",
   "name": "python",
   "nbconvert_exporter": "python",
   "pygments_lexer": "ipython3",
   "version": "3.5.2"
  }
 },
 "nbformat": 4,
 "nbformat_minor": 2
}
