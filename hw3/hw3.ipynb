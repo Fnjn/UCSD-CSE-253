{
 "cells": [
  {
   "cell_type": "code",
   "execution_count": 1,
   "metadata": {
    "collapsed": true
   },
   "outputs": [],
   "source": [
    "import torch\n",
    "import numpy as np\n",
    "%matplotlib inline\n",
    "import matplotlib.pyplot as plt\n",
    "\n",
    "from torch.autograd import Variable\n",
    "import torch.nn as nn\n",
    "import torch.nn.functional as F\n",
    "import torchvision\n",
    "import torchvision.transforms as transforms\n",
    "from torch.utils.data import Dataset, DataLoader\n",
    "\n",
    "%load_ext autoreload\n",
    "%autoreload 2\n",
    "\n",
    "from deep_cnn_structures import ResNet"
   ]
  },
  {
   "cell_type": "code",
   "execution_count": 2,
   "metadata": {},
   "outputs": [
    {
     "name": "stdout",
     "output_type": "stream",
     "text": [
      "Files already downloaded and verified\n",
      "Files already downloaded and verified\n"
     ]
    }
   ],
   "source": [
    "batch_size = 16\n",
    "transform = transforms.Compose([transforms.ToTensor(), \n",
    "                                transforms.Normalize((0.5,0.5,0.5),(0.5,0.5,0.5))])\n",
    "\n",
    "trainset = torchvision.datasets.CIFAR10(root='./data', train=True, download=True, \n",
    "                                       transform=transform)\n",
    "trainloader = torch.utils.data.DataLoader(trainset, batch_size=batch_size, shuffle=True, \n",
    "                                          num_workers=2)\n",
    "\n",
    "testset = torchvision.datasets.CIFAR10(root='./data', train=False, download=True,\n",
    "                                      transform=transform)\n",
    "testloader = DataLoader(testset, batch_size=batch_size, shuffle=False,\n",
    "                                         num_workers=2)\n",
    "classes = ('plane', 'car', 'bird', 'cat',\n",
    "           'deer', 'dog', 'frog', 'horse', 'ship', 'truck')"
   ]
  },
  {
   "cell_type": "code",
   "execution_count": 3,
   "metadata": {},
   "outputs": [
    {
     "data": {
      "text/plain": [
       "ResNet(\n",
       "  (conv1A): Conv2d (3, 64, kernel_size=(3, 3), stride=(1, 1))\n",
       "  (bn1A): BatchNorm2d(64, eps=1e-05, momentum=0.1, affine=True)\n",
       "  (maxpool): MaxPool2d(kernel_size=(3, 3), stride=(2, 2), dilation=(1, 1))\n",
       "  (layer2A): Bottleneck1(\n",
       "    (conv1): Conv2d (64, 64, kernel_size=(1, 1), stride=(1, 1))\n",
       "    (bn1): BatchNorm2d(64, eps=1e-05, momentum=0.1, affine=True)\n",
       "    (conv2): Conv2d (64, 64, kernel_size=(3, 3), stride=(1, 1), padding=(1, 1))\n",
       "    (bn2): BatchNorm2d(64, eps=1e-05, momentum=0.1, affine=True)\n",
       "    (conv3): Conv2d (64, 256, kernel_size=(1, 1), stride=(1, 1))\n",
       "    (bn3): BatchNorm2d(256, eps=1e-05, momentum=0.1, affine=True)\n",
       "    (conv_sc): Conv2d (64, 256, kernel_size=(1, 1), stride=(1, 1))\n",
       "    (bn_sc): BatchNorm2d(256, eps=1e-05, momentum=0.1, affine=True)\n",
       "  )\n",
       "  (layer2B): Bottleneck2(\n",
       "    (conv1): Conv2d (256, 64, kernel_size=(1, 1), stride=(1, 1))\n",
       "    (bn1): BatchNorm2d(64, eps=1e-05, momentum=0.1, affine=True)\n",
       "    (conv2): Conv2d (64, 64, kernel_size=(3, 3), stride=(1, 1), padding=(1, 1))\n",
       "    (bn2): BatchNorm2d(64, eps=1e-05, momentum=0.1, affine=True)\n",
       "    (conv3): Conv2d (64, 256, kernel_size=(1, 1), stride=(1, 1))\n",
       "    (bn3): BatchNorm2d(256, eps=1e-05, momentum=0.1, affine=True)\n",
       "  )\n",
       "  (layer2C): Bottleneck2(\n",
       "    (conv1): Conv2d (256, 64, kernel_size=(1, 1), stride=(1, 1))\n",
       "    (bn1): BatchNorm2d(64, eps=1e-05, momentum=0.1, affine=True)\n",
       "    (conv2): Conv2d (64, 64, kernel_size=(3, 3), stride=(1, 1), padding=(1, 1))\n",
       "    (bn2): BatchNorm2d(64, eps=1e-05, momentum=0.1, affine=True)\n",
       "    (conv3): Conv2d (64, 256, kernel_size=(1, 1), stride=(1, 1))\n",
       "    (bn3): BatchNorm2d(256, eps=1e-05, momentum=0.1, affine=True)\n",
       "  )\n",
       "  (layer3A): Bottleneck1(\n",
       "    (conv1): Conv2d (256, 128, kernel_size=(1, 1), stride=(2, 2))\n",
       "    (bn1): BatchNorm2d(128, eps=1e-05, momentum=0.1, affine=True)\n",
       "    (conv2): Conv2d (128, 128, kernel_size=(3, 3), stride=(1, 1), padding=(1, 1))\n",
       "    (bn2): BatchNorm2d(128, eps=1e-05, momentum=0.1, affine=True)\n",
       "    (conv3): Conv2d (128, 512, kernel_size=(1, 1), stride=(1, 1))\n",
       "    (bn3): BatchNorm2d(512, eps=1e-05, momentum=0.1, affine=True)\n",
       "    (conv_sc): Conv2d (256, 512, kernel_size=(1, 1), stride=(2, 2))\n",
       "    (bn_sc): BatchNorm2d(512, eps=1e-05, momentum=0.1, affine=True)\n",
       "  )\n",
       "  (layer3B): Bottleneck2(\n",
       "    (conv1): Conv2d (512, 128, kernel_size=(1, 1), stride=(1, 1))\n",
       "    (bn1): BatchNorm2d(128, eps=1e-05, momentum=0.1, affine=True)\n",
       "    (conv2): Conv2d (128, 128, kernel_size=(3, 3), stride=(1, 1), padding=(1, 1))\n",
       "    (bn2): BatchNorm2d(128, eps=1e-05, momentum=0.1, affine=True)\n",
       "    (conv3): Conv2d (128, 512, kernel_size=(1, 1), stride=(1, 1))\n",
       "    (bn3): BatchNorm2d(512, eps=1e-05, momentum=0.1, affine=True)\n",
       "  )\n",
       "  (layer3C): Bottleneck2(\n",
       "    (conv1): Conv2d (512, 128, kernel_size=(1, 1), stride=(1, 1))\n",
       "    (bn1): BatchNorm2d(128, eps=1e-05, momentum=0.1, affine=True)\n",
       "    (conv2): Conv2d (128, 128, kernel_size=(3, 3), stride=(1, 1), padding=(1, 1))\n",
       "    (bn2): BatchNorm2d(128, eps=1e-05, momentum=0.1, affine=True)\n",
       "    (conv3): Conv2d (128, 512, kernel_size=(1, 1), stride=(1, 1))\n",
       "    (bn3): BatchNorm2d(512, eps=1e-05, momentum=0.1, affine=True)\n",
       "  )\n",
       "  (layer3D): Bottleneck2(\n",
       "    (conv1): Conv2d (512, 128, kernel_size=(1, 1), stride=(1, 1))\n",
       "    (bn1): BatchNorm2d(128, eps=1e-05, momentum=0.1, affine=True)\n",
       "    (conv2): Conv2d (128, 128, kernel_size=(3, 3), stride=(1, 1), padding=(1, 1))\n",
       "    (bn2): BatchNorm2d(128, eps=1e-05, momentum=0.1, affine=True)\n",
       "    (conv3): Conv2d (128, 512, kernel_size=(1, 1), stride=(1, 1))\n",
       "    (bn3): BatchNorm2d(512, eps=1e-05, momentum=0.1, affine=True)\n",
       "  )\n",
       "  (avgpool): AvgPool2d(kernel_size=2, stride=2, padding=0, ceil_mode=False, count_include_pad=True)\n",
       "  (fc): Linear(in_features=4608, out_features=10)\n",
       ")"
      ]
     },
     "execution_count": 3,
     "metadata": {},
     "output_type": "execute_result"
    }
   ],
   "source": [
    "net = ResNet()\n",
    "net.cuda()"
   ]
  },
  {
   "cell_type": "code",
   "execution_count": 4,
   "metadata": {
    "collapsed": true
   },
   "outputs": [],
   "source": [
    "criterion = nn.CrossEntropyLoss()\n",
    "optimizer = torch.optim.Adam(net.parameters())"
   ]
  },
  {
   "cell_type": "code",
   "execution_count": 6,
   "metadata": {},
   "outputs": [
    {
     "name": "stdout",
     "output_type": "stream",
     "text": [
      "[1,   500] loss: 0.252\n",
      "[1,  1000] loss: 0.280\n",
      "[1,  1500] loss: 0.303\n",
      "[2,   500] loss: 0.185\n",
      "[2,  1000] loss: 0.212\n",
      "[2,  1500] loss: 0.231\n",
      "[3,   500] loss: 0.129\n",
      "[3,  1000] loss: 0.171\n",
      "[3,  1500] loss: 0.187\n",
      "[4,   500] loss: 0.092\n",
      "[4,  1000] loss: 0.121\n",
      "[4,  1500] loss: 0.145\n",
      "[5,   500] loss: 0.083\n",
      "[5,  1000] loss: 0.111\n",
      "[5,  1500] loss: 0.131\n",
      "[6,   500] loss: 0.068\n",
      "[6,  1000] loss: 0.093\n",
      "[6,  1500] loss: 0.107\n",
      "[7,   500] loss: 0.064\n",
      "[7,  1000] loss: 0.075\n",
      "[7,  1500] loss: 0.089\n",
      "[8,   500] loss: 0.052\n",
      "[8,  1000] loss: 0.075\n",
      "[8,  1500] loss: 0.074\n",
      "[9,   500] loss: 0.053\n",
      "[9,  1000] loss: 0.062\n",
      "[9,  1500] loss: 0.071\n",
      "[10,   500] loss: 0.040\n",
      "[10,  1000] loss: 0.062\n",
      "[10,  1500] loss: 0.070\n",
      "[11,   500] loss: 0.048\n",
      "[11,  1000] loss: 0.059\n",
      "[11,  1500] loss: 0.057\n",
      "[12,   500] loss: 0.034\n",
      "[12,  1000] loss: 0.062\n",
      "[12,  1500] loss: 0.055\n",
      "[13,   500] loss: 0.035\n",
      "[13,  1000] loss: 0.049\n",
      "[13,  1500] loss: 0.057\n",
      "[14,   500] loss: 0.036\n",
      "[14,  1000] loss: 0.053\n",
      "[14,  1500] loss: 0.048\n",
      "[15,   500] loss: 0.033\n",
      "[15,  1000] loss: 0.042\n",
      "[15,  1500] loss: 0.055\n",
      "[16,   500] loss: 0.033\n",
      "[16,  1000] loss: 0.040\n",
      "[16,  1500] loss: 0.052\n",
      "[17,   500] loss: 0.024\n",
      "[17,  1000] loss: 0.042\n",
      "[17,  1500] loss: 0.044\n",
      "[18,   500] loss: 0.033\n",
      "[18,  1000] loss: 0.035\n",
      "[18,  1500] loss: 0.050\n",
      "[19,   500] loss: 0.032\n",
      "[19,  1000] loss: 0.029\n",
      "[19,  1500] loss: 0.041\n",
      "[20,   500] loss: 0.038\n",
      "[20,  1000] loss: 0.038\n",
      "[20,  1500] loss: 0.033\n",
      "Finished Training\n"
     ]
    }
   ],
   "source": [
    "for epoch in range(20):\n",
    "    running_loss = 0.\n",
    "    for i, data in enumerate(trainloader, 0):\n",
    "        inputs, labels = data\n",
    "        inputs, labels = Variable(inputs.cuda()), Variable(labels.cuda())\n",
    "        optimizer.zero_grad()\n",
    "        \n",
    "        outputs = net(inputs)\n",
    "        loss = criterion(outputs, labels)\n",
    "        loss.backward()\n",
    "        optimizer.step()\n",
    "        \n",
    "        running_loss += loss.data[0]\n",
    "        \n",
    "        if (i+1) % 500 == 0:\n",
    "            print('[%d, %5d] loss: %.3f' % (epoch+1, i+1, running_loss/500))\n",
    "            running_loss = 0.\n",
    "\n",
    "print('Finished Training')"
   ]
  },
  {
   "cell_type": "code",
   "execution_count": 7,
   "metadata": {},
   "outputs": [
    {
     "name": "stdout",
     "output_type": "stream",
     "text": [
      "Accuracy of the network on 10000 test images: 82 %\n"
     ]
    }
   ],
   "source": [
    "correct = 0\n",
    "total = 0\n",
    "for data in testloader:\n",
    "    images, labels = data\n",
    "    outputs = net(Variable(images.cuda()))\n",
    "    _, predicted = torch.max(outputs.data, 1)\n",
    "    total += labels.size(0)\n",
    "    correct += (predicted == labels.cuda()).sum()\n",
    "    \n",
    "print('Accuracy of the network on 10000 test images: %d %%' % (100 * correct / total))"
   ]
  },
  {
   "cell_type": "code",
   "execution_count": 15,
   "metadata": {},
   "outputs": [
    {
     "name": "stdout",
     "output_type": "stream",
     "text": [
      "Accuracy of plane : 86 %\n",
      "Accuracy of   car : 91 %\n",
      "Accuracy of  bird : 69 %\n",
      "Accuracy of   cat : 71 %\n",
      "Accuracy of  deer : 85 %\n",
      "Accuracy of   dog : 69 %\n",
      "Accuracy of  frog : 89 %\n",
      "Accuracy of horse : 84 %\n",
      "Accuracy of  ship : 90 %\n",
      "Accuracy of truck : 86 %\n"
     ]
    }
   ],
   "source": [
    "class_correct = list(0. for i in range(10))\n",
    "class_total = list(0. for i in range(10))\n",
    "\n",
    "for data in testloader:\n",
    "    images, labels = data\n",
    "    outputs = net(Variable(images.cuda()))\n",
    "    _, predicted = torch.max(outputs.data, 1)\n",
    "    c = (predicted == labels.cuda())\n",
    "    for i in range(labels.size(0)):\n",
    "        label = labels[i]\n",
    "        class_correct[label] += c[i]\n",
    "        class_total[label] += 1\n",
    "        \n",
    "for i in range(10):\n",
    "    print('Accuracy of %5s : %2d %%' % (classes[i], 100*class_correct[i]/class_total[i]))"
   ]
  },
  {
   "cell_type": "code",
   "execution_count": null,
   "metadata": {},
   "outputs": [],
   "source": [
    "def imshow(img):\n",
    "    img = img / 2 + 0.5\n",
    "    npimg = img.numpy()\n",
    "    plt.imshow(np.transpose(npimg, (1,2,0)))\n",
    "    \n",
    "dataiter = iter(trainloader)\n",
    "images, labels = dataiter.next()\n",
    "\n",
    "dataiter = iter(testloader)\n",
    "images, labels = dataiter.next()\n",
    "imshow(torchvision.utils.make_grid(images))\n",
    "print('GroundTruth: ', ' '.join('%5s' % classes[labels[j]] for j in range(batch_size)))"
   ]
  },
  {
   "cell_type": "code",
   "execution_count": null,
   "metadata": {},
   "outputs": [],
   "source": [
    "outputs = net(Variable(images.cuda()))\n",
    "_, predicted = torch.max(outputs.data, 1)\n",
    "print('Predicted: ', ' '.join('%5s' % classes[predicted[j]] for j in range(batch_size)))"
   ]
  },
  {
   "cell_type": "code",
   "execution_count": null,
   "metadata": {
    "collapsed": true
   },
   "outputs": [],
   "source": []
  }
 ],
 "metadata": {
  "kernelspec": {
   "display_name": "Python 3",
   "language": "python",
   "name": "python3"
  },
  "language_info": {
   "codemirror_mode": {
    "name": "ipython",
    "version": 3
   },
   "file_extension": ".py",
   "mimetype": "text/x-python",
   "name": "python",
   "nbconvert_exporter": "python",
   "pygments_lexer": "ipython3",
   "version": "3.5.2"
  }
 },
 "nbformat": 4,
 "nbformat_minor": 2
}
