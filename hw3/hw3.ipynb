{
 "cells": [
  {
   "cell_type": "code",
   "execution_count": 1,
   "metadata": {},
   "outputs": [],
   "source": [
    "import torch\n",
    "import numpy as np\n",
    "%matplotlib inline\n",
    "import matplotlib.pyplot as plt\n",
    "\n",
    "from torch.autograd import Variable\n",
    "import torch.nn as nn\n",
    "import torch.nn.functional as F\n",
    "import torchvision\n",
    "import torchvision.transforms as transforms\n",
    "from torch.utils.data import Dataset, DataLoader\n",
    "\n",
    "%load_ext autoreload\n",
    "%autoreload 2\n",
    "\n",
    "from deep_cnn_structures import ResNet"
   ]
  },
  {
   "cell_type": "code",
   "execution_count": 2,
   "metadata": {},
   "outputs": [
    {
     "name": "stdout",
     "output_type": "stream",
     "text": [
      "Files already downloaded and verified\n",
      "Files already downloaded and verified\n"
     ]
    }
   ],
   "source": [
    "transform = transforms.Compose([transforms.ToTensor(), \n",
    "                                transforms.Normalize((0.5,0.5,0.5),(0.5,0.5,0.5))])\n",
    "\n",
    "trainset = torchvision.datasets.CIFAR10(root='./data', train=True, download=True, \n",
    "                                       transform=transform)\n",
    "trainloader = torch.utils.data.DataLoader(trainset, batch_size=16, shuffle=True, \n",
    "                                          num_workers=2)\n",
    "\n",
    "testset = torchvision.datasets.CIFAR10(root='./data', train=False, download=True,\n",
    "                                      transform=transform)\n",
    "testloader = DataLoader(testset, batch_size=16, shuffle=False,\n",
    "                                         num_workers=2)\n",
    "classes = ('plane', 'car', 'bird', 'cat',\n",
    "           'deer', 'dog', 'frog', 'horse', 'ship', 'truck')"
   ]
  },
  {
   "cell_type": "code",
   "execution_count": 3,
   "metadata": {},
   "outputs": [
    {
     "data": {
      "text/plain": [
       "ResNet(\n",
       "  (conv1): Conv2d (3, 32, kernel_size=(7, 7), stride=(1, 1), padding=(3, 3))\n",
       "  (bn1): BatchNorm2d(32, eps=1e-05, momentum=0.1, affine=True)\n",
       "  (layer1): Bottleneck(\n",
       "    (conv1): Conv2d (32, 16, kernel_size=(1, 1), stride=(1, 1))\n",
       "    (conv2): Conv2d (16, 16, kernel_size=(3, 3), stride=(1, 1), padding=(1, 1))\n",
       "    (conv3): Conv2d (16, 32, kernel_size=(1, 1), stride=(1, 1))\n",
       "    (bn1): BatchNorm2d(16, eps=1e-05, momentum=0.1, affine=True)\n",
       "    (bn2): BatchNorm2d(16, eps=1e-05, momentum=0.1, affine=True)\n",
       "    (bn3): BatchNorm2d(32, eps=1e-05, momentum=0.1, affine=True)\n",
       "  )\n",
       "  (conv2): Conv2d (32, 64, kernel_size=(7, 7), stride=(1, 1), padding=(3, 3))\n",
       "  (bn2): BatchNorm2d(64, eps=1e-05, momentum=0.1, affine=True)\n",
       "  (layer2): Bottleneck(\n",
       "    (conv1): Conv2d (64, 32, kernel_size=(1, 1), stride=(1, 1))\n",
       "    (conv2): Conv2d (32, 32, kernel_size=(3, 3), stride=(1, 1), padding=(1, 1))\n",
       "    (conv3): Conv2d (32, 64, kernel_size=(1, 1), stride=(1, 1))\n",
       "    (bn1): BatchNorm2d(32, eps=1e-05, momentum=0.1, affine=True)\n",
       "    (bn2): BatchNorm2d(32, eps=1e-05, momentum=0.1, affine=True)\n",
       "    (bn3): BatchNorm2d(64, eps=1e-05, momentum=0.1, affine=True)\n",
       "  )\n",
       "  (avgpool): AvgPool2d(kernel_size=3, stride=2, padding=0, ceil_mode=False, count_include_pad=True)\n",
       "  (maxpool): MaxPool2d(kernel_size=(3, 3), stride=(2, 2), dilation=(1, 1))\n",
       "  (fc1): Linear(in_features=14400, out_features=1024)\n",
       "  (fc2): Linear(in_features=1024, out_features=10)\n",
       ")"
      ]
     },
     "execution_count": 3,
     "metadata": {},
     "output_type": "execute_result"
    }
   ],
   "source": [
    "net = ResNet()\n",
    "net.cuda()"
   ]
  },
  {
   "cell_type": "code",
   "execution_count": 4,
   "metadata": {},
   "outputs": [],
   "source": [
    "criterion = nn.CrossEntropyLoss()\n",
    "optimizer = torch.optim.Adam(net.parameters())"
   ]
  },
  {
   "cell_type": "code",
   "execution_count": 9,
   "metadata": {},
   "outputs": [
    {
     "name": "stdout",
     "output_type": "stream",
     "text": [
      "[1,  1000] loss: 0.000\n",
      "[1,  2000] loss: 0.000\n",
      "[1,  3000] loss: 0.000\n",
      "[2,  1000] loss: 0.000\n",
      "[2,  2000] loss: 0.000\n",
      "[2,  3000] loss: 0.000\n",
      "[3,  1000] loss: 0.000\n",
      "[3,  2000] loss: 0.000\n",
      "[3,  3000] loss: 0.000\n",
      "[4,  1000] loss: 0.000\n",
      "[4,  2000] loss: 0.000\n",
      "[4,  3000] loss: 0.000\n",
      "[5,  1000] loss: 0.000\n",
      "[5,  2000] loss: 0.000\n",
      "[5,  3000] loss: 0.000\n",
      "[6,  1000] loss: 0.000\n",
      "[6,  2000] loss: 0.000\n",
      "[6,  3000] loss: 0.000\n",
      "[7,  1000] loss: 0.000\n",
      "[7,  2000] loss: 0.000\n",
      "[7,  3000] loss: 0.000\n",
      "[8,  1000] loss: 0.000\n",
      "[8,  2000] loss: 0.000\n",
      "[8,  3000] loss: 0.000\n",
      "[9,  1000] loss: 0.000\n",
      "[9,  2000] loss: 0.000\n",
      "[9,  3000] loss: 0.000\n",
      "[10,  1000] loss: 0.000\n",
      "[10,  2000] loss: 0.000\n",
      "[10,  3000] loss: 0.000\n",
      "[11,  1000] loss: 0.000\n",
      "[11,  2000] loss: 0.000\n",
      "[11,  3000] loss: 0.000\n",
      "[12,  1000] loss: 0.000\n",
      "[12,  2000] loss: 0.000\n",
      "[12,  3000] loss: 0.000\n",
      "[13,  1000] loss: 0.000\n",
      "[13,  2000] loss: 0.000\n",
      "[13,  3000] loss: 0.000\n",
      "[14,  1000] loss: 0.000\n",
      "[14,  2000] loss: 0.000\n",
      "[14,  3000] loss: 0.000\n",
      "[15,  1000] loss: 0.000\n",
      "[15,  2000] loss: 0.000\n",
      "[15,  3000] loss: 0.000\n",
      "Finished Training\n"
     ]
    }
   ],
   "source": [
    "for epoch in range(15):\n",
    "    running_loss = 0.\n",
    "    for i, data in enumerate(trainloader, 0):\n",
    "        inputs, labels = data\n",
    "        inputs, labels = Variable(inputs.cuda()), Variable(labels.cuda())\n",
    "        optimizer.zero_grad()\n",
    "        \n",
    "        outputs = net(inputs)\n",
    "        loss = criterion(outputs, labels)\n",
    "        loss.backward()\n",
    "        optimizer.step()\n",
    "        \n",
    "        running_loss = loss.data[0]\n",
    "        \n",
    "        if (i+1) % 1000 == 0:\n",
    "            print('[%d, %5d] loss: %.3f' % (epoch+1, i+1, running_loss/2000))\n",
    "            running_loss = 0.\n",
    "\n",
    "print('Finished Training')"
   ]
  },
  {
   "cell_type": "code",
   "execution_count": 12,
   "metadata": {},
   "outputs": [
    {
     "name": "stdout",
     "output_type": "stream",
     "text": [
      "Accuracy of the network on 10000 test images: 74 %\n"
     ]
    }
   ],
   "source": [
    "correct = 0\n",
    "total = 0\n",
    "for data in testloader:\n",
    "    images, labels = data\n",
    "    outputs = net(Variable(images.cuda()))\n",
    "    _, predicted = torch.max(outputs.data, 1)\n",
    "    total += labels.size(0)\n",
    "    correct += (predicted == labels.cuda()).sum()\n",
    "    \n",
    "print('Accuracy of the network on 10000 test images: %d %%' % (100 * correct / total))"
   ]
  },
  {
   "cell_type": "code",
   "execution_count": 13,
   "metadata": {},
   "outputs": [
    {
     "name": "stdout",
     "output_type": "stream",
     "text": [
      "Accuracy of plane : 74 %\n",
      "Accuracy of   car : 88 %\n",
      "Accuracy of  bird : 62 %\n",
      "Accuracy of   cat : 61 %\n",
      "Accuracy of  deer : 71 %\n",
      "Accuracy of   dog : 65 %\n",
      "Accuracy of  frog : 72 %\n",
      "Accuracy of horse : 79 %\n",
      "Accuracy of  ship : 81 %\n",
      "Accuracy of truck : 83 %\n"
     ]
    }
   ],
   "source": [
    "class_correct = list(0. for i in range(10))\n",
    "class_total = list(0. for i in range(10))\n",
    "\n",
    "for data in testloader:\n",
    "    images, labels = data\n",
    "    outputs = net(Variable(images.cuda()))\n",
    "    _, predicted = torch.max(outputs.data, 1)\n",
    "    c = (predicted == labels.cuda())\n",
    "    for i in range(16):\n",
    "        label = labels[i]\n",
    "        class_correct[label] += c[i]\n",
    "        class_total[label] += 1\n",
    "        \n",
    "for i in range(10):\n",
    "    print('Accuracy of %5s : %2d %%' % (classes[i], 100*class_correct[i]/class_total[i]))"
   ]
  },
  {
   "cell_type": "code",
   "execution_count": null,
   "metadata": {
    "collapsed": true
   },
   "outputs": [],
   "source": []
  }
 ],
 "metadata": {
  "kernelspec": {
   "display_name": "Python 3",
   "language": "python",
   "name": "python3"
  },
  "language_info": {
   "codemirror_mode": {
    "name": "ipython",
    "version": 3
   },
   "file_extension": ".py",
   "mimetype": "text/x-python",
   "name": "python",
   "nbconvert_exporter": "python",
   "pygments_lexer": "ipython3",
   "version": "3.5.2"
  }
 },
 "nbformat": 4,
 "nbformat_minor": 2
}
