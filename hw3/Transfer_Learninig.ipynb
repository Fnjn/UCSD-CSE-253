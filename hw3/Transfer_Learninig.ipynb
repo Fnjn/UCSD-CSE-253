{
 "cells": [
  {
   "cell_type": "code",
   "execution_count": 1,
   "metadata": {},
   "outputs": [],
   "source": [
    "import torch\n",
    "import torch.nn as nn\n",
    "import torch.optim as optim\n",
    "import torchvision\n",
    "from torchvision import datasets, models, transforms\n",
    "from torch.utils.data import DataLoader\n",
    "from torch.autograd import Variable\n",
    "\n",
    "%matplotlib inline\n",
    "import matplotlib.pyplot as plt\n",
    "import numpy as np\n",
    "import time\n",
    "\n",
    "%load_ext autoreload\n",
    "%autoreload 2\n",
    "\n",
    "from caltech256 import Caltech256"
   ]
  },
  {
   "cell_type": "code",
   "execution_count": 2,
   "metadata": {
    "collapsed": true
   },
   "outputs": [],
   "source": [
    "data_transforms = {\n",
    "    'train': transforms.Compose([\n",
    "        transforms.RandomResizedCrop(224),\n",
    "        transforms.RandomHorizontalFlip(),\n",
    "        transforms.ToTensor(),\n",
    "        transforms.Normalize(mean=[0.485, 0.456, 0.406], std=[0.229, 0.224, 0.225])\n",
    "    ]),\n",
    "    'val': transforms.Compose([\n",
    "        transforms.Resize(256),\n",
    "        transforms.CenterCrop(224),\n",
    "        transforms.ToTensor(),\n",
    "       transforms.Normalize(mean=[0.485, 0.456, 0.406], std=[0.229, 0.224, 0.225])\n",
    "    ]),\n",
    "}\n",
    "\n",
    "data_dir = 'data/256_ObjectCategories'"
   ]
  },
  {
   "cell_type": "code",
   "execution_count": 3,
   "metadata": {
    "collapsed": true
   },
   "outputs": [],
   "source": [
    "caltech256_train = Caltech256(data_dir, data_transforms['train'], train=True)\n",
    "caltech256_test = Caltech256(data_dir, data_transforms['train'], train=False)"
   ]
  },
  {
   "cell_type": "code",
   "execution_count": 4,
   "metadata": {
    "collapsed": true
   },
   "outputs": [],
   "source": [
    "vgg16 = models.vgg16_bn(pretrained=True)"
   ]
  },
  {
   "cell_type": "code",
   "execution_count": 5,
   "metadata": {
    "collapsed": true
   },
   "outputs": [],
   "source": [
    "vgg16.classifier.add_module('7', nn.Linear(in_features=1000, out_features=257))"
   ]
  },
  {
   "cell_type": "code",
   "execution_count": 6,
   "metadata": {
    "collapsed": true
   },
   "outputs": [],
   "source": [
    "for param in vgg16.features.parameters():\n",
    "    param.requires_grad = False"
   ]
  },
  {
   "cell_type": "code",
   "execution_count": 7,
   "metadata": {},
   "outputs": [],
   "source": [
    "criterion = nn.CrossEntropyLoss()\n",
    "optimizer = optim.Adam(vgg16.classifier.parameters())\n",
    "scheduler = optim.lr_scheduler.StepLR(optimizer, step_size=30)\n",
    "\n",
    "vgg16 = nn.DataParallel(vgg16)\n",
    "vgg16 = vgg16.cuda()"
   ]
  },
  {
   "cell_type": "code",
   "execution_count": 8,
   "metadata": {},
   "outputs": [
    {
     "name": "stdout",
     "output_type": "stream",
     "text": [
      "torch.Size([4, 3, 224, 224])\n",
      "torch.Size([4])\n"
     ]
    }
   ],
   "source": [
    "dataloader = DataLoader(caltech256_train, batch_size=4)\n",
    "dataiter = iter(dataloader)\n",
    "image, label = dataiter.next()\n",
    "print(image.size())\n",
    "print(label.size())"
   ]
  },
  {
   "cell_type": "code",
   "execution_count": 9,
   "metadata": {
    "collapsed": true
   },
   "outputs": [],
   "source": [
    "def train_model(model, dataset, criterion, optimizer, scheduler, num_epochs, batch_size):\n",
    "    start_time = time.time()\n",
    "    model.train(True)\n",
    "    dataset_size = dataset.__len__()\n",
    "    \n",
    "    dataloader = DataLoader(dataset, batch_size=batch_size, shuffle=True)\n",
    "    \n",
    "    for epoch in range(num_epochs):\n",
    "        scheduler.step()\n",
    "        running_loss = 0.\n",
    "        batch_cnt = 0\n",
    "        \n",
    "        for data in dataloader:\n",
    "            inputs, labels = data\n",
    "            inputs, labels = Variable(inputs.cuda()), Variable(labels.cuda())\n",
    "            \n",
    "            optimizer.zero_grad()\n",
    "            outputs = model(inputs)\n",
    "            \n",
    "            loss = criterion(outputs, labels)\n",
    "            loss.backward()\n",
    "            optimizer.step()\n",
    "            running_loss += loss\n",
    "            \n",
    "            batch_cnt += 1\n",
    "            if batch_cnt % 150 == 0:\n",
    "                print('Training completed [%d, %d]' % (epoch, batch_cnt))\n",
    "            \n",
    "            \n",
    "        epoch_loss = running_loss / dataset_size\n",
    "        print('%d epoch loss: %f' % (epoch, running_loss))\n",
    "        \n",
    "    model.train(False)\n",
    "    time_elapsed = time.time() - start_time\n",
    "    print('Training comple in %dm, %ds' % (time_elapsed//60, time_elapsed%60))\n",
    "    return model"
   ]
  },
  {
   "cell_type": "code",
   "execution_count": 10,
   "metadata": {},
   "outputs": [
    {
     "name": "stdout",
     "output_type": "stream",
     "text": [
      "Training completed [0, 500]\n",
      "0 epoch loss: 2872.679443\n",
      "Training completed [1, 500]\n",
      "1 epoch loss: 2818.411865\n",
      "Training completed [2, 500]\n",
      "2 epoch loss: 2807.384766\n",
      "Training completed [3, 500]\n",
      "3 epoch loss: 2786.809082\n",
      "Training completed [4, 500]\n",
      "4 epoch loss: 2749.719482\n",
      "Training comple in 9, 36\n"
     ]
    }
   ],
   "source": [
    "model_tf = train_model(vgg16, caltech256_train, criterion, optimizer, scheduler, num_epochs=5, batch_size=16)"
   ]
  },
  {
   "cell_type": "code",
   "execution_count": 16,
   "metadata": {},
   "outputs": [
    {
     "name": "stdout",
     "output_type": "stream",
     "text": [
      "Test Set Accuracy: 0.439453\n"
     ]
    }
   ],
   "source": [
    "test_dataloader = DataLoader(caltech256_test, batch_size=16)\n",
    "correct_cnt = 0\n",
    "for data in test_dataloader:\n",
    "    inputs, labels = data\n",
    "    inputs, labels = Variable(inputs.cuda()), Variable(labels.cuda())\n",
    "    outputs = vgg16(inputs)\n",
    "    _, preds = torch.max(outputs, 1)\n",
    "    correct_cnt += torch.sum(pred.data == labels.data)\n",
    "    \n",
    "acc = correct_cnt / caltech256_test.__len__()\n",
    "print('Test Set Accuracy: %f' % (acc*100))"
   ]
  },
  {
   "cell_type": "code",
   "execution_count": null,
   "metadata": {
    "collapsed": true
   },
   "outputs": [],
   "source": []
  }
 ],
 "metadata": {
  "kernelspec": {
   "display_name": "Python 3",
   "language": "python",
   "name": "python3"
  },
  "language_info": {
   "codemirror_mode": {
    "name": "ipython",
    "version": 3
   },
   "file_extension": ".py",
   "mimetype": "text/x-python",
   "name": "python",
   "nbconvert_exporter": "python",
   "pygments_lexer": "ipython3",
   "version": "3.5.2"
  }
 },
 "nbformat": 4,
 "nbformat_minor": 2
}
