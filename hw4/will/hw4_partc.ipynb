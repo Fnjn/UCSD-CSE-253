{
 "cells": [
  {
   "cell_type": "code",
   "execution_count": 1,
   "metadata": {},
   "outputs": [
    {
     "data": {
      "text/plain": [
       "True"
      ]
     },
     "execution_count": 1,
     "metadata": {},
     "output_type": "execute_result"
    }
   ],
   "source": [
    "import torch\n",
    "import torch.autograd as autograd\n",
    "from torch.autograd import Variable\n",
    "import torch.nn as nn\n",
    "import torch.nn.functional as F\n",
    "import torch.optim as optim\n",
    "from torch.optim import lr_scheduler\n",
    "\n",
    "import string\n",
    "import time\n",
    "import numpy as np\n",
    "\n",
    "%matplotlib inline\n",
    "import matplotlib.pyplot as plt\n",
    "import matplotlib.ticker as ticker\n",
    "\n",
    "%load_ext autoreload\n",
    "%autoreload 2\n",
    "\n",
    "from rnn_will import RNN, PrepareData\n",
    "\n",
    "torch.cuda.is_available()"
   ]
  },
  {
   "cell_type": "code",
   "execution_count": 6,
   "metadata": {},
   "outputs": [],
   "source": [
    "#input_dim = 7\n",
    "\"\"\"\n",
    "part d change dropout\n",
    "\"\"\"\n",
    "drop_ratio = 0.2\n",
    "hidden_dim = 50\n",
    "num_layers = 1\n",
    "seq_size = 25\n",
    "all_letters = string.printable\n",
    "n_letters = len(all_letters)"
   ]
  },
  {
   "cell_type": "code",
   "execution_count": 7,
   "metadata": {},
   "outputs": [
    {
     "name": "stdout",
     "output_type": "stream",
     "text": [
      "15688 3921\n"
     ]
    }
   ],
   "source": [
    "dataset = PrepareData('../input.txt', seq_size, val_ratio=0.2)\n",
    "#dataset = PrepareData('sample-music2.txt', seq_size)\n",
    "train_data, val_data = dataset.dataset()\n",
    "print(train_data.__len__(), val_data.__len__())"
   ]
  },
  {
   "cell_type": "code",
   "execution_count": 8,
   "metadata": {},
   "outputs": [],
   "source": [
    "def inputTensor(line):\n",
    "    if len(line) == 1:\n",
    "        tensor = torch.zeros(1, n_letters)\n",
    "        tensor[0, all_letters.find(line[0])] = 1\n",
    "    else:\n",
    "        tensor = torch.zeros(len(line)-1, n_letters)\n",
    "        for idx, letter in enumerate(line[:-1]):\n",
    "            tensor[idx, all_letters.find(letter)] = 1\n",
    "    return Variable(tensor.cuda())\n",
    "        \n",
    "def targetTensor(line):\n",
    "    letter_indexes = [all_letters.find(letter) for letter in line[1:]]\n",
    "    return Variable(torch.LongTensor(letter_indexes).cuda())\n",
    "\n",
    "def save_model(model, path):\n",
    "    torch.save(model.state_dict(), path)\n",
    "    \n",
    "def load_model(model, path):\n",
    "    model.load_state_dict(torch.load(path))"
   ]
  },
  {
   "cell_type": "code",
   "execution_count": 9,
   "metadata": {},
   "outputs": [],
   "source": [
    "model = RNN(n_letters, hidden_dim, num_layers=num_layers, output_size=n_letters, drop_ratio=drop_ratio)\n",
    "model = model.cuda()\n",
    "criterion = nn.CrossEntropyLoss()"
   ]
  },
  {
   "cell_type": "code",
   "execution_count": 10,
   "metadata": {},
   "outputs": [],
   "source": [
    "optimizer = torch.optim.Adam(model.parameters(), lr=1e-3)\n",
    "scheduler = lr_scheduler.StepLR(optimizer, step_size=5, gamma=0.5)"
   ]
  },
  {
   "cell_type": "code",
   "execution_count": null,
   "metadata": {
    "scrolled": false
   },
   "outputs": [
    {
     "name": "stdout",
     "output_type": "stream",
     "text": [
      "Epoch # 0\n",
      "0m:48s -- [0, 2000], loss: 3.088835\n",
      "1m:38s -- [0, 4000], loss: 2.552830\n",
      "2m:26s -- [0, 6000], loss: 2.150777\n",
      "3m:15s -- [0, 8000], loss: 2.046539\n",
      "4m:4s -- [0, 10000], loss: 1.836284\n",
      "4m:55s -- [0, 12000], loss: 1.801843\n",
      "5m:45s -- [0, 14000], loss: 1.819676\n",
      "#, loss: Variable containing:\n",
      " 2.1207\n",
      "[torch.cuda.FloatTensor of size 1 (GPU 0)]\n",
      "\n",
      "#0, loss: 2.5685789990583165\n",
      "#1, loss: 3.3667527034829328\n",
      "Epoch # 1\n",
      "7m:46s -- [1, 2000], loss: 2.195151\n",
      "8m:34s -- [1, 4000], loss: 2.086817\n",
      "9m:21s -- [1, 6000], loss: 1.783132\n",
      "10m:8s -- [1, 8000], loss: 1.764218\n",
      "10m:57s -- [1, 10000], loss: 1.632750\n",
      "11m:52s -- [1, 12000], loss: 1.632263\n",
      "12m:43s -- [1, 14000], loss: 1.664883\n",
      "#, loss: Variable containing:\n",
      " 1.7864\n",
      "[torch.cuda.FloatTensor of size 1 (GPU 0)]\n",
      "\n",
      "#0, loss: 2.4709117785105668\n",
      "#1, loss: 3.2605709320609284\n",
      "Epoch # 2\n",
      "14m:54s -- [2, 2000], loss: 2.004482\n",
      "15m:45s -- [2, 4000], loss: 1.956818\n",
      "16m:34s -- [2, 6000], loss: 1.662453\n",
      "17m:24s -- [2, 8000], loss: 1.669388\n",
      "18m:16s -- [2, 10000], loss: 1.558773\n",
      "19m:8s -- [2, 12000], loss: 1.558923\n",
      "19m:58s -- [2, 14000], loss: 1.593656\n",
      "#, loss: Variable containing:\n",
      " 1.6852\n",
      "[torch.cuda.FloatTensor of size 1 (GPU 0)]\n",
      "\n",
      "#0, loss: 2.4134811139363967\n",
      "#1, loss: 3.1987155363347513\n",
      "Epoch # 3\n"
     ]
    }
   ],
   "source": [
    "n_epochs = 15\n",
    "all_losses = []\n",
    "\n",
    "print_every = 2000\n",
    "init_hidden_every = 35\n",
    "\n",
    "start_time = time.time()\n",
    "\n",
    "loss_history = np.zeros((n_epochs, 2))\n",
    "\n",
    "for epoch in range(n_epochs):\n",
    "    print('Epoch # {}'.format(epoch))\n",
    "    train_cnt = 0\n",
    "    total_loss = 0.\n",
    "    running_loss = 0. #for checking purpose\n",
    "    \n",
    "    model.hidden = model.init_hidden()\n",
    "    \n",
    "    #dataset.shuffle_data()\n",
    "    #train_data, val_data = dataset.dataset()\n",
    "#     model.train(True)\n",
    "    for sentence in train_data:\n",
    "        model.zero_grad()\n",
    "        \n",
    "        loss = 0.\n",
    "        inputs = inputTensor(sentence)\n",
    "        targets = targetTensor(sentence)\n",
    "        \n",
    "        preds = model(inputs)\n",
    "        loss = criterion(preds, targets)\n",
    "            \n",
    "        loss.backward(retain_graph=True)\n",
    "        optimizer.step()\n",
    "        total_loss += loss\n",
    "        train_cnt += 1\n",
    "        \n",
    "        if train_cnt % init_hidden_every == 0:\n",
    "            model.hidden = model.init_hidden()\n",
    "        \n",
    "        if train_cnt % print_every == 0:\n",
    "            total_loss /= print_every\n",
    "            all_losses.append(total_loss)\n",
    "            uptime = time.time() - start_time\n",
    "            print('%dm:%ds -- [%d, %d], loss: %f' % (uptime/60, uptime%60, epoch, train_cnt, total_loss.data[0]))\n",
    "            total_loss = 0\n",
    "            \n",
    "        running_loss += loss\n",
    "    dataset_size = train_data.__len__()\n",
    "    epoch_loss = running_loss / float(dataset_size)\n",
    "    print('#, loss: {}'.format(epoch_loss))\n",
    "            \n",
    "#     model.train(False)\n",
    "    for idx, dataloader in enumerate([train_data, val_data]):\n",
    "        # compute loss\n",
    "        running_loss = 0.\n",
    "        for sentence in dataloader:\n",
    "            loss = 0.\n",
    "            inputs = inputTensor(sentence)\n",
    "            targets = targetTensor(sentence)\n",
    "            preds = model(inputs)\n",
    "            loss = criterion(preds, targets)\n",
    "            running_loss += loss.data[0]\n",
    "            #\n",
    "        # save loss\n",
    "        dataset_size = dataloader.__len__()\n",
    "        epoch_loss = running_loss / float(dataset_size)\n",
    "        print('#{}, loss: {}'.format(idx, epoch_loss))\n",
    "        # print(type(epoch_loss), type(epoch_acc))\n",
    "\n",
    "        loss_history[epoch, idx] = epoch_loss\n",
    "            \n",
    "            \n",
    "    scheduler.step()"
   ]
  },
  {
   "cell_type": "code",
   "execution_count": 11,
   "metadata": {},
   "outputs": [
    {
     "name": "stdout",
     "output_type": "stream",
     "text": [
      "[[ 2.67063644  3.3763115 ]\n",
      " [ 2.49499452  3.20083674]\n",
      " [ 2.42300944  3.12763692]\n",
      " [ 2.40567135  3.11331172]\n",
      " [ 2.40854176  3.1275137 ]\n",
      " [ 2.40196493  3.12615618]\n",
      " [ 2.30638868  2.99898691]\n",
      " [ 2.30016639  2.97397985]\n",
      " [ 2.29872055  2.96516224]\n",
      " [ 2.29920088  2.96051653]\n",
      " [ 2.30110986  2.95799984]\n",
      " [ 0.          0.        ]\n",
      " [ 0.          0.        ]\n",
      " [ 0.          0.        ]\n",
      " [ 0.          0.        ]\n",
      " [ 2.29872055  2.96516224]]\n"
     ]
    }
   ],
   "source": [
    "# print(loss_history[8])\n",
    "\n",
    "temp = np.concatenate((loss_history, np.array([loss_history[8]])), axis=0)\n",
    "print(temp)\n",
    "# print(all_losses)"
   ]
  },
  {
   "cell_type": "code",
   "execution_count": 12,
   "metadata": {},
   "outputs": [],
   "source": [
    "fname = 'partc_drop_{}_loss_history.npy'.format(drop_ratio)\n",
    "np.save(fname, temp)"
   ]
  },
  {
   "cell_type": "code",
   "execution_count": 11,
   "metadata": {},
   "outputs": [
    {
     "data": {
      "image/png": "[encoded data removed]",
      "text/plain": [
       "<matplotlib.figure.Figure at 0x7fb4789fcda0>"
      ]
     },
     "metadata": {},
     "output_type": "display_data"
    }
   ],
   "source": [
    "temp = np.load(fname)\n",
    "plt.plot(range(16), temp)\n",
    "plt.show()"
   ]
  },
  {
   "cell_type": "code",
   "execution_count": null,
   "metadata": {
    "scrolled": true
   },
   "outputs": [],
   "source": [
    "def test(start_with, max_length):\n",
    "    model.hidden = model.init_hidden()\n",
    "    seq = str(start_with)\n",
    "    idx = []\n",
    "    \n",
    "    if len(start_with) > 1:\n",
    "        inputs = inputTensor(seq)\n",
    "        output = model(inputs)\n",
    "    \n",
    "    inputs = inputTensor(seq[-1])\n",
    "    \n",
    "    for i in range(max_length):\n",
    "        output = model(inputs)\n",
    "        #pr = F.softmax(output.data, 1)  //pytorch 3.0+\n",
    "        pr = F.softmax(output.data)\n",
    "        pr = pr.cpu().data.numpy().squeeze()\n",
    "        pred = np.random.choice(n_letters, 1, p=pr)\n",
    "        \n",
    "        seq += all_letters[pred[0]]\n",
    "        idx.append(pred[0])\n",
    "        inputs = inputTensor(seq[-1])\n",
    "    return seq, idx\n",
    "\n",
    "def teacher_forcing_test(sentence):\n",
    "    inputs = inputTensor(sentence)\n",
    "    output = model(inputs)\n",
    "    _, preds = torch.max(output.data, 1)\n",
    "    seq = [all_letters[pred] for pred in preds ]\n",
    "    return ''.join(seq)"
   ]
  },
  {
   "cell_type": "code",
   "execution_count": null,
   "metadata": {},
   "outputs": [],
   "source": [
    "test_seq = val_data[0]\n",
    "start_char = test_seq[:10]\n",
    "\n",
    "seq, idx = test(start_char, 900)\n",
    "print('Generated sequence: %s' % (seq))\n",
    "#print('Sequence index: ', idx)\n",
    "#print('Test sequence: %s' % test_seq)"
   ]
  },
  {
   "cell_type": "code",
   "execution_count": null,
   "metadata": {},
   "outputs": [],
   "source": [
    "test_seq = val_data[99]\n",
    "start_char = test_seq[:10]\n",
    "\n",
    "seq, idx = test(start_char, 900)\n",
    "print('Generated sequence: %s' % (seq))"
   ]
  },
  {
   "cell_type": "code",
   "execution_count": null,
   "metadata": {},
   "outputs": [],
   "source": [
    "test_seq = val_data[0]\n",
    "seq = teacher_forcing_test(test_seq)\n",
    "print('Generated sequence: %s' % (seq))\n",
    "print('Test sequence: %s' % test_seq)"
   ]
  },
  {
   "cell_type": "code",
   "execution_count": null,
   "metadata": {},
   "outputs": [],
   "source": [
    "#save_model(model, 'full-model.pth')"
   ]
  },
  {
   "cell_type": "code",
   "execution_count": null,
   "metadata": {},
   "outputs": [],
   "source": [
    "plt.figure()\n",
    "plt.plot(all_losses)"
   ]
  },
  {
   "cell_type": "code",
   "execution_count": null,
   "metadata": {},
   "outputs": [],
   "source": []
  }
 ],
 "metadata": {
  "kernelspec": {
   "display_name": "Python 3",
   "language": "python",
   "name": "python3"
  },
  "language_info": {
   "codemirror_mode": {
    "name": "ipython",
    "version": 3
   },
   "file_extension": ".py",
   "mimetype": "text/x-python",
   "name": "python",
   "nbconvert_exporter": "python",
   "pygments_lexer": "ipython3",
   "version": "3.5.4"
  }
 },
 "nbformat": 4,
 "nbformat_minor": 2
}
