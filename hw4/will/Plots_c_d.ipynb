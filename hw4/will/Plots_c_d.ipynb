{
 "cells": [
  {
   "cell_type": "markdown",
   "metadata": {},
   "source": [
    "### Plotting"
   ]
  },
  {
   "cell_type": "code",
   "execution_count": 2,
   "metadata": {},
   "outputs": [],
   "source": [
    "import numpy as np\n",
    "import matplotlib.pyplot as plt"
   ]
  },
  {
   "cell_type": "code",
   "execution_count": 32,
   "metadata": {},
   "outputs": [
    {
     "name": "stdout",
     "output_type": "stream",
     "text": [
      "[[ 2.5745  3.2947]\n",
      " [ 2.4432  3.1965]\n",
      " [ 2.3572  3.1139]\n",
      " [ 2.3206  3.0522]\n",
      " [ 2.2863  3.0084]\n",
      " [ 2.2607  2.9452]\n",
      " [ 2.1351  2.7455]\n",
      " [ 2.1113  2.6937]\n",
      " [ 2.0876  2.6552]\n",
      " [ 2.0537  2.62  ]]\n"
     ]
    }
   ],
   "source": [
    "loss_drop03 = np.array([[2.5745, 3.2947],\n",
    "                          [2.4432, 3.1965],\n",
    "                          [2.3572, 3.1139],\n",
    "                          [2.3206, 3.0522],\n",
    "                          [2.2863, 3.0084],\n",
    "                          [2.2607, 2.9452],\n",
    "                          [2.1351, 2.7455],\n",
    "                          [2.1113, 2.6937],\n",
    "                          [2.0876, 2.6552],\n",
    "                          [2.0537, 2.6200]])\n",
    "print(loss_drop03)\n",
    "np.save('partc_drop_0.3_loss_history.npy', loss_drop03)"
   ]
  },
  {
   "cell_type": "code",
   "execution_count": 46,
   "metadata": {},
   "outputs": [
    {
     "name": "stdout",
     "output_type": "stream",
     "text": [
      "[[ 2.5745  3.2947]\n",
      " [ 2.4432  3.1965]\n",
      " [ 2.3572  3.1139]\n",
      " [ 2.3206  3.0522]\n",
      " [ 2.2863  3.0084]\n",
      " [ 2.2607  2.9452]\n",
      " [ 2.1351  2.7455]\n",
      " [ 2.1113  2.6937]\n",
      " [ 2.0876  2.6552]\n",
      " [ 2.0537  2.62  ]]\n",
      "(10, 2)\n",
      "[[ 2.5745  3.2947]\n",
      " [ 2.4432  3.1965]\n",
      " [ 2.3572  3.1139]\n",
      " [ 2.3206  3.0522]\n",
      " [ 2.2863  3.0084]\n",
      " [ 2.2607  2.9452]\n",
      " [ 2.1351  2.7455]\n",
      " [ 2.1113  2.6937]\n",
      " [ 2.1113  2.6937]\n",
      " [ 2.1113  2.6937]]\n"
     ]
    }
   ],
   "source": [
    "num_hidden = 75\n",
    "drop = 0.3\n",
    "fname = 'partc_drop_{}_loss_history.npy'.format(drop)\n",
    "# fname = 'partc_num_hidden_{}_loss_history.npy'.format(num_hidden)\n",
    "losses = np.load(fname)\n",
    "print(losses)\n",
    "print(losses.shape)\n",
    "templ = losses\n",
    "templ[8,:] = templ[7,:]\n",
    "templ[9,:] = templ[7,:]\n",
    "print(templ)\n"
   ]
  },
  {
   "cell_type": "code",
   "execution_count": 42,
   "metadata": {},
   "outputs": [
    {
     "data": {
      "image/png": "[encoded data removed]",
      "text/plain": [
       "<matplotlib.figure.Figure at 0x1bfbbd451d0>"
      ]
     },
     "metadata": {},
     "output_type": "display_data"
    }
   ],
   "source": [
    "losses_temp = losses[:11, :]\n",
    "# losses_temp = templ\n",
    "plt.figure()\n",
    "plt.plot(range(11), losses_temp)\n",
    "plt.title('Loss vs Epochs with dropout ratio {}'.format(drop))\n",
    "# plt.title('Loss vs Epochs with {} hidden units'.format(drop))\n",
    "plt.xlabel('Epochs')\n",
    "plt.ylabel('Loss')\n",
    "plt.legend(['Train', 'Test'])\n",
    "plt.savefig('loss_drop_{}.png'.format(drop))\n",
    "plt.show()"
   ]
  }
 ],
 "metadata": {
  "kernelspec": {
   "display_name": "Python 3",
   "language": "python",
   "name": "python3"
  },
  "language_info": {
   "codemirror_mode": {
    "name": "ipython",
    "version": 3
   },
   "file_extension": ".py",
   "mimetype": "text/x-python",
   "name": "python",
   "nbconvert_exporter": "python",
   "pygments_lexer": "ipython3",
   "version": "3.6.3"
  }
 },
 "nbformat": 4,
 "nbformat_minor": 2
}
