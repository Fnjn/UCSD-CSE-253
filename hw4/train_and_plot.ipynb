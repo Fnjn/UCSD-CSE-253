{
 "cells": [
  {
   "cell_type": "code",
   "execution_count": 1,
   "metadata": {},
   "outputs": [
    {
     "data": {
      "text/plain": [
       "True"
      ]
     },
     "execution_count": 1,
     "metadata": {},
     "output_type": "execute_result"
    }
   ],
   "source": [
    "import torch\n",
    "import torch.autograd as autograd\n",
    "from torch.autograd import Variable\n",
    "import torch.nn as nn\n",
    "import torch.nn.functional as F\n",
    "import torch.optim as optim\n",
    "\n",
    "import string\n",
    "import time\n",
    "import numpy as np\n",
    "\n",
    "%matplotlib inline\n",
    "import matplotlib.pyplot as plt\n",
    "import matplotlib.ticker as ticker\n",
    "\n",
    "%load_ext autoreload\n",
    "%autoreload 2\n",
    "\n",
    "from rnn import RNN, PrepareData\n",
    "\n",
    "torch.cuda.is_available()"
   ]
  },
  {
   "cell_type": "code",
   "execution_count": 2,
   "metadata": {},
   "outputs": [],
   "source": [
    "#input_dim = 7\n",
    "hidden_dim = 30\n",
    "num_layers = 2\n",
    "seq_size = 25\n",
    "all_letters = string.printable\n",
    "n_letters = len(all_letters)"
   ]
  },
  {
   "cell_type": "code",
   "execution_count": 3,
   "metadata": {},
   "outputs": [],
   "source": [
    "dataset = PrepareData('input.txt', seq_size, val_ratio=0.2)\n",
    "#dataset = PrepareData('sample-music2.txt', seq_size)\n",
    "train_data, val_data = dataset.dataset()"
   ]
  },
  {
   "cell_type": "code",
   "execution_count": 4,
   "metadata": {},
   "outputs": [],
   "source": [
    "def inputTensor(line):\n",
    "    if len(line) == 1:\n",
    "        tensor = torch.zeros(1, n_letters)\n",
    "        tensor[0, all_letters.find(line[0])] = 1\n",
    "    else:\n",
    "        tensor = torch.zeros(len(line)-1, n_letters)\n",
    "        for idx, letter in enumerate(line[:-1]):\n",
    "            tensor[idx, all_letters.find(letter)] = 1\n",
    "    return Variable(tensor.cuda())\n",
    "        \n",
    "def targetTensor(line):\n",
    "    letter_indexes = [all_letters.find(letter) for letter in line[1:]]\n",
    "    return Variable(torch.LongTensor(letter_indexes).cuda())\n",
    "\n",
    "def save_model(model, path):\n",
    "    torch.save(model.state_dict(), path)\n",
    "    \n",
    "def load_model(model, path):\n",
    "    model.load_state_dict(torch.load(path))"
   ]
  },
  {
   "cell_type": "code",
   "execution_count": 5,
   "metadata": {},
   "outputs": [],
   "source": [
    "model = RNN(n_letters, hidden_dim, num_layers=num_layers, output_size=n_letters)\n",
    "model = model.cuda()\n",
    "criterion = nn.CrossEntropyLoss()"
   ]
  },
  {
   "cell_type": "code",
   "execution_count": 6,
   "metadata": {},
   "outputs": [],
   "source": [
    "optimizer = torch.optim.Adam(model.parameters(), lr=1e-3)\n",
    "# scheduler = optim.lr_scheduler.StepLR(optimizer, step_size=5, gamma=0.5)"
   ]
  },
  {
   "cell_type": "code",
   "execution_count": 7,
   "metadata": {},
   "outputs": [
    {
     "name": "stdout",
     "output_type": "stream",
     "text": [
      "1m:36s -- [0, 2000], loss: 3.411832\n",
      "3m:13s -- [0, 4000], loss: 3.006377\n",
      "4m:52s -- [0, 6000], loss: 2.557594\n",
      "6m:26s -- [0, 8000], loss: 2.429645\n",
      "8m:2s -- [0, 10000], loss: 2.189301\n",
      "9m:34s -- [0, 12000], loss: 2.103100\n",
      "11m:11s -- [0, 14000], loss: 2.072515\n",
      "14m:14s -- [1, 2000], loss: 2.514077\n",
      "15m:45s -- [1, 4000], loss: 2.370968\n",
      "17m:19s -- [1, 6000], loss: 2.017518\n",
      "18m:55s -- [1, 8000], loss: 1.967444\n",
      "20m:31s -- [1, 10000], loss: 1.815888\n",
      "22m:9s -- [1, 12000], loss: 1.828645\n",
      "23m:47s -- [1, 14000], loss: 1.868741\n",
      "26m:49s -- [2, 2000], loss: 2.256952\n",
      "28m:26s -- [2, 4000], loss: 2.182657\n",
      "30m:3s -- [2, 6000], loss: 1.872669\n",
      "31m:40s -- [2, 8000], loss: 1.851420\n",
      "33m:19s -- [2, 10000], loss: 1.696182\n",
      "34m:56s -- [2, 12000], loss: 1.728078\n",
      "36m:33s -- [2, 14000], loss: 1.774105\n",
      "39m:41s -- [3, 2000], loss: 2.108062\n",
      "41m:25s -- [3, 4000], loss: 2.071518\n",
      "43m:2s -- [3, 6000], loss: 1.787701\n",
      "44m:42s -- [3, 8000], loss: 1.770782\n",
      "46m:22s -- [3, 10000], loss: 1.626316\n",
      "48m:2s -- [3, 12000], loss: 1.664878\n",
      "49m:43s -- [3, 14000], loss: 1.708139\n",
      "53m:7s -- [4, 2000], loss: 2.018524\n",
      "54m:51s -- [4, 4000], loss: 2.006268\n",
      "56m:30s -- [4, 6000], loss: 1.727047\n",
      "58m:7s -- [4, 8000], loss: 1.723640\n",
      "59m:48s -- [4, 10000], loss: 1.584812\n",
      "61m:23s -- [4, 12000], loss: 1.622810\n",
      "63m:5s -- [4, 14000], loss: 1.664767\n",
      "66m:28s -- [5, 2000], loss: 1.951946\n",
      "68m:8s -- [5, 4000], loss: 1.960134\n",
      "69m:40s -- [5, 6000], loss: 1.687192\n",
      "71m:14s -- [5, 8000], loss: 1.691829\n",
      "72m:51s -- [5, 10000], loss: 1.550519\n",
      "74m:29s -- [5, 12000], loss: 1.592463\n",
      "76m:18s -- [5, 14000], loss: 1.632833\n",
      "79m:25s -- [6, 2000], loss: 1.909237\n",
      "81m:4s -- [6, 4000], loss: 1.919169\n",
      "82m:42s -- [6, 6000], loss: 1.650572\n"
     ]
    },
    {
     "ename": "KeyboardInterrupt",
     "evalue": "",
     "output_type": "error",
     "traceback": [
      "\u001b[0;31m\u001b[0m",
      "\u001b[0;31mKeyboardInterrupt\u001b[0mTraceback (most recent call last)",
      "\u001b[0;32m<ipython-input-7-bdd8083af2f2>\u001b[0m in \u001b[0;36m<module>\u001b[0;34m()\u001b[0m\n\u001b[1;32m     30\u001b[0m         \u001b[0mloss\u001b[0m \u001b[0;34m=\u001b[0m \u001b[0mcriterion\u001b[0m\u001b[0;34m(\u001b[0m\u001b[0mpreds\u001b[0m\u001b[0;34m,\u001b[0m \u001b[0mtargets\u001b[0m\u001b[0;34m)\u001b[0m\u001b[0;34m\u001b[0m\u001b[0m\n\u001b[1;32m     31\u001b[0m \u001b[0;34m\u001b[0m\u001b[0m\n\u001b[0;32m---> 32\u001b[0;31m         \u001b[0mloss\u001b[0m\u001b[0;34m.\u001b[0m\u001b[0mbackward\u001b[0m\u001b[0;34m(\u001b[0m\u001b[0mretain_graph\u001b[0m\u001b[0;34m=\u001b[0m\u001b[0;32mTrue\u001b[0m\u001b[0;34m)\u001b[0m\u001b[0;34m\u001b[0m\u001b[0m\n\u001b[0m\u001b[1;32m     33\u001b[0m         \u001b[0moptimizer\u001b[0m\u001b[0;34m.\u001b[0m\u001b[0mstep\u001b[0m\u001b[0;34m(\u001b[0m\u001b[0;34m)\u001b[0m\u001b[0;34m\u001b[0m\u001b[0m\n\u001b[1;32m     34\u001b[0m         \u001b[0mtotal_loss\u001b[0m \u001b[0;34m+=\u001b[0m \u001b[0mloss\u001b[0m\u001b[0;34m\u001b[0m\u001b[0m\n",
      "\u001b[0;32m/opt/conda/lib/python3.5/site-packages/torch/autograd/variable.py\u001b[0m in \u001b[0;36mbackward\u001b[0;34m(self, gradient, retain_graph, create_graph, retain_variables)\u001b[0m\n\u001b[1;32m    154\u001b[0m                 \u001b[0mVariable\u001b[0m\u001b[0;34m.\u001b[0m\u001b[0;34m\u001b[0m\u001b[0m\n\u001b[1;32m    155\u001b[0m         \"\"\"\n\u001b[0;32m--> 156\u001b[0;31m         \u001b[0mtorch\u001b[0m\u001b[0;34m.\u001b[0m\u001b[0mautograd\u001b[0m\u001b[0;34m.\u001b[0m\u001b[0mbackward\u001b[0m\u001b[0;34m(\u001b[0m\u001b[0mself\u001b[0m\u001b[0;34m,\u001b[0m \u001b[0mgradient\u001b[0m\u001b[0;34m,\u001b[0m \u001b[0mretain_graph\u001b[0m\u001b[0;34m,\u001b[0m \u001b[0mcreate_graph\u001b[0m\u001b[0;34m,\u001b[0m \u001b[0mretain_variables\u001b[0m\u001b[0;34m)\u001b[0m\u001b[0;34m\u001b[0m\u001b[0m\n\u001b[0m\u001b[1;32m    157\u001b[0m \u001b[0;34m\u001b[0m\u001b[0m\n\u001b[1;32m    158\u001b[0m     \u001b[0;32mdef\u001b[0m \u001b[0mregister_hook\u001b[0m\u001b[0;34m(\u001b[0m\u001b[0mself\u001b[0m\u001b[0;34m,\u001b[0m \u001b[0mhook\u001b[0m\u001b[0;34m)\u001b[0m\u001b[0;34m:\u001b[0m\u001b[0;34m\u001b[0m\u001b[0m\n",
      "\u001b[0;32m/opt/conda/lib/python3.5/site-packages/torch/autograd/__init__.py\u001b[0m in \u001b[0;36mbackward\u001b[0;34m(variables, grad_variables, retain_graph, create_graph, retain_variables)\u001b[0m\n\u001b[1;32m     96\u001b[0m \u001b[0;34m\u001b[0m\u001b[0m\n\u001b[1;32m     97\u001b[0m     Variable._execution_engine.run_backward(\n\u001b[0;32m---> 98\u001b[0;31m         variables, grad_variables, retain_graph)\n\u001b[0m\u001b[1;32m     99\u001b[0m \u001b[0;34m\u001b[0m\u001b[0m\n\u001b[1;32m    100\u001b[0m \u001b[0;34m\u001b[0m\u001b[0m\n",
      "\u001b[0;31mKeyboardInterrupt\u001b[0m: "
     ]
    }
   ],
   "source": [
    "n_epochs = 20\n",
    "all_losses = []\n",
    "val_losses = []\n",
    "train_losses = []\n",
    "print_every = 2000\n",
    "init_hidden_every = 35\n",
    "\n",
    "start_time = time.time()\n",
    "\n",
    "for epoch in range(n_epochs):\n",
    "    train_cnt = 0\n",
    "    val_cnt = 0\n",
    "    total_loss = 0.\n",
    "    val_total_loss = 0.\n",
    "    \n",
    "    \n",
    "    model.hidden = model.init_hidden()\n",
    "    \n",
    "    #dataset.shuffle_data()\n",
    "    #train_data, val_data = dataset.dataset()\n",
    "    \n",
    "    for sentence in train_data:\n",
    "        model.zero_grad()\n",
    "        \n",
    "        loss = 0.\n",
    "        inputs = inputTensor(sentence)\n",
    "        targets = targetTensor(sentence)\n",
    "        \n",
    "        preds = model(inputs)\n",
    "        loss = criterion(preds, targets)\n",
    "            \n",
    "        loss.backward(retain_graph=True)\n",
    "        optimizer.step()\n",
    "        total_loss += loss\n",
    "        train_cnt += 1\n",
    "        \n",
    "        if train_cnt % init_hidden_every == 0:\n",
    "            model.hidden = model.init_hidden()\n",
    "        \n",
    "        if train_cnt % print_every == 0:\n",
    "            total_loss /= print_every\n",
    "            all_losses.append(total_loss)\n",
    "            uptime = time.time() - start_time\n",
    "            print('%dm:%ds -- [%d, %d], loss: %f' % (uptime/60, uptime%60, epoch, train_cnt, total_loss.data[0]))\n",
    "            total_loss = 0\n",
    "    \n",
    "    for sentence in val_data:\n",
    "        model.zero_grad()\n",
    "        \n",
    "        inputs = inputTensor(sentence)\n",
    "        targets = targetTensor(sentence)\n",
    "        \n",
    "        preds = model(inputs)\n",
    "        loss = criterion(preds, targets)\n",
    "        val_cnt += 1\n",
    "        val_total_loss += loss\n",
    "\n",
    "        if val_cnt % print_every == 0:\n",
    "            val_total_loss /= print_every\n",
    "            val_losses.append(val_total_loss)\n",
    "#             uptime = time.time() - start_time\n",
    "#             print('%dm:%ds -- [%d, %d], loss: %f' % (uptime/60, uptime%60, epoch, train_cnt, total_loss.data[0]))\n",
    "            val_total_loss = 0\n",
    "scheduler.step()"
   ]
  },
  {
   "cell_type": "code",
   "execution_count": 17,
   "metadata": {
    "scrolled": true
   },
   "outputs": [],
   "source": [
    "def test(start_with, max_length, temperature=1):\n",
    "    model.hidden = model.init_hidden()\n",
    "    seq = str(start_with)\n",
    "    idx = []\n",
    "    \n",
    "    if len(start_with) > 1:\n",
    "        inputs = inputTensor(seq)\n",
    "        output = model(inputs)\n",
    "    \n",
    "    inputs = inputTensor(seq[-1])\n",
    "    \n",
    "    for i in range(max_length):\n",
    "        output = model(inputs)\n",
    "        #pr = F.softmax(output.data, 1)  //pytorch 3.0+\n",
    "        pr = F.softmax(output.data/temperature)\n",
    "        pr = pr.cpu().data.numpy().squeeze()\n",
    "        pred = np.random.choice(n_letters, 1, p=pr)\n",
    "        \n",
    "        seq += all_letters[pred[0]]\n",
    "        idx.append(pred[0])\n",
    "        inputs = inputTensor(seq[-1])\n",
    "    return seq, idx\n",
    "\n",
    "def teacher_forcing_test(sentence):\n",
    "    inputs = inputTensor(sentence)\n",
    "    output = model(inputs)\n",
    "    _, preds = torch.max(output.data, 1)\n",
    "    seq = [all_letters[pred] for pred in preds ]\n",
    "    return ''.join(seq)"
   ]
  },
  {
   "cell_type": "code",
   "execution_count": 56,
   "metadata": {},
   "outputs": [
    {
     "name": "stdout",
     "output_type": "stream",
     "text": [
      "Generated sequence: $\n",
      "X:1\n",
      "T: Liu tote obdariel and\n",
      "R:aise\n",
      "arand tham Oem\"LON Geanlais O'Deirle \\'O. Cehssinau\n",
      "C:Th Gabas Mel\n",
      "R:aimbamminll Limammay\n",
      "A:Sre hon Sto Asten Oe\"MDyatris Rost, The Gimmia bisoiphsco? nataian\n",
      "T:Bince\n",
      "R:on bonsa-r\n",
      "R:d:hr- be-ligd\n",
      "Z:id:hansoaptoit a ewmourd Rellgc.\n",
      "C:Bokle\n",
      "Z:id:hn-par0-09\n",
      "M:1/4\n",
      "L:1/8\n",
      "K:G\n",
      "n:mabs\n",
      "cdef e3 eG cdc | A2 :|\n",
      "|: d f=fe | e2fg ddB | c2d cB | G2 G>A B>A|cBAA | B2c Ad cB|c2 d2:|\n",
      "P:Varieqlanf6 :: 1\n",
      "|: D2G F>E | G4 F2 | G3 G3 |A3 GAGG | G4 :|\n",
      "V:rriattons\n",
      "V:1\n",
      "\"D\"Ac BB|A2 G2 F2 ||\n",
      "\"D>F2 E EF | G3F FGG) |\n",
      "A2GA B2A2 | GAB deg2 | e2e2 BddB | B6f2 |\n",
      "B2A2 A2e2 | d32 (a4b2 [bothainchon: 1\n",
      "B2 B2G2 D2A | AB c2 dc | \n",
      "d2 G2 G2AG | F2A | A3 |:\n",
      "V:D\n",
      "D2 ||\n",
      "#\n",
      "$\n",
      "X:8\n",
      "T:An the Bawmhancellanear (119-08e1\n",
      "Z:id:hn-air\n",
      "M:CAnn\n",
      "Z:id:hn-d-88\n",
      "Z:id:hn-al-15\n",
      "M:CHrazrine\n",
      "S:Nigin\n",
      "Z:id:hn-air-168\n",
      "M:2/4\n",
      "L:1/8\n",
      "K:\\\n",
      "#\n",
      "$\n",
      "X:16\n",
      "T:At, T:hr-Duvpgeiumoun\n",
      "R:ar at War Barche (Th Munles Chillo!che\n",
      "T:Pyaphill\n",
      "R:Branle\n",
      "L:\n"
     ]
    }
   ],
   "source": [
    "test_seq = val_data[0]\n",
    "start_char = test_seq[:10]\n",
    "\n",
    "seq, idx = test(start_char, 900)\n",
    "print('Generated sequence: %s' % (seq))\n",
    "#print('Sequence index: ', idx)\n",
    "#print('Test sequence: %s' % test_seq)"
   ]
  },
  {
   "cell_type": "code",
   "execution_count": 58,
   "metadata": {
    "scrolled": true
   },
   "outputs": [
    {
     "name": "stdout",
     "output_type": "stream",
     "text": [
      "Generated sequence: 2c2 dcde | ^d3e e2fd | B2F2 G22 |: A,2D,2 | G2E3G A,3G | D4B2B2 | \n",
      "G2AB B2A3B | G2A2 c2c2|c2Ac A3G |2\n",
      "A2GBBc | c6g | e2BBAF=G3- A2F2 D2DE | EGG B4A4 | \n",
      "d3 f3e | f2f ffe/^d2 B2B2g2 | c2B2 A2 | G2B4 G6 : \"C\"f2b2 a2 | bgB bfe | ffe=c2dB | G2 A3Bde g3g |\n",
      "feBc -2me2 a2b2g2 \\\n",
      "G2F2F2|D2G2 E2D | A4:|\n",
      "#\n",
      "$\n",
      "X:88\n",
      "T:Beamfou amcher Hor STo'linat Ohmain\n",
      "R:airaai tourad\n",
      "R:a nam, iallchien\n",
      "R:a:rancen obs Beua\n",
      "M:6/8\n",
      "L:1/8\n",
      "K:G\n",
      "xt V3 E3 | GAdg \n",
      "af g2 |\n",
      "e2 a2 t3 |\n",
      "A2 G2 (3e^fu | vbiiitto:: banl Cuilags Hach\n",
      "R:fral Ponant Mattrit Thar anc.\n",
      "Z:id:hn-trie- 1\n",
      "M:2/4\n",
      "L:2/8\n",
      "Q:114=10\n",
      "K:Am\n",
      "F2E |1\n",
      "D2G) G1 GDF  D/G/G/B/ | \n",
      "c2 c2 B2 | E2 c^c A8 :|\n",
      "#\n",
      "$\n",
      "X:6\n",
      "T:Binaneuizon peqitranchy\n",
      "R:donaifr\n",
      "C:Trince\n",
      "D:Clance\n",
      "R:o pronar\n",
      "Z:id:hn-jid-6\n",
      "M:1/8\n",
      "L:1/8\n",
      "T:Palad fis\n",
      "Z:id:hn-air patous drin verl doute pal Michigai ha\n",
      "R:air\n",
      "B\n",
      "K:A\n",
      "A>BGA | AAFE E2DE | \n",
      "E  D2E2 G2E2|D2De A2FE | F2E (3G. \n",
      "[ba2a2 |bab e2fd | B2dB d3B | A4A3A G2e2 | c3B B2GF | D6EG\n"
     ]
    }
   ],
   "source": [
    "test_seq = val_data[99]\n",
    "start_char = test_seq[:10]\n",
    "\n",
    "seq, idx = test(start_char, 900)\n",
    "print('Generated sequence: %s' % (seq))"
   ]
  },
  {
   "cell_type": "code",
   "execution_count": 48,
   "metadata": {},
   "outputs": [
    {
     "name": "stdout",
     "output_type": "stream",
     "text": [
      "Generated sequence: 1Z:14T:BTanpaun rn n  R:\n",
      "Test sequence: $\n",
      "X:1\n",
      "T: La Montfarine\n",
      "Z:\n"
     ]
    }
   ],
   "source": [
    "test_seq = val_data[0]\n",
    "seq = teacher_forcing_test(test_seq)\n",
    "print('Generated sequence: %s' % (seq))\n",
    "print('Test sequence: %s' % test_seq)"
   ]
  },
  {
   "cell_type": "code",
   "execution_count": 45,
   "metadata": {
    "collapsed": true
   },
   "outputs": [],
   "source": [
    "#save_model(model, 'full-model.pth')"
   ]
  },
  {
   "cell_type": "code",
   "execution_count": null,
   "metadata": {
    "collapsed": true
   },
   "outputs": [],
   "source": [
    "plt.figure()\n",
    "plt.plot(all_losses)"
   ]
  },
  {
   "cell_type": "code",
   "execution_count": 13,
   "metadata": {},
   "outputs": [
    {
     "data": {
      "text/plain": [
       "RNN (\n",
       "  (input2hidden): Linear (100 -> 30)\n",
       "  (lstm): LSTM(30, 30, num_layers=2, dropout=0.05)\n",
       "  (hidden2tag): Linear (30 -> 100)\n",
       ")"
      ]
     },
     "execution_count": 13,
     "metadata": {},
     "output_type": "execute_result"
    }
   ],
   "source": [
    "load_model(model, 'full-model.pth')\n"
   ]
  },
  {
   "cell_type": "code",
   "execution_count": 74,
   "metadata": {
    "scrolled": true
   },
   "outputs": [
    {
     "name": "stdout",
     "output_type": "stream",
     "text": [
      "Generated sequence: $n:\n",
      "z|G2 ED | FG F3-t -Aajb?Gc:Yaifn,\n",
      "Q:1/28-29\n",
      "Z:ig-\n",
      "AAGEG:|\n",
      "#\n",
      "$\n",
      "X:34\n",
      "T:Fig?i arNor Coten\n",
      "CE2n3\n",
      "S:Dammanteacquinnmo pl'Oviso pal Gtl daus\n",
      "Z:anpd T2ercon\n",
      "Qorkd e.A6d.\n",
      "O:mih tutenthd).s ar. Mish Ke. n, pomta:Anin a\n",
      "GeeG g3g | f4f6 a4 fecd |\n",
      "A3 A2E3|: F,3 :|\n",
      "#\n",
      "$\n",
      "X:23\n",
      "T:ores pr\n",
      "R:h-mommainarle habe oinn\n",
      "=d2 _edc|1GA B>ded | GAGAB | cBBGGF D2Cv:|\n",
      "#\n",
      "$\n",
      "X:68\n",
      "T:as?r\n",
      "Trad\n",
      "R:ou/ar\n",
      "R:crranc ca)\n",
      "Z:ad tovlonyavieranle ib'scrnas.Than'crrairhien| B6\n",
      "(B, EFgf ^=f2ag |dfb b2uh:|\n",
      "P:orthin vade-5^6\n",
      "O: E010\n",
      "D6i\n",
      "|: eB D3 | E4 g2 =e^^ma4bc |aced c>AB2 | \n",
      "A4A3 d4 BcB,2G,,DDEE | FAEF AC | AAGE G2Bd |dfde a^fd |  \n",
      "z2f2ee | G2>-2Gc ^d^Ac | B2GABA ||\n",
      "#\n",
      "$\n",
      "X:7E C=DDIN\n",
      "R:ain\n",
      "H:vaisel\n",
      "B:d joutialg\n",
      "R:aind?td\n",
      "D:hl'Wick pasir\n",
      "R:woulas.\n",
      "M:<c\n",
      "K:G\n",
      "A2A ABA (GFm\"\"EE/-F4 ||\n",
      "|:FAce e3e | G4 :1mz4|\\\n",
      "Z:TrMar Tobys ?M\n",
      "Z:id:hn-mii--6-1\n",
      "M:6/8\n",
      "K:F\n",
      "\"E4z \"F\"\n",
      "e2>edBGD Fd-B | BG (5z]GA-|\n",
      "A^dg2 ag'| g2g| g4b>f | a2 a e | f3gB4dB | 6deu2a2 | a8bab | c4 _efec |\n",
      "cFGB c2EB\n",
      "E2bCF |\n",
      "2BAG B2)GG | D3D F2F>A |\n",
      "<3c\"g>ggb|[aba\"{eff | ~e3vigehe :bairuMaSn~Kegmoumtuien'baviiluctaic.asd K\n",
      "Z:id:R-dal tousrat veat prasm\n",
      "Z:ie:hn-MGie\"10979)\n",
      "o:pin)\n",
      "O:1679oriongaf CE/sd0\n",
      "O:Dget cou-sh\n",
      "\"F8rob_n Vazasat\n",
      "R:in vit aindedch\n",
      "Z:id:hn- por\"-urad\n",
      "Z:id:hn-s-Far20165\n",
      "Z:id:hn-s-/d A)rd\n",
      "Z:pan H155r\n",
      "Z:id:/de/24\n",
      "M:2/4\n",
      "8\n",
      "K:G\n",
      "FG B |+4\n",
      "(Afa|bgrg2-ig\n",
      "g3ad d | a2^a2ef u!b,e2\n",
      "ab afaf | egef gbaca|\n",
      "a>fe_ g (3e/2ee ef | a3  fa ^f^ged | B3 B | d2g2 [d2ah 1 e^f ff d2 |2f2 f3> ge go| f2dF G\"_Vci<4u o biup fraceins:alban:gie.\n",
      "L:Garamamai' at uter pell.o \n",
      "Z:id:a esiothl\n",
      "E:vne\n",
      "C:byuill plr?wd Ibmadoobridtlelle Micwhal6'M/ar Vana)|g2B2 dfdef | d3'] z>z  c6 |cAF E F2Gd ||\n",
      "|: AFGG |\n",
      "A3 E\"AGt ieqnwa\n",
      "Q016\n",
      "Z:ran pratton ladhge a Matridq Fval's on Cep ubrih'gind Wamtin\n",
      "O:G'ar Ue chloe DaKidbnadne sed Chobd an dA#0 a\n",
      "R:'- dopslrid\"FAi'la\n",
      "H:veedeTo ospag\\ n.dh\n",
      "R:Brinnie\n",
      "D:\"Minenbley MoyeF, Hich.\\\n",
      "Q:D.\n",
      "L:G\n",
      "d Ad | B5A GA AA/G>G |\n",
      "G3 EA/2) | D2 C2 D2B| B3 A2 ^D c2 | =c\"1>dm| _g/2e/^2 |:c/a | gf/g/2z |f3_g | aa b'2 _f/8ab  e2 gB S232d=zp z21 !{ (dm\\i (\"MBIrm2 COTha\n",
      "u:dal Uilmma\n"
     ]
    }
   ],
   "source": [
    "test_seq = val_data[99]\n",
    "start_char = test_seq[:10]\n",
    "\n",
    "seq, idx = test('$', 2000, 1.5)\n",
    "print('Generated sequence: %s' % (seq))"
   ]
  },
  {
   "cell_type": "code",
   "execution_count": 28,
   "metadata": {},
   "outputs": [],
   "source": [
    "train_l = []\n",
    "val_l = []\n",
    "for i in all_losses:\n",
    "    train_l.append(i.data[0])\n",
    "\n",
    "for i in val_losses:\n",
    "    val_l.append(i.data[0])"
   ]
  },
  {
   "cell_type": "code",
   "execution_count": 29,
   "metadata": {},
   "outputs": [
    {
     "data": {
      "text/plain": [
       "[<matplotlib.lines.Line2D at 0x7ff90ae9e5f8>]"
      ]
     },
     "execution_count": 29,
     "metadata": {},
     "output_type": "execute_result"
    },
    {
     "data": {
      "image/png": "[encoded data removed]",
      "text/plain": [
       "<matplotlib.figure.Figure at 0x7ff90af37550>"
      ]
     },
     "metadata": {},
     "output_type": "display_data"
    }
   ],
   "source": [
    "plt.plot(train_l)"
   ]
  },
  {
   "cell_type": "code",
   "execution_count": 30,
   "metadata": {},
   "outputs": [
    {
     "data": {
      "text/plain": [
       "[<matplotlib.lines.Line2D at 0x7ff90ae57e48>]"
      ]
     },
     "execution_count": 30,
     "metadata": {},
     "output_type": "execute_result"
    },
    {
     "data": {
      "image/png": "[encoded data removed]",
      "text/plain": [
       "<matplotlib.figure.Figure at 0x7ff90aee3f98>"
      ]
     },
     "metadata": {},
     "output_type": "display_data"
    }
   ],
   "source": [
    "plt.plot(val_l)"
   ]
  },
  {
   "cell_type": "code",
   "execution_count": 39,
   "metadata": {},
   "outputs": [
    {
     "data": {
      "text/plain": [
       "[<matplotlib.lines.Line2D at 0x7ff90ad1f048>]"
      ]
     },
     "execution_count": 39,
     "metadata": {},
     "output_type": "execute_result"
    },
    {
     "data": {
      "image/png": "[encoded data removed]",
      "text/plain": [
       "<matplotlib.figure.Figure at 0x7ff90adbfac8>"
      ]
     },
     "metadata": {},
     "output_type": "display_data"
    }
   ],
   "source": [
    "avg_train = np.mean(np.array(train_l).reshape(-1, 9), axis=1)\n",
    "plt.plot(avg_train)"
   ]
  }
 ],
 "metadata": {
  "kernelspec": {
   "display_name": "Python 3",
   "language": "python",
   "name": "python3"
  },
  "language_info": {
   "codemirror_mode": {
    "name": "ipython",
    "version": 3
   },
   "file_extension": ".py",
   "mimetype": "text/x-python",
   "name": "python",
   "nbconvert_exporter": "python",
   "pygments_lexer": "ipython3",
   "version": "3.5.4"
  }
 },
 "nbformat": 4,
 "nbformat_minor": 2
}
