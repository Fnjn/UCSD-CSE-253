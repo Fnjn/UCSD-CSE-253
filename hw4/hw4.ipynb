{
 "cells": [
  {
   "cell_type": "code",
   "execution_count": 1,
   "metadata": {
    "collapsed": true
   },
   "outputs": [],
   "source": [
    "import torch\n",
    "import torch.autograd as autograd\n",
    "from torch.autograd import Variable\n",
    "import torch.nn as nn\n",
    "import torch.nn.functional as F\n",
    "import torch.optim as optim\n",
    "\n",
    "import string\n",
    "import numpy as np\n",
    "\n",
    "%matplotlib inline\n",
    "import matplotlib.pyplot as plt\n",
    "import matplotlib.ticker as ticker\n",
    "\n",
    "%load_ext autoreload\n",
    "%autoreload 2\n",
    "\n",
    "from rnn import RNN, PrepareData"
   ]
  },
  {
   "cell_type": "code",
   "execution_count": 2,
   "metadata": {
    "collapsed": true
   },
   "outputs": [],
   "source": [
    "dataset = PrepareData('input.txt', batch_size=30, val_ratio=0.2)\n",
    "train_data, val_data = dataset.dataset()"
   ]
  },
  {
   "cell_type": "code",
   "execution_count": 3,
   "metadata": {},
   "outputs": [
    {
     "name": "stdout",
     "output_type": "stream",
     "text": [
      "13073 3268\n",
      " dc | d2 Bd |\n",
      "B2d2 | B3B | GB/  B2G|\n",
      "~D3 D2A|A2G E2G|1 ABA G2\n"
     ]
    }
   ],
   "source": [
    "print(len(train_data), len(val_data))\n",
    "print(train_data[0], val_data[0])"
   ]
  },
  {
   "cell_type": "code",
   "execution_count": 5,
   "metadata": {
    "collapsed": true
   },
   "outputs": [],
   "source": [
    "#input_dim = 7\n",
    "hidden_dim = 20\n",
    "\n",
    "all_letters = string.printable\n",
    "n_letters = len(all_letters)\n",
    "\n",
    "model = RNN(n_letters, hidden_dim, n_letters)\n",
    "model = model.cuda()\n",
    "criterion = nn.CrossEntropyLoss()\n",
    "optimizer = torch.optim.Adam(model.parameters(), lr=0.00001)"
   ]
  },
  {
   "cell_type": "code",
   "execution_count": 6,
   "metadata": {
    "collapsed": true
   },
   "outputs": [],
   "source": [
    "def inputTensor(line):\n",
    "    tensor = torch.zeros(len(line), 1, n_letters)\n",
    "    for idx, letter in enumerate(line[:-1]):\n",
    "        tensor[idx][0][all_letters.find(letter)] = 1\n",
    "    return Variable(tensor.cuda())\n",
    "        \n",
    "def targetTensor(line):\n",
    "    letter_indexes = [all_letters.find(line[li]) for li in line[1:]]\n",
    "    return Variable(torch.LongTensor(letter_indexes).cuda())"
   ]
  },
  {
   "cell_type": "code",
   "execution_count": null,
   "metadata": {},
   "outputs": [
    {
     "name": "stdout",
     "output_type": "stream",
     "text": [
      "[0, 2000], loss: 131.791107\n",
      "[0, 4000], loss: 130.716431\n",
      "[0, 6000], loss: 129.476166\n",
      "[0, 8000], loss: 127.689384\n",
      "[0, 10000], loss: 125.668579\n",
      "[0, 12000], loss: 123.161575\n",
      "[1, 2000], loss: 119.516609\n",
      "[1, 4000], loss: 117.449081\n",
      "[1, 6000], loss: 115.565659\n",
      "[1, 8000], loss: 114.020439\n",
      "[1, 10000], loss: 112.319237\n",
      "[1, 12000], loss: 111.324867\n",
      "[2, 2000], loss: 109.563766\n",
      "[2, 4000], loss: 108.695984\n",
      "[2, 6000], loss: 108.117638\n",
      "[2, 8000], loss: 107.459076\n",
      "[2, 10000], loss: 107.260818\n",
      "[2, 12000], loss: 107.083755\n",
      "[3, 2000], loss: 106.395088\n"
     ]
    }
   ],
   "source": [
    "n_epochs = 10\n",
    "all_losses = []\n",
    "print_every = 2000\n",
    "\n",
    "for epoch in range(n_epochs):\n",
    "    train_cnt = 0\n",
    "    total_loss = 0.\n",
    "    \n",
    "    dataset.shuffle_data()\n",
    "    train_data, val_data = dataset.dataset()\n",
    "    \n",
    "    for sentence in train_data:\n",
    "        model.zero_grad()\n",
    "        model.hidden = model.init_hidden()\n",
    "        \n",
    "        loss = 0.\n",
    "        inputs = inputTensor(sentence)\n",
    "        targets = targetTensor(sentence)\n",
    "        \n",
    "        for i in range(len(sentence)-1):\n",
    "            preds = model(inputs[i])\n",
    "            loss += criterion(preds, targets[i])\n",
    "            \n",
    "        loss.backward()\n",
    "        optimizer.step()\n",
    "        total_loss += loss\n",
    "        train_cnt += 1\n",
    "        \n",
    "        if train_cnt % print_every == 0:\n",
    "            total_loss /= print_every\n",
    "            all_losses.append(total_loss)\n",
    "            print('[%d, %d], loss: %f' % (epoch, train_cnt, total_loss))\n",
    "            total_loss = 0"
   ]
  },
  {
   "cell_type": "code",
   "execution_count": null,
   "metadata": {
    "collapsed": true
   },
   "outputs": [],
   "source": [
    "max_length = 20\n",
    "\n",
    "test_sen = val_data[0]\n",
    "inputs = inputTensor(test_sen)\n",
    "for i in range(len(test_sen)-1):\n",
    "    output = model(inputs[i])\n",
    "    _, pred = torch.max(output.data, 1)\n",
    "    print(all_letters[int(pred)])\n",
    "print(test_sen)"
   ]
  },
  {
   "cell_type": "code",
   "execution_count": null,
   "metadata": {
    "collapsed": true
   },
   "outputs": [],
   "source": [
    "plt.figure()\n",
    "plt.plot(all_losses)"
   ]
  },
  {
   "cell_type": "code",
   "execution_count": null,
   "metadata": {
    "collapsed": true
   },
   "outputs": [],
   "source": []
  }
 ],
 "metadata": {
  "kernelspec": {
   "display_name": "Python 3",
   "language": "python",
   "name": "python3"
  },
  "language_info": {
   "codemirror_mode": {
    "name": "ipython",
    "version": 3
   },
   "file_extension": ".py",
   "mimetype": "text/x-python",
   "name": "python",
   "nbconvert_exporter": "python",
   "pygments_lexer": "ipython3",
   "version": "3.5.2"
  }
 },
 "nbformat": 4,
 "nbformat_minor": 2
}
