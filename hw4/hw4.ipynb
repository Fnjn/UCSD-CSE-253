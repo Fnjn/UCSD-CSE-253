{
 "cells": [
  {
   "cell_type": "code",
   "execution_count": 1,
   "metadata": {},
   "outputs": [],
   "source": [
    "import torch\n",
    "import torch.autograd as autograd\n",
    "from torch.autograd import Variable\n",
    "import torch.nn as nn\n",
    "import torch.nn.functional as F\n",
    "import torch.optim as optim\n",
    "\n",
    "import string\n",
    "import numpy as np\n",
    "\n",
    "%matplotlib inline\n",
    "import matplotlib.pyplot as plt\n",
    "import matplotlib.ticker as ticker\n",
    "\n",
    "%load_ext autoreload\n",
    "%autoreload 2\n",
    "\n",
    "from rnn import RNN, PrepareData"
   ]
  },
  {
   "cell_type": "code",
   "execution_count": 2,
   "metadata": {
    "collapsed": true
   },
   "outputs": [],
   "source": [
    "dataset = PrepareData('input.txt', batch_size=30, val_ratio=0.2)\n",
    "train_data, val_data = dataset.dataset()"
   ]
  },
  {
   "cell_type": "code",
   "execution_count": 3,
   "metadata": {},
   "outputs": [
    {
     "name": "stdout",
     "output_type": "stream",
     "text": [
      "13073 3268\n",
      "L:1/4\n",
      "K:F\n",
      "F | fff | f2e | ddd  n-barndance-11\n",
      "M:C|\n",
      "L:1/8\n",
      "K:D\n",
      "\n"
     ]
    }
   ],
   "source": [
    "print(len(train_data), len(val_data))\n",
    "print(train_data[0], val_data[0])"
   ]
  },
  {
   "cell_type": "code",
   "execution_count": 30,
   "metadata": {
    "collapsed": true
   },
   "outputs": [],
   "source": [
    "#input_dim = 7\n",
    "hidden_dim = 7\n",
    "\n",
    "all_letters = string.printable\n",
    "n_letters = len(all_letters)\n",
    "\n",
    "model = RNN(n_letters, hidden_dim, n_letters)\n",
    "model = model.cuda()\n",
    "criterion = nn.CrossEntropyLoss()\n",
    "optimizer = torch.optim.Adam(model.parameters(), lr=0.00005)"
   ]
  },
  {
   "cell_type": "code",
   "execution_count": 31,
   "metadata": {
    "collapsed": true
   },
   "outputs": [],
   "source": [
    "def inputTensor(line):\n",
    "    tensor = torch.zeros(len(line), 1, n_letters)\n",
    "    for li in range(len(line)):\n",
    "        letter = line[li]\n",
    "        tensor[li][0][all_letters.find(letter)] = 1\n",
    "    return Variable(tensor.cuda())\n",
    "        \n",
    "def targetTensor(line):\n",
    "    letter_indexes = [all_letters.find(line[li]) for li in range(1, len(line))]\n",
    "    letter_indexes.append(n_letters - 1)\n",
    "    return Variable(torch.LongTensor(letter_indexes).cuda())"
   ]
  },
  {
   "cell_type": "code",
   "execution_count": null,
   "metadata": {},
   "outputs": [
    {
     "name": "stdout",
     "output_type": "stream",
     "text": [
      "[0, 500], loss: 132.885757\n",
      "[0, 1000], loss: 131.669846\n",
      "[0, 1500], loss: 130.179596\n",
      "[0, 2000], loss: 127.294518\n",
      "[0, 2500], loss: 123.547668\n",
      "[0, 3000], loss: 119.999069\n",
      "[0, 3500], loss: 116.333557\n",
      "[0, 4000], loss: 113.134216\n",
      "[0, 4500], loss: 111.528671\n",
      "[0, 5000], loss: 110.183228\n",
      "[0, 5500], loss: 109.165802\n",
      "[0, 6000], loss: 107.766838\n",
      "[0, 6500], loss: 107.707375\n",
      "[0, 7000], loss: 106.555031\n",
      "[0, 7500], loss: 107.369011\n",
      "[0, 8000], loss: 107.365456\n",
      "[0, 8500], loss: 106.345200\n",
      "[0, 9000], loss: 106.037582\n",
      "[0, 9500], loss: 106.556557\n",
      "[0, 10000], loss: 106.358597\n",
      "[0, 10500], loss: 105.435791\n",
      "[0, 11000], loss: 106.147797\n",
      "[0, 11500], loss: 104.682114\n",
      "[0, 12000], loss: 105.323334\n",
      "[0, 12500], loss: 105.718254\n",
      "[0, 13000], loss: 105.167580\n",
      "[1, 500], loss: 104.775650\n",
      "[1, 1000], loss: 104.621872\n",
      "[1, 1500], loss: 105.871231\n"
     ]
    }
   ],
   "source": [
    "n_epochs = 2\n",
    "all_losses = []\n",
    "print_every = 500\n",
    "\n",
    "for epoch in range(n_epochs):\n",
    "    train_cnt = 0\n",
    "    total_loss = 0.\n",
    "    \n",
    "    dataset.shuffle_data()\n",
    "    train_data, val_data = dataset.dataset()\n",
    "    \n",
    "    for sentence in train_data:\n",
    "        model.zero_grad()\n",
    "        model.hidden = model.init_hidden()\n",
    "        \n",
    "        loss = 0.\n",
    "        inputs = inputTensor(sentence)\n",
    "        targets = targetTensor(sentence)\n",
    "        \n",
    "        for i in range(len(sentence)-1):\n",
    "            preds = model(inputs[i])\n",
    "            loss += criterion(preds, targets[i])\n",
    "            \n",
    "        loss.backward()\n",
    "        optimizer.step()\n",
    "        total_loss += loss\n",
    "        train_cnt += 1\n",
    "        \n",
    "        if train_cnt % print_every == 0:\n",
    "            total_loss /= print_every\n",
    "            all_losses.append(total_loss)\n",
    "            print('[%d, %d], loss: %f' % (epoch, train_cnt, total_loss))\n",
    "            total_loss = 0"
   ]
  },
  {
   "cell_type": "code",
   "execution_count": null,
   "metadata": {},
   "outputs": [],
   "source": [
    "max_length = 20\n",
    "\n",
    "test_sen = val_data[0]\n",
    "inputs = inputTensor(test_sen)\n",
    "for i in range(len(test_sen)-1):\n",
    "    output = model(inputs[i])\n",
    "    _, pred = torch.max(output.data, 1)\n",
    "    print(all_letters[int(pred)])\n",
    "print(test_sen)"
   ]
  },
  {
   "cell_type": "code",
   "execution_count": null,
   "metadata": {
    "collapsed": true
   },
   "outputs": [],
   "source": [
    "plt.figure()\n",
    "plt.plot(all_losses)"
   ]
  }
 ],
 "metadata": {
  "kernelspec": {
   "display_name": "Python 3",
   "language": "python",
   "name": "python3"
  },
  "language_info": {
   "codemirror_mode": {
    "name": "ipython",
    "version": 3
   },
   "file_extension": ".py",
   "mimetype": "text/x-python",
   "name": "python",
   "nbconvert_exporter": "python",
   "pygments_lexer": "ipython3",
   "version": "3.5.2"
  }
 },
 "nbformat": 4,
 "nbformat_minor": 2
}
